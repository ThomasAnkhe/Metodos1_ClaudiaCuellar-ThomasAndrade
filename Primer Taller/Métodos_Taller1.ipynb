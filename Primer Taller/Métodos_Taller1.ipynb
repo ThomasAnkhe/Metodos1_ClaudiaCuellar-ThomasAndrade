{
  "cells": [
    {
      "cell_type": "markdown",
      "metadata": {
        "id": "5EUlB-nOMpQL"
      },
      "source": [
        "> # **Métodos Computacionales I - Taller #1**\n",
        "\n",
        "Hecho por: Claudia Cuellar Nieto & Thomas Andrade Hernández\n"
      ]
    },
    {
      "cell_type": "code",
      "execution_count": null,
      "metadata": {
        "id": "tg2oJgkMOnU2"
      },
      "outputs": [],
      "source": [
        "# Zona de librerías:\n",
        "import urllib.request\n",
        "import matplotlib.pyplot as plt\n",
        "import matplotlib.animation as anim\n",
        "from matplotlib import rc\n",
        "from tqdm import tqdm\n",
        "from time import sleep\n",
        "import numpy as np\n",
        "import csv\n",
        "\n",
        "rc('animation', html='jshtml')"
      ]
    },
    {
      "cell_type": "markdown",
      "metadata": {
        "id": "COSvRN9tNGdr"
      },
      "source": [
        "> **2.0.1 Números factoriales:**\n",
        "\n",
        "1. Escriba una función que calcule el factorial de $n$, con $n \\in \\mathbb{N}$.\n",
        "\n",
        "$$n! = n \\cdot (n - 1) \\cdot (n - 2) \\cdot ... \\cdot 1$$\n",
        "\n",
        "Calcule los primeros 20 números factoriales.\n"
      ]
    },
    {
      "cell_type": "code",
      "execution_count": null,
      "metadata": {
        "colab": {
          "base_uri": "https://localhost:8080/"
        },
        "id": "AhZsdSSAQDH0",
        "outputId": "bc75ddfe-6dd7-4b8f-9355-fca9237dbf19"
      },
      "outputs": [
        {
          "name": "stdout",
          "output_type": "stream",
          "text": [
            "[{'El factorial de 0 es': 1}, {'El factorial de 1 es': 1}, {'El factorial de 2 es': 2}, {'El factorial de 3 es': 6}, {'El factorial de 4 es': 24}, {'El factorial de 5 es': 120}, {'El factorial de 6 es': 720}, {'El factorial de 7 es': 5040}, {'El factorial de 8 es': 40320}, {'El factorial de 9 es': 362880}, {'El factorial de 10 es': 3628800}, {'El factorial de 11 es': 39916800}, {'El factorial de 12 es': 479001600}, {'El factorial de 13 es': 6227020800}, {'El factorial de 14 es': 87178291200}, {'El factorial de 15 es': 1307674368000}, {'El factorial de 16 es': 20922789888000}, {'El factorial de 17 es': 355687428096000}, {'El factorial de 18 es': 6402373705728000}, {'El factorial de 19 es': 121645100408832000}, {'El factorial de 20 es': 2432902008176640000}]\n"
          ]
        }
      ],
      "source": [
        "def factorial(number):\n",
        "  value = 1\n",
        "  if number == 0:\n",
        "    value = 1\n",
        "  else:\n",
        "    for i in range(1, number + 1):\n",
        "      value = i*value\n",
        "  return value\n",
        "\n",
        "factorials_list = []\n",
        "\n",
        "for i in range (0, 21):\n",
        "  factorials = factorial(i)\n",
        "  factorials_list.append({\"El factorial de {} es\".format(i): factorials})\n",
        "  \n",
        "print(factorials_list)"
      ]
    },
    {
      "cell_type": "markdown",
      "metadata": {
        "id": "KFnuCx9rRuvT"
      },
      "source": [
        "\n",
        "> **2.0.2 Máximos:**\n",
        "\n",
        "1. Descargue los datos de: https://raw.githubusercontent.com/asegura4488/Database/main/MetodosComputacionalesReforma/EstrellaEspectro.txt. Diseñe un algoritmo\n",
        "para encontrar todos los máximos locales en esta serie de datos."
      ]
    },
    {
      "cell_type": "code",
      "execution_count": null,
      "metadata": {
        "colab": {
          "base_uri": "https://localhost:8080/",
          "height": 336
        },
        "id": "jAiFz80nSSyD",
        "outputId": "60d6b4e9-6e5a-4d3a-f3fb-e11be67974bd"
      },
      "outputs": [
        {
          "name": "stdout",
          "output_type": "stream",
          "text": [
            "[1.036267, 1.03554, 1.024369, 1.045406, 1.012803, 1.030349, 1.015571, 1.035833, 1.017348, 1.02287, 1.013802, 1.020233, 1.034254, 1.02666, 1.014296, 1.024395, 1.040716, 1.027063, 1.039316, 1.060527, 1.051431, 1.089617, 1.330906, 1.032746, 1.031765, 1.068328, 1.102898, 1.064289, 1.040364, 1.079907, 1.000827, 1.089922, 1.030706, 1.025699, 0.9971942, 1.008569, 1.041762, 1.028908, 1.029255, 1.147828, 1.657519]\n"
          ]
        },
        {
          "data": {
            "text/plain": [
              "Text(0.5, 1.0, 'Espectro de estrella.')"
            ]
          },
          "execution_count": 27,
          "metadata": {},
          "output_type": "execute_result"
        },
        {
          "data": {
            "image/png": "[encoded data removed]",
            "text/plain": [
              "<Figure size 432x288 with 1 Axes>"
            ]
          },
          "metadata": {
            "needs_background": "light"
          },
          "output_type": "display_data"
        }
      ],
      "source": [
        "url = \"https://raw.githubusercontent.com/asegura4488/Database/main/MetodosComputacionalesReforma/EstrellaEspectro.txt\"\n",
        "filename = \"DatosMaximo.txt\"\n",
        "urllib.request.urlretrieve(url, filename)\n",
        "data = np.loadtxt(filename)\n",
        "plt.plot(data[:,0],data[:,1])\n",
        "graphics_data = []\n",
        "\n",
        "for i in data:\n",
        "    graphics_data.append([float(i[0]), float(i[1])])\n",
        "\n",
        "\n",
        "marker_x = []\n",
        "marker_y = []\n",
        "y = []\n",
        "x = []\n",
        "\n",
        "for i in graphics_data:\n",
        "  mark = graphics_data.index(i)\n",
        "  y.append(i[1])\n",
        "  x.append(i[0])\n",
        "\n",
        "  if mark != 0 and mark != len(graphics_data)-1:\n",
        "    last = graphics_data[mark - 1]\n",
        "    next = graphics_data[mark + 1]\n",
        "\n",
        "    if last[1] < i[1] and next[1] < i[1]:\n",
        "      marker_x.append(i[0])\n",
        "      marker_y.append(i[1])\n",
        "\n",
        "plt.plot(x,y,color='c')\n",
        "plt.axis([min(x) - 0.01, max(x) + 0.01, min(y)-0.1, max(y) + 0.1]) \n",
        "plt.plot(marker_x,marker_y,\"o\",color='r')\n",
        "plt.title('Espectro de estrella.')"
      ]
    },
    {
      "cell_type": "markdown",
      "metadata": {
        "id": "6xBPr8OGw8dh"
      },
      "source": [
        "**2.0.3 Sucesión de Fibonacci:**\n",
        "1. La sucesión de Fibonnaci está definida por la siguiente definición recurrente:\n",
        "\n",
        "$$f_0=0$$\n",
        "$$f_1=1$$\n",
        "$$f_n=f_{n-1}+f_{n-2}$$\n",
        "\n",
        "Encuentre los primeros 20 terminos de esta sucesión."
      ]
    },
    {
      "cell_type": "code",
      "execution_count": null,
      "metadata": {
        "colab": {
          "base_uri": "https://localhost:8080/"
        },
        "id": "QECfF4HaxTr0",
        "outputId": "ce868443-fdf0-4160-d157-8708364c6b7e"
      },
      "outputs": [
        {
          "name": "stdout",
          "output_type": "stream",
          "text": [
            "El 1° término de la sucesión es: 1\n",
            "El 2° término de la sucesión es: 1\n",
            "El 3° término de la sucesión es: 2\n",
            "El 4° término de la sucesión es: 3\n",
            "El 5° término de la sucesión es: 5\n",
            "El 6° término de la sucesión es: 8\n",
            "El 7° término de la sucesión es: 13\n",
            "El 8° término de la sucesión es: 21\n",
            "El 9° término de la sucesión es: 34\n",
            "El 10° término de la sucesión es: 55\n",
            "El 11° término de la sucesión es: 89\n",
            "El 12° término de la sucesión es: 144\n",
            "El 13° término de la sucesión es: 233\n",
            "El 14° término de la sucesión es: 377\n",
            "El 15° término de la sucesión es: 610\n",
            "El 16° término de la sucesión es: 987\n",
            "El 17° término de la sucesión es: 1597\n",
            "El 18° término de la sucesión es: 2584\n",
            "El 19° término de la sucesión es: 4181\n",
            "El 20° término de la sucesión es: 6765\n"
          ]
        }
      ],
      "source": [
        "def fibbonacci(n):\n",
        "    if n > 1:\n",
        "        return fibbonacci(n-1) + fibbonacci(n-2)\n",
        "    return n\n",
        "\n",
        "sequence_list = []\n",
        "for i in range (1, 21):\n",
        "  n_term = fibbonacci(i)\n",
        "  sequence_list.append(n_term)\n",
        "  print(\"El {}° término de la sucesión es: {}\".format(i, n_term))"
      ]
    },
    {
      "cell_type": "markdown",
      "metadata": {
        "id": "yEA69DA4362Y"
      },
      "source": [
        "2. Graficar la sucesión de Fibonnaci."
      ]
    },
    {
      "cell_type": "code",
      "execution_count": null,
      "metadata": {
        "colab": {
          "base_uri": "https://localhost:8080/",
          "height": 298
        },
        "id": "jCjbdGHY33Rh",
        "outputId": "d3322314-6e89-4e7a-d058-088886befd0d"
      },
      "outputs": [
        {
          "data": {
            "text/plain": [
              "<matplotlib.legend.Legend at 0x7f8947a4cd90>"
            ]
          },
          "execution_count": 22,
          "metadata": {},
          "output_type": "execute_result"
        },
        {
          "data": {
            "image/png": "[encoded data removed]",
            "text/plain": [
              "<Figure size 432x288 with 1 Axes>"
            ]
          },
          "metadata": {
            "needs_background": "light"
          },
          "output_type": "display_data"
        }
      ],
      "source": [
        "y = np.array(sequence_list)\n",
        "x = np.arange(1,21)\n",
        "plt.plot(x,y,color='g')\n",
        "plt.axis([0, 20.5, 0, 7000]) # Límites de ejes ([xmin, xmax, ymin, ymax])\n",
        "plt.title('Sucesión de Fibbonacci.')\n",
        "plt.plot(6500, label = \"Sucesión\", color='g')\n",
        "plt.legend(loc=\"upper left\") "
      ]
    },
    {
      "cell_type": "markdown",
      "metadata": {
        "id": "anFWeQSGBiA7"
      },
      "source": [
        "3. El número aureo está dado por:\n",
        "$$ \\phi = \\frac{1+\\sqrt5}{2}$$\n",
        "\n",
        "La sucesión de Fibonnaci se relaciona con este número de la siguiente forma:\n",
        "$$ \\phi = \\lim_{n\\to ∞} \\frac{f_{n+1}}{f_n}$$\n",
        "\n",
        "Usando la sucesión de números de Fibonnaci, calcular el número aureo y comparar con el valor exacto."
      ]
    },
    {
      "cell_type": "code",
      "execution_count": null,
      "metadata": {
        "colab": {
          "base_uri": "https://localhost:8080/"
        },
        "id": "T0OqdVxMMLRn",
        "outputId": "356aeafa-7fbf-4ad5-b563-e3b3e1e5a986"
      },
      "outputs": [
        {
          "name": "stdout",
          "output_type": "stream",
          "text": [
            "El número áureo calculado es 1.6180339985218033\n"
          ]
        }
      ],
      "source": [
        "number_list = []\n",
        "\n",
        "for i in range (2, 22):\n",
        "  n_term = fibbonacci(i) / fibbonacci(i-1)\n",
        "  number_list.append(n_term)\n",
        "\n",
        "print(\"El número áureo calculado es {}\".format(number_list[-1]))"
      ]
    },
    {
      "cell_type": "code",
      "execution_count": null,
      "metadata": {
        "colab": {
          "base_uri": "https://localhost:8080/",
          "height": 298
        },
        "id": "8AhV1bp-pJgB",
        "outputId": "3f6cd37c-0fc8-4088-a890-6a7b29f276e3"
      },
      "outputs": [
        {
          "data": {
            "text/plain": [
              "<matplotlib.legend.Legend at 0x7f896c047490>"
            ]
          },
          "execution_count": 24,
          "metadata": {},
          "output_type": "execute_result"
        },
        {
          "data": {
            "image/png": "[encoded data removed]",
            "text/plain": [
              "<Figure size 432x288 with 1 Axes>"
            ]
          },
          "metadata": {
            "needs_background": "light"
          },
          "output_type": "display_data"
        }
      ],
      "source": [
        "y = np.array(number_list)\n",
        "x = np.arange(1,21)\n",
        "plt.plot(x,y,color='g')\n",
        "plt.axis([0, 20.5, 0.9, 2.1]) # Límites de ejes ([xmin, xmax, ymin, ymax])\n",
        "plt.title('Número aureo.')\n",
        "plt.axhline(ls='--',color='r',y=(1+np.sqrt(5))/2)\n",
        "plt.plot(2.0, label = \"Estimación usando al serie\", color='g')\n",
        "plt.plot(2.0, label = \"Número aureo\", color='r',ls='--')\n",
        "plt.legend()\n"
      ]
    },
    {
      "cell_type": "markdown",
      "metadata": {
        "id": "15rJ_2-u285b"
      },
      "source": [
        "> **2.0.8 Choques de duración finita:**\n",
        "\n",
        "Utilice el template de la clase partícula vista en clase para simular una colisión de duración finita. Para la interacción de las dos partículas use la siguiente fuerza de contacto (Landau-Lifshitz volumen 7):\n",
        "\n",
        "$$\\vec{f}(\\vec{r}_1, \\vec{r}_2) = \n",
        "\\left\\{\n",
        "\\begin{array}{cls}\n",
        "  K \\cdot \\lvert \\vec{r}_1 - \\vec{r}_2 \\rvert^3 \\cdot \\hat{n} \\quad \\text{ si } \\quad \\lvert \\vec{r}_1 - \\vec{r}_2 \\rvert < R_1 = R_2\\\\\n",
        "  0 \\quad \\text{en cualquier otro caso.}\n",
        "  \\end{array}\n",
        "\\right.\n",
        "$$\n",
        "\n",
        "donde $R_1, R_2$ son los radios de las esferas y $\\hat{n}$ es el vector normal al plano de contacto. Usar $K = 100 N/m^3$, $m = 1 kg$ y $R_1 = R_2 = 2 m$. Use las siguientes condiciones iniciales:\n",
        "\n",
        "> **Bola 1:**\n",
        "$$ \\vec{r}_0 = (-15, 1) $$\n",
        "$$ \\vec{v}_0 = (10, 0) $$\n",
        "$$ \\vec{a}_0 = (0, 0) $$\n",
        "\n",
        "\n",
        "> **Bola 2:**\n",
        "$$ \\vec{r}_0 = (0, -15) $$\n",
        "$$ \\vec{v}_0 = (0, 0) $$\n",
        "$$ \\vec{a}_0 = (0, 0) $$\n",
        "\n",
        "\n",
        "1. Crear el método de clase que calcule la fuerza entre partículas en la clase Particle. Recuerde que un cuerpo no se puede aplicar fuerza a si mismo. Cada vez que se avance en el tiempo, debe reiniciar la fuerza y la aceleración a cero, y verificar las paredes (mirar video en bloque-neón).\n"
      ]
    },
    {
      "cell_type": "code",
      "execution_count": null,
      "metadata": {
        "id": "vQBioTqe5IB3"
      },
      "outputs": [],
      "source": []
    },
    {
      "cell_type": "markdown",
      "metadata": {
        "id": "56zR2UfXxQiH"
      },
      "source": [
        "**2.   ¿Qué significa físicamente el valor de K?**\n",
        "\n",
        "**Respuesta:**\n"
      ]
    },
    {
      "cell_type": "markdown",
      "metadata": {
        "id": "RHxlk3kixh-o"
      },
      "source": [
        "> **Derivación:**\n",
        "\n",
        "**(Theoretical)** Show that the $D^{4}f$ operator is given by:\n",
        "\n",
        "$$D^{4} f(x_i) = \\frac{f(x_{j + 2}) - 4\\cdot f(x_{j + 1}) + 6 \\cdot f(x_j) - 4 \\cdot f(x_{j - 1}) + f(x_{j - 2})}{h^{4}}$$\n",
        "\n",
        "For this operator, what is the order $(\\mathcal{O}(h^{k}))$ of the approximation?\n",
        "\n",
        "\n"
      ]
    },
    {
      "cell_type": "markdown",
      "metadata": {
        "id": "b1CmNS2pRdzT"
      },
      "source": [
        "**Respuesta:** Como se desarrolló en clase una derivada numérica puede deducirse a partir de la expansión de la serie de Taylor. Sin embargo, nos enfocaremos en la estimación dada para una derivada progresiva, cuya expresión para su primera iteración está dada por, \n",
        "\n",
        "$$ f'(x) = \\frac {f(x+h) - f(x)}{h}$$\n",
        "\n",
        "Así, podemos genralizar dicho concepto para cualquier iteración y expresar la cuarta derivada de una función como,\n",
        "\n",
        "$$ f^4(x) = \\frac {f'''(x+h) - f'''(x)}{h^2} = \\frac {f'''(x+2h) - 2f''(x+h) + f''(x)}{h^2} $$\n",
        "\n",
        "Desarrollando cada término obtenemos que,\n",
        "\n",
        "$$f'''(x+2h) = \\frac{f(x+4h) - 2f(x+3h) + 2f(x+2h) +f(x)}{h^2}$$ \\\n",
        "$$f''(x+h) = \\frac{f(x+3h) - 2f(x+2h) + f(x+h)}{h^2}$$\\\n",
        "$$f''(x) = \\frac{f(x+h) - 2f(x) + f(x-h)}{h^2}$$\\\n",
        "$$ f^4(x) = \\frac {f(x+4h) - 4f(x+3h) + 6f(x+2h) - 4f(x+h) + f(x)}{h^4} $$\n",
        "\n",
        "Ahora bien, reescribimos dicha expresión usando la discretización de puntos nodales equi-espaciados $x_j = x_0 + jh$.\n",
        "\n",
        "$$ f^4(x) = \\frac {f(x_4) - 4f(x_3) + 6f(x_2) - 4f(x_1) + f(x_0)}{h^4} $$\n",
        "\n",
        "Sin embargo, podemos escribir dicha notación de otra manera usando el concepto de Kernel y derivada central. Nuestro objetivo principal es hallar la mejor estimación para una cuarta derivada, lo cual es hallar su derivada central dado un Kernel específico. Dadas las expresiones para las derivadas su respectivo Kernel estaría ubicado en $f(x_2)$. A partir de esto, reescribimos la expresión\n",
        "\n",
        "$$ f^4(x) = \\frac {f(x_{j+2}) - 4f(x_{j+1}) + 6f(x_j) - 4f(x_{j-1}) + f(x_{j-2})}{h^4} $$\n",
        "\n",
        "Por ende, queda mostrado que la cuarta derivada cumple con la expresión dada. Respecto al orden de la estimación, ésta será del orden $(\\mathcal{O}(h^{4}))$ ya que el primer orden estará dado por la expresión de la primera derivada usando la expansión de Taylor,\n",
        "\n",
        "$$ f'(x) = \\frac {f(x+h) - f(x)}{h} - \\underbrace{\\frac{h^2}{2!}f''(x)}_{\\mathcal{O}(h)}$$\n",
        "\n",
        "Como la serie de Taylor avanzará de forma continua continua, el exponente de dicha aproximación lo hará de igual manera.\n"
      ]
    },
    {
      "cell_type": "markdown",
      "metadata": {
        "id": "s9EFMvi86cl0"
      },
      "source": [
        "\n",
        "\n",
        "> **Campo de Velocidades:**\n",
        "\n",
        "Calcular el campo de velocidades cerca de la superficie de un cilindro de radio $R = 2$ cm. Para esta tarea realizar los siguientes pasos:\n",
        "\n",
        "\n"
      ]
    },
    {
      "cell_type": "markdown",
      "metadata": {
        "id": "O7SOOlzd7X-Y"
      },
      "source": [
        "**a)** Definir una discretización en los ejes $x$ e $y$, donde la región es: $A \\in [-4, 4]$ con $25$ puntos en cada eje."
      ]
    },
    {
      "cell_type": "markdown",
      "metadata": {
        "id": "G5d8AKo1XKbi"
      },
      "source": [
        ">**Raíces de polinomios.**\n",
        "Calcular todas las raíces reales de \n",
        "$$f(x) = 3x^5 + 5x^4 - x^3$$"
      ]
    },
    {
      "cell_type": "code",
      "execution_count": null,
      "metadata": {
        "colab": {
          "base_uri": "https://localhost:8080/"
        },
        "id": "PP8E7S6bY0td",
        "outputId": "626a6ecd-1d7e-422f-c4a1-309b675fdfe2"
      },
      "outputs": [
        {
          "name": "stdout",
          "output_type": "stream",
          "text": [
            "[0.0]\n"
          ]
        }
      ],
      "source": [
        "x = np.linspace(0,100000,200)\n",
        "roots = []\n",
        "\n",
        "def Derivate(x):\n",
        "  return (15*(x**4) + 20*(x**3) - 3*(x**2))\n",
        "\n",
        "for i in x:\n",
        "  if Derivate(i) == 0:\n",
        "    roots.append(i)\n",
        "\n",
        "print(roots)\n",
        "  "
      ]
    }
  ],
  "metadata": {
    "colab": {
      "provenance": []
    },
    "kernelspec": {
      "display_name": "Python 3",
      "language": "python",
      "name": "python3"
    },
    "language_info": {
      "name": "python",
      "version": "3.10.8"
    },
    "vscode": {
      "interpreter": {
        "hash": "0af4f2c9c0a2840e15ec1e3955baa2d8289022cf6ae1d6cc05b182c20ed9389b"
      }
    }
  },
  "nbformat": 4,
  "nbformat_minor": 0
}
