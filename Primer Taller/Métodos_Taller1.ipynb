{
  "cells": [
    {
      "cell_type": "markdown",
      "metadata": {
        "id": "5EUlB-nOMpQL"
      },
      "source": [
        "> # **Métodos Computacionales I - Taller #1**\n",
        "\n",
        "Hecho por: Claudia Cuellar Nieto & Thomas Andrade Hernández\n"
      ]
    },
    {
      "cell_type": "code",
      "execution_count": 2,
      "metadata": {
        "id": "tg2oJgkMOnU2"
      },
      "outputs": [],
      "source": [
        "# Zona de librerías:\n",
        "\n",
        "import matplotlib.pyplot as plt\n",
        "import matplotlib.animation as anim\n",
        "from matplotlib import rc\n",
        "from tqdm import tqdm\n",
        "from time import sleep\n",
        "import numpy as np\n",
        "import csv\n",
        "\n",
        "rc('animation', html='jshtml')"
      ]
    },
    {
      "cell_type": "markdown",
      "metadata": {
        "id": "COSvRN9tNGdr"
      },
      "source": [
        "> **2.0.1 Números factoriales:**\n",
        "\n",
        "1. Escriba una función que calcule el factorial de $n$, con $n \\in \\mathbb{N}$.\n",
        "\n",
        "$$n! = n \\cdot (n - 1) \\cdot (n - 2) \\cdot ... \\cdot 1$$\n",
        "\n",
        "Calcule los primeros 20 números factoriales.\n"
      ]
    },
    {
      "cell_type": "code",
      "execution_count": 3,
      "metadata": {
        "colab": {
          "base_uri": "https://localhost:8080/"
        },
        "id": "AhZsdSSAQDH0",
        "outputId": "8af7d226-d84f-4961-dc21-bbebda8823d8"
      },
      "outputs": [
        {
          "name": "stdout",
          "output_type": "stream",
          "text": [
            "El factorial de 0 es: 1\n",
            "El factorial de 1 es: 1\n",
            "El factorial de 2 es: 2\n",
            "El factorial de 3 es: 6\n",
            "El factorial de 4 es: 24\n",
            "El factorial de 5 es: 120\n",
            "El factorial de 6 es: 720\n",
            "El factorial de 7 es: 5040\n",
            "El factorial de 8 es: 40320\n",
            "El factorial de 9 es: 362880\n",
            "El factorial de 10 es: 3628800\n",
            "El factorial de 11 es: 39916800\n",
            "El factorial de 12 es: 479001600\n",
            "El factorial de 13 es: 6227020800\n",
            "El factorial de 14 es: 87178291200\n",
            "El factorial de 15 es: 1307674368000\n",
            "El factorial de 16 es: 20922789888000\n",
            "El factorial de 17 es: 355687428096000\n",
            "El factorial de 18 es: 6402373705728000\n",
            "El factorial de 19 es: 121645100408832000\n",
            "El factorial de 20 es: 2432902008176640000\n"
          ]
        }
      ],
      "source": [
        "def factorial(number):\n",
        "  value = 1\n",
        "  if number == 0:\n",
        "    value = 1\n",
        "  else:\n",
        "    for i in range(1, number + 1):\n",
        "      value = i*value\n",
        "  return value\n",
        "\n",
        "factorials_list = []\n",
        "\n",
        "for i in range (0, 21):\n",
        "  factorials = factorial(i)\n",
        "  print(\"El factorial de {} es: {}\".format(i, factorials))"
      ]
    },
    {
      "cell_type": "markdown",
      "metadata": {
        "id": "KFnuCx9rRuvT"
      },
      "source": [
        "\n",
        "> **2.0.2 Máximos:**\n",
        "\n",
        "1. Descargue los datos de: https://raw.githubusercontent.com/asegura4488/Database/main/MetodosComputacionalesReforma/EstrellaEspectro.txt. Diseñe un algoritmo\n",
        "para encontrar todos los máximos locales en esta serie de datos."
      ]
    },
    {
      "cell_type": "code",
      "execution_count": 4,
      "metadata": {
        "colab": {
          "base_uri": "https://localhost:8080/",
          "height": 235
        },
        "id": "jAiFz80nSSyD",
        "outputId": "a47aafd1-4ae3-4e43-de00-146c529eb38c"
      },
      "outputs": [],
      "source": [
        "#f= open(\"EstrellaEspectro.csv\")\n",
        "#reader = csv.reader(f)\n",
        "#graphics_data = []\n",
        "#for row in reader:\n",
        "  #coordinates = row[0].split(\"  \")\n",
        "  #graphics_data.append(coordinates)\n",
        "\n",
        "# Nota: En la variable llamada \"graphics_data\" encontrarás una lista con listas, en las más chicas encontraras dos entradas, la coordenada x y la y. Usa esa organización (o modificala) para hacer el punto.\n",
        "graphics_data=[[1,2],[2,3],[1,2],[4,5]]\n",
        "anterior=[0,0]\n",
        "max=[]\n",
        "\n",
        "for i in graphics_data:\n",
        "  indice=graphics_data.index(i)+1\n",
        "  #siguiente=i[indice]\n",
        "  #Mientras que el indice del siguiente no sea el ultimo de la lista.\n",
        "  while indice<len(graphics_data):\n",
        "    a=i[1]>anterior[1]\n",
        "    #b=<mayor[1]\n",
        "\n",
        "  #if a:\n",
        "    max.append(i)\n",
        "    anterior=i\n",
        "\n",
        "print(mayor)"
      ]
    },
    {
      "cell_type": "markdown",
      "metadata": {
        "id": "6xBPr8OGw8dh"
      },
      "source": [
        "**2.0.3 Sucesión de Fibonacci:**\n",
        "1. La sucesión de Fibonnaci está definida por la siguiente definición recurrente:\n",
        "\n",
        "$$f_0=0$$\n",
        "$$f_1=1$$\n",
        "$$f_n=f_{n-1}+f_{n-2}$$\n",
        "\n",
        "Encuentre los primeros 20 terminos de esta sucesión."
      ]
    },
    {
      "cell_type": "code",
      "execution_count": null,
      "metadata": {
        "colab": {
          "base_uri": "https://localhost:8080/"
        },
        "id": "QECfF4HaxTr0",
        "outputId": "fd431059-6091-47b7-ac51-0bc5daf98b12"
      },
      "outputs": [
        {
          "name": "stdout",
          "output_type": "stream",
          "text": [
            "El 1° término de la sucesión es: 1\n",
            "El 2° término de la sucesión es: 1\n",
            "El 3° término de la sucesión es: 2\n",
            "El 4° término de la sucesión es: 3\n",
            "El 5° término de la sucesión es: 5\n",
            "El 6° término de la sucesión es: 8\n",
            "El 7° término de la sucesión es: 13\n",
            "El 8° término de la sucesión es: 21\n",
            "El 9° término de la sucesión es: 34\n",
            "El 10° término de la sucesión es: 55\n",
            "El 11° término de la sucesión es: 89\n",
            "El 12° término de la sucesión es: 144\n",
            "El 13° término de la sucesión es: 233\n",
            "El 14° término de la sucesión es: 377\n",
            "El 15° término de la sucesión es: 610\n",
            "El 16° término de la sucesión es: 987\n",
            "El 17° término de la sucesión es: 1597\n",
            "El 18° término de la sucesión es: 2584\n",
            "El 19° término de la sucesión es: 4181\n",
            "El 20° término de la sucesión es: 6765\n"
          ]
        }
      ],
      "source": [
        "def fibbonacci(n):\n",
        "    if n > 1:\n",
        "        return fibbonacci(n-1) + fibbonacci(n-2)\n",
        "    return n\n",
        "\n",
        "sequence_list = []\n",
        "for i in range (1, 21):\n",
        "  n_term = fibbonacci(i)\n",
        "  sequence_list.append(n_term)\n",
        "  print(\"El {}° término de la sucesión es: {}\".format(i, n_term))"
      ]
    },
    {
      "cell_type": "markdown",
      "metadata": {
        "id": "yEA69DA4362Y"
      },
      "source": [
        "2. Graficar la sucesión de Fibonnaci."
      ]
    },
    {
      "cell_type": "code",
      "execution_count": null,
      "metadata": {
        "colab": {
          "base_uri": "https://localhost:8080/",
          "height": 298
        },
        "id": "jCjbdGHY33Rh",
        "outputId": "843525ac-f976-4a69-b565-6491b6fcba40"
      },
      "outputs": [
        {
          "data": {
            "text/plain": [
              "<matplotlib.legend.Legend at 0x7f2a0793f160>"
            ]
          },
          "execution_count": 8,
          "metadata": {},
          "output_type": "execute_result"
        },
        {
          "data": {
            "image/png": "[encoded data removed]",
            "text/plain": [
              "<Figure size 432x288 with 1 Axes>"
            ]
          },
          "metadata": {
            "needs_background": "light"
          },
          "output_type": "display_data"
        }
      ],
      "source": [
        "y = np.array(sequence_list)\n",
        "x = np.arange(1,21)\n",
        "plt.plot(x,y,color='g')\n",
        "plt.axis([0, 20.5, 0, 7000]) # Límites de ejes ([xmin, xmax, ymin, ymax])\n",
        "plt.title('Sucesión de Fibbonacci.')\n",
        "plt.plot(6500, label = \"Sucesión\", color='g')\n",
        "plt.legend(loc=\"upper left\") "
      ]
    },
    {
      "cell_type": "markdown",
      "metadata": {
        "id": "anFWeQSGBiA7"
      },
      "source": [
        "3. El número aureo está dado por:\n",
        "$$ \\phi = \\frac{1+\\sqrt5}{2}$$\n",
        "\n",
        "La sucesión de Fibonnaci se relaciona con este número de la siguiente forma:\n",
        "$$ \\phi = \\lim_{n\\to ∞} \\frac{f_{n+1}}{f_n}$$\n",
        "\n",
        "Usando la sucesión de números de Fibonnaci, calcular el número aureo y comparar con el valor exacto."
      ]
    },
    {
      "cell_type": "code",
      "execution_count": null,
      "metadata": {
        "colab": {
          "base_uri": "https://localhost:8080/"
        },
        "id": "T0OqdVxMMLRn",
        "outputId": "d6f7961d-e4da-46f3-e8b5-f5510e6fd540"
      },
      "outputs": [
        {
          "name": "stdout",
          "output_type": "stream",
          "text": [
            "El número áureo calculado es 1.6180339985218033\n"
          ]
        }
      ],
      "source": [
        "number_list = []\n",
        "\n",
        "for i in range (2, 22):\n",
        "  n_term = fibbonacci(i) / fibbonacci(i-1)\n",
        "  number_list.append(n_term)\n",
        "\n",
        "print(\"El número áureo calculado es {}\".format(number_list[-1]))"
      ]
    },
    {
      "cell_type": "code",
      "execution_count": null,
      "metadata": {
        "colab": {
          "base_uri": "https://localhost:8080/",
          "height": 298
        },
        "id": "8AhV1bp-pJgB",
        "outputId": "ae27285c-d7e0-43fa-c122-f00c67e9799c"
      },
      "outputs": [
        {
          "data": {
            "text/plain": [
              "<matplotlib.legend.Legend at 0x7f2a07912670>"
            ]
          },
          "execution_count": 10,
          "metadata": {},
          "output_type": "execute_result"
        },
        {
          "data": {
            "image/png": "[encoded data removed]",
            "text/plain": [
              "<Figure size 432x288 with 1 Axes>"
            ]
          },
          "metadata": {
            "needs_background": "light"
          },
          "output_type": "display_data"
        }
      ],
      "source": [
        "y = np.array(number_list)\n",
        "x = np.arange(1,21)\n",
        "plt.plot(x,y,color='g')\n",
        "plt.axis([0, 20.5, 0.9, 2.1]) # Límites de ejes ([xmin, xmax, ymin, ymax])\n",
        "plt.title('Número aureo.')\n",
        "plt.axhline(ls='--',color='r',y=(1+np.sqrt(5))/2)\n",
        "plt.plot(2.0, label = \"Estimación usando al serie\", color='g')\n",
        "plt.plot(2.0, label = \"Número aureo\", color='r',ls='--')\n",
        "plt.legend()\n"
      ]
    },
    {
      "cell_type": "markdown",
      "metadata": {
        "id": "15rJ_2-u285b"
      },
      "source": [
        "> **2.0.8 Choques de duración finita:**\n",
        "\n",
        "Utilice el template de la clase partícula vista en clase para simular una colisión de duración finita. Para la interacción de las dos partículas use la siguiente fuerza de contacto (Landau-Lifshitz volumen 7):\n",
        "\n",
        "$$\\vec{f}(\\vec{r}_1, \\vec{r}_2) = \n",
        "\\left\\{\n",
        "\\begin{array}{cls}\n",
        "  K \\cdot \\lvert \\vec{r}_1 - \\vec{r}_2 \\rvert^3 \\cdot \\hat{n} \\quad \\text{ si } \\quad \\lvert \\vec{r}_1 - \\vec{r}_2 \\rvert < R_1 = R_2\\\\\n",
        "  0 \\quad \\text{en cualquier otro caso.}\n",
        "  \\end{array}\n",
        "\\right.\n",
        "$$\n",
        "\n",
        "donde $R_1, R_2$ son los radios de las esferas y $\\hat{n}$ es el vector normal al plano de contacto. Usar $K = 100 N/m^3$, $m = 1 kg$ y $R_1 = R_2 = 2 m$. Use las siguientes condiciones iniciales:\n",
        "\n",
        "> **Bola 1:**\n",
        "$$ \\vec{r}_0 = (-15, 1) $$\n",
        "$$ \\vec{v}_0 = (10, 0) $$\n",
        "$$ \\vec{a}_0 = (0, 0) $$\n",
        "\n",
        "\n",
        "> **Bola 2:**\n",
        "$$ \\vec{r}_0 = (0, -15) $$\n",
        "$$ \\vec{v}_0 = (0, 0) $$\n",
        "$$ \\vec{a}_0 = (0, 0) $$\n",
        "\n",
        "\n",
        "1. Crear el método de clase que calcule la fuerza entre partículas en la clase Particle. Recuerde que un cuerpo no se puede aplicar fuerza a si mismo. Cada vez que se avance en el tiempo, debe reiniciar la fuerza y la aceleración a cero, y verificar las paredes (mirar video en bloque-neón).\n"
      ]
    },
    {
      "cell_type": "code",
      "execution_count": null,
      "metadata": {
        "id": "vQBioTqe5IB3"
      },
      "outputs": [],
      "source": []
    }
  ],
  "metadata": {
    "colab": {
      "provenance": []
    },
    "kernelspec": {
      "display_name": "Python 3",
      "language": "python",
      "name": "python3"
    },
    "language_info": {
      "codemirror_mode": {
        "name": "ipython",
        "version": 3
      },
      "file_extension": ".py",
      "mimetype": "text/x-python",
      "name": "python",
      "nbconvert_exporter": "python",
      "pygments_lexer": "ipython3",
      "version": "3.10.8"
    },
    "vscode": {
      "interpreter": {
        "hash": "0af4f2c9c0a2840e15ec1e3955baa2d8289022cf6ae1d6cc05b182c20ed9389b"
      }
    }
  },
  "nbformat": 4,
  "nbformat_minor": 0
}
