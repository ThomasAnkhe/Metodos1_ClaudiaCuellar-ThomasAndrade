{
 "cells": [
  {
   "attachments": {},
   "cell_type": "markdown",
   "metadata": {},
   "source": [
    "> # **Métodos Computacionales I - Taller #2**\n",
    "\n",
    "Hecho por: Claudia Cuellar Nieto & Thomas Andrade Hernández\n"
   ]
  },
  {
   "cell_type": "code",
   "execution_count": 2,
   "metadata": {},
   "outputs": [],
   "source": [
    "# Zona de librerías:\n",
    "import urllib.request\n",
    "import numpy as np\n",
    "import matplotlib.pyplot as plt\n",
    "import matplotlib.animation as anim\n",
    "from matplotlib import rc\n",
    "import sympy as sym\n",
    "import pandas as pd\n",
    "from tqdm import tqdm\n",
    "from time import sleep\n",
    "import os.path as path\n",
    "import os\n",
    "import wget"
   ]
  },
  {
   "attachments": {},
   "cell_type": "markdown",
   "metadata": {},
   "source": [
    "> **3. Derivación e Integración Numérica:**\n",
    "\n",
    "**8.** Es posible construir una aproximación de orden $\\mathcal{O}(h^2)$ para la derivada progresiva. Para tal propósito, se escribe el polinomio de interpolación de grado 2 para el conjunto soporte \n",
    "\n",
    "$$\\Omega = \\{(x_0, f(x_0)),(x_1, f(x_1)),(x_2, f(x_2))\\}$$\n",
    "\n",
    "y posteriormente se calcula la derivada de este polinomio."
   ]
  },
  {
   "attachments": {},
   "cell_type": "markdown",
   "metadata": {},
   "source": [
    "**a)** **$\\verb|(Theoretical)|$** Calcular analíticamente el polinomio que interpola el conjunto soporte."
   ]
  },
  {
   "attachments": {},
   "cell_type": "markdown",
   "metadata": {},
   "source": [
    "> **$\\verb|Respuesta:|$**"
   ]
  },
  {
   "attachments": {},
   "cell_type": "markdown",
   "metadata": {},
   "source": [
    "**b)** **$\\verb|(Theoretical)|$** Derivar el polinomio interpolador para encontrar la derivada en el punto $x_0$:\n",
    "\n",
    "$$f'(x) \\approx p'(x_0) = \\frac{1}{2h} \\cdot (-3f(x_0) + 4f(x_1) - f(x_2)).$$\n",
    "\n",
    "Si la discretización es equidistante, tenemos:\n",
    "\n",
    "$$f'(x) \\cong \\frac{1}{2h} \\cdot (-3f(x) + 4f(x + h) - f(x + 2h)).$$"
   ]
  },
  {
   "attachments": {},
   "cell_type": "markdown",
   "metadata": {},
   "source": [
    "> **$\\verb|Respuesta:|$**"
   ]
  },
  {
   "attachments": {},
   "cell_type": "markdown",
   "metadata": {},
   "source": [
    "**c)** $\\verb|(Python)|$ Para $f(x) = \\sqrt{\\tan(x)}$ estimar la derivada progresiva de orden $\\mathcal{O}(h^2)$ (expresión anterior) en el intervalo $[0.1, 1-1]$ con $h = 0.01$."
   ]
  },
  {
   "cell_type": "code",
   "execution_count": null,
   "metadata": {},
   "outputs": [],
   "source": []
  },
  {
   "attachments": {},
   "cell_type": "markdown",
   "metadata": {},
   "source": [
    "**d)** $\\verb|(Python)|$ Para $f(x) = \\sqrt{\\tan(x)}$ estimar la derivada ceantral de orden $\\mathcal{O}(h^2)$ en el intervalo $[0.1, 1-1]$ con $h = 0.01$."
   ]
  },
  {
   "cell_type": "code",
   "execution_count": null,
   "metadata": {},
   "outputs": [],
   "source": []
  },
  {
   "attachments": {},
   "cell_type": "markdown",
   "metadata": {},
   "source": [
    "**e)** **$\\verb|(Theoretical)|$** Calcule analíticamente la derivada de la función $f(x)$, y grafique con la estimación central y progresiva de orden $\\mathcal{O}(h^2)$.\n"
   ]
  },
  {
   "attachments": {},
   "cell_type": "markdown",
   "metadata": {},
   "source": [
    "> **$\\verb|Respuesta:|$**"
   ]
  },
  {
   "attachments": {},
   "cell_type": "markdown",
   "metadata": {},
   "source": [
    "**f)** **$\\verb|(Theoretical)|$** Grafique el error nodal para ambas aproximaciones. ¿Tienen efectivamente el mismo orden de precisión ambos resultados?"
   ]
  },
  {
   "attachments": {},
   "cell_type": "markdown",
   "metadata": {},
   "source": [
    "> **$\\verb|Respuesta:|$**"
   ]
  },
  {
   "attachments": {},
   "cell_type": "markdown",
   "metadata": {},
   "source": [
    "> **3.10. Raíces de Polinomios:**\n",
    "\n",
    "**5.** $\\verb|(SymPy)|$ Calcular todas las raíces reales de los primeros 20 polinomios de Laguerre. La formula de Rodrigues es:\n",
    "\n",
    "$$L_{n}(x) = \\frac{e^{x}}{n!} \\cdot \\frac{d^{n}}{dx^{n}} [e^{-x} x^{n}].$$\n",
    "\n",
    "El intervalo donde existen las raíces es $0 \\leq x \\leq \\infty$."
   ]
  },
  {
   "cell_type": "code",
   "execution_count": 3,
   "metadata": {},
   "outputs": [],
   "source": [
    "# Primera parte enfocada en encontrar los primeros 20 polinomios de Laguerre:\n",
    "\n",
    "x = sym.symbols('x')\n",
    "\n",
    "def LaguerrePolynomia(n):\n",
    "    if n >= 0:\n",
    "        semi_laguerre = (np.e**x)/np.math.factorial(n)\n",
    "        main_laguerre = (np.e**(-x))*(x**n)\n",
    "\n",
    "        if n >= 1:\n",
    "            for i in range(1, n + 1):\n",
    "                main_laguerre = sym.diff(main_laguerre, x)\n",
    "        polynomia = sym.simplify(main_laguerre * semi_laguerre)\n",
    "        return polynomia\n",
    "    \n",
    "    else:\n",
    "        print(\"El valor de \\\"n\\\" digitado no es válido.\")\n",
    "\n",
    "\"\"\"\n",
    "Laguerre_20th = [] # Lista que almacenará todos los 20 primeros polinomios de Laguerre.\n",
    "\n",
    "for i in range(0, 20):\n",
    "   Laguerre_20th.append(LaguerrePolynomia(i))\n",
    "\"\"\"\n",
    "\n",
    "# Segunda parte enfocada en hallar las raíces de cada polinomio:\n",
    "\n",
    "def PolynomiaDerivative(f, x, h = 1e-4):\n",
    "    return (f(x + h) - f(x - h)) / (2*h)\n",
    "\n",
    "def NewtonRaphson(f, diff_f, xn, itmax = 1000, precision = 1e-5):\n",
    "    error = 1\n",
    "    it = 0\n",
    "\n",
    "    while error > precision and it <= itmax:\n",
    "        try:\n",
    "            xn1 = xn - f(xn)/diff_f(f,xn)\n",
    "            error = np.abs(f(xn)/diff_f(f,xn))\n",
    "        except ZeroDivisionError:\n",
    "            print('Division por cero')\n",
    "        it += 1\n",
    "        xn = xn1\n",
    "\n",
    "    if it == itmax:\n",
    "        False\n",
    "    else:\n",
    "        return xn\n",
    "\n",
    "def GetAllRoots(f, x, tolerancia = 6):\n",
    "    Roots = np.array([])\n",
    "    for i in x:\n",
    "        root = NewtonRaphson(f, PolynomiaDerivative, i)\n",
    "        if root != False:\n",
    "            croot = np.round(root, tolerancia)\n",
    "            if croot not in Roots: \n",
    "                Roots = np.append(Roots,croot)\n",
    "    Roots.sort()\n",
    "    return Roots\n",
    "\n",
    "# Falta generar el ciclo que entregue el valor de las iteraciones reflejado en las raíces de cada polinomio de Laguerre."
   ]
  },
  {
   "attachments": {},
   "cell_type": "markdown",
   "metadata": {},
   "source": [
    "> **3.13. Interpolación de Lagrange:**\n",
    "\n",
    "**1.** **$\\verb|(Theoretical)|$** Demuestre que el polinomio interpolador es único."
   ]
  },
  {
   "attachments": {},
   "cell_type": "markdown",
   "metadata": {},
   "source": [
    "> **$\\verb|Respuesta:|$**"
   ]
  },
  {
   "attachments": {},
   "cell_type": "markdown",
   "metadata": {},
   "source": [
    "**4.** $\\verb|(Python)|$ En el lanzamiento de una bala, una cámara fotográfica registra las siguientes posiciones en metros respecto al arma homicida (tome $\\vec{g} = −9.8$ $m/s^2 \\cdot \\hat{j}$):\n",
    "\n",
    "Link: https://raw.githubusercontent.com/asegura4488/Database/main/MetodosComputacionalesReforma/Parabolico.csv\n",
    "\n",
    "Estime el vector velocidad inicial, que estaría definido por la magnitud y dirección. **Rpta: $V_{0} = 10 m/s$ y $\\theta = 20^{\\circ}$**. *Hint:* Encuentre el término lineal y cuadrático de la interpolación y compare con la ecuación de trayectoria de la bala."
   ]
  },
  {
   "cell_type": "code",
   "execution_count": 47,
   "metadata": {},
   "outputs": [
    {
     "name": "stdout",
     "output_type": "stream",
     "text": [
      "El valor de la velocidad inicial de la vala es de 10.0 m/s referida en un ángulo de 20.0° con respecto al eje de tiro.\n"
     ]
    },
    {
     "data": {
      "image/png": "[encoded data removed]",
      "text/plain": [
       "<Figure size 432x288 with 1 Axes>"
      ]
     },
     "metadata": {
      "needs_background": "light"
     },
     "output_type": "display_data"
    }
   ],
   "source": [
    "# Instancia de descarga del .csv para el análisis de los datos:\n",
    "\n",
    "if not path.exists('Data'):\n",
    "    os.mkdir('Data')\n",
    "\n",
    "file = 'Data/Tiro_Parabolico.dat'\n",
    "url = 'https://raw.githubusercontent.com/asegura4488/Database/main/MetodosComputacionalesReforma/Parabolico.csv'\n",
    "\n",
    "if not path.exists(file):\n",
    "    Path_ = wget.download(url,file)\n",
    "    \n",
    "else:\n",
    "    Path_ = file\n",
    "\n",
    "# Código principal:\n",
    "\n",
    "main_data = pd.read_csv(Path_)\n",
    "\n",
    "x_ = np.float64(main_data.X)\n",
    "y_ = np.float64(main_data.Y)\n",
    "\n",
    "def PartialPolynomia(x, xi, j):\n",
    "    init_poly = 1.0\n",
    "    iterations = len(xi)\n",
    "    for i in range(iterations):\n",
    "        if i != j:\n",
    "            init_poly *= (x - xi[i])/(xi[j] - xi[i])\n",
    "    return init_poly\n",
    "\n",
    "def LagrangeInterpolation(x, xi, yi):\n",
    "    combined_poly = 0\n",
    "    iterations = len(xi)\n",
    "    for i in range(iterations):\n",
    "        combined_poly += yi[i]*PartialPolynomia(x, xi, i)\n",
    "    return combined_poly\n",
    "\n",
    "x = np.linspace(x_[0], x_[-1],100)\n",
    "y = LagrangeInterpolation(x, x_, y_)\n",
    "\n",
    "plt.scatter(x_, y_, color='r', marker='o')\n",
    "plt.plot(x, y, color = 'k')\n",
    "\n",
    "x = sym.Symbol('x', real = True)\n",
    "\n",
    "# En éste apartado se encuentran los coeficientes:\n",
    "\n",
    "formulae = LagrangeInterpolation(x, x_, y_)\n",
    "formulae = sym.simplify(formulae)\n",
    "\n",
    "main_expression = formulae.args[1]\n",
    "diff_expression = sym.diff(main_expression, x)\n",
    "\n",
    "main_expression = sym.lambdify([x], main_expression, 'numpy')\n",
    "diff_expression = sym.lambdify([x], diff_expression, 'numpy')\n",
    "\n",
    "linear_coefficient = main_expression(0)\n",
    "cuadratic_coefficient = -diff_expression(0)\n",
    "\n",
    "# Ahora se realizan los cálculos del ángulo y la velocidad:\n",
    "\n",
    "angle = round(np.degrees(np.arctan(linear_coefficient)), 1)\n",
    "\n",
    "velocity = round(np.sqrt((9.8)/(2*cuadratic_coefficient*(np.cos(np.radians(angle))**2))), 1)\n",
    "\n",
    "print(\"El valor de la velocidad inicial de la vala es de {} m/s referida en un ángulo de {}° con respecto al eje de tiro.\".format(velocity, angle))\n",
    "\n"
   ]
  },
  {
   "attachments": {},
   "cell_type": "markdown",
   "metadata": {},
   "source": [
    "**5.** $\\verb|(Python)|$ _Interpolación Newton-Gregory_: Para el siguiente conjunto de puntos:\n",
    "\n",
    "Link: https://raw.githubusercontent.com/asegura4488/Database/main/MetodosComputacionalesReforma/InterpolacionNewtonNoequi.csv\n",
    "\n",
    "Encuentre el polinomio interpolante de menor grado usando el método Newton-Gregory."
   ]
  },
  {
   "cell_type": "code",
   "execution_count": null,
   "metadata": {},
   "outputs": [],
   "source": []
  },
  {
   "attachments": {},
   "cell_type": "markdown",
   "metadata": {},
   "source": [
    "> **3.14. Integración:**\n",
    "\n",
    "**1.** **$\\verb|(Theoretical)|$** Hacer pasos intermedios para regla de trapecio simple, es decir, la siguiente ecuación:\n",
    "\n",
    "$$I = \\int_{a}^{b}{f(x) dx} \\cong \\int_{a}^{b}{p_{1}(x) dx} = \\frac{b - a}{2} \\cdot (f(a) + f(b))$$\n"
   ]
  },
  {
   "attachments": {},
   "cell_type": "markdown",
   "metadata": {},
   "source": [
    "> **$\\verb|Respuesta:|$**"
   ]
  },
  {
   "attachments": {},
   "cell_type": "markdown",
   "metadata": {},
   "source": [
    "**3.** **$\\verb|(Theoretical)|$** Hacer pasos intermedios para encontrar la regla de Simpson simple, es deicr, en la siguiente ecuación:\n",
    "\n",
    "$$I = \\int_{a}^{b}{f(x) dx} \\cong \\int_{a}^{b}{p_{2}(x) dx} = \\frac{h}{3} \\cdot (f(a) + 4f(x_m) + f(b)).$$"
   ]
  },
  {
   "attachments": {},
   "cell_type": "markdown",
   "metadata": {},
   "source": [
    "> **$\\verb|Respuesta:|$**"
   ]
  },
  {
   "attachments": {},
   "cell_type": "markdown",
   "metadata": {},
   "source": [
    "**7)** **$\\verb|(Python)|$** . Una forma de generalizar el método de integración del trapecio para una integral doble de una función $f(x, y)$ consiste en dividir el plano $xy$ en un grilla de cuadrados iguales y calcular el promedio del valor de la función de cada uno de los 4 vértices de cada cuadrado pequeño de la grilla. Calcule numéricamente el volumen de una semiesfera de radio $R = 1$ como sigue:\n"
   ]
  },
  {
   "attachments": {},
   "cell_type": "markdown",
   "metadata": {},
   "source": [
    "* Cree una grilla entre $−R$ y $R$ en el plano $xy$, donde el número de cuadrados en cada lado de la grilla sea $n$. Es decir, la grilla tendría $n + 1$ puntos en cada eje, y $n^2$ cuadrados pequeños."
   ]
  },
  {
   "cell_type": "code",
   "execution_count": null,
   "metadata": {},
   "outputs": [],
   "source": []
  },
  {
   "attachments": {},
   "cell_type": "markdown",
   "metadata": {},
   "source": [
    "* Para cada cuadrado pequeño calcule el promedio de la función en los cuatro vértices\n",
    "y multiplique por el área del cuadrado pequeñoo. Si el punto queda fuera de la esfera\n",
    "asuma que el valor de la función $f(x, y)$ es cero."
   ]
  },
  {
   "cell_type": "code",
   "execution_count": null,
   "metadata": {},
   "outputs": [],
   "source": []
  },
  {
   "attachments": {},
   "cell_type": "markdown",
   "metadata": {},
   "source": [
    "**13)** $\\verb|(Python)|$ Escribir el polinomio $p(x) 3 + 5x + x^{2}$ en la base de Legendre. **Rpta:** $p(x) = \\frac{10}{3}p_{0}(x) + 5p_{1}(x) + \\frac{2}{3}p_{2}(x)$."
   ]
  },
  {
   "cell_type": "code",
   "execution_count": null,
   "metadata": {},
   "outputs": [],
   "source": []
  },
  {
   "attachments": {},
   "cell_type": "markdown",
   "metadata": {},
   "source": [
    "**17)** **$\\verb|(Python)|$** La cuadratura de Gauss-Hermite está definida para integrales de la forma:\n",
    "\n",
    "$$I = \\int_{- \\infty}^{\\infty}{f(x) \\cdot e^{-x^{2}}dx}$$\n",
    "\n",
    "que tiene la siguiente representación en cuadraturas:\n",
    "\n",
    "$$I \\approx \\sum_{i = 1}^{N} \\omega_{i} \\cdot f(x_{i})$$\n",
    "\n",
    "donde los puntos $x_{i}$ son las raíces de los polinomios de Hermite $(H_{n}(x))$ y la formula de pesos está dada por:\n",
    "\n",
    "$$\\omega_{i} = \\frac{2^{n - 1} \\cdot n! \\cdot \\sqrt{\\pi}}{n^{2} \\cdot H_{n - 1}(r_{i})^{2}}$$\n",
    "\n",
    "El estado de un oscilador armónico en mecánica cuántica está dado por las funciones de probabilidad:\n",
    "\n",
    "$$\\phi_{n}(\\xi) = \\frac{1}{\\sqrt{2^{n} \\cdot n!}} \\left(\\frac{m\\omega}{\\pi \\hbar} \\right)^{1/4} \\cdot e^{\\xi^{2}/2 \\cdot H_{n}(\\xi)}$$\n",
    "\n",
    "donde $\\xi = \\frac{\\sqrt{m\\omega}}{\\hbar} \\cdot x$. Haga $\\frac{\\sqrt{m\\omega}}{\\hbar} = 1$, es decir, $\\xi = 1$ para la aplicación numérica. Estime numéricamente el valor cuadrático medio de la posición de la particula en el primer estado exitado $(n = 1)$. El valor exacto de la integral está dado por:\n",
    "\n",
    "$$\\langle x^{2} \\rangle = \\int_{- \\infty}^{\\infty} |\\phi_{1}(x)|^{2} \\cdot x^{2} dx = \\frac{3}{2}.$$\n",
    "\n",
    "El polinomio de Hermite de primer orden está dado por:\n",
    "\n",
    "$$H_{1}(x) = 2x.$$\n",
    "\n",
    "La formula de rodrigues que genera los polinomios de Hermite está dada por:\n",
    "\n",
    "$$H_{n}(\\xi) = (-1){n} \\cdot e^{\\xi^{2}} \\cdot \\frac{d^{n}}{d\\xi^{n}} \\cdot e^{-\\xi^{2}}.$$\n",
    "\n",
    "Encontrar los ceros de los polinomios y los pesos de la cuadratura."
   ]
  },
  {
   "cell_type": "markdown",
   "metadata": {},
   "source": []
  }
 ],
 "metadata": {
  "kernelspec": {
   "display_name": "Python 3",
   "language": "python",
   "name": "python3"
  },
  "language_info": {
   "codemirror_mode": {
    "name": "ipython",
    "version": 3
   },
   "file_extension": ".py",
   "mimetype": "text/x-python",
   "name": "python",
   "nbconvert_exporter": "python",
   "pygments_lexer": "ipython3",
   "version": "3.10.8"
  },
  "orig_nbformat": 4,
  "vscode": {
   "interpreter": {
    "hash": "0af4f2c9c0a2840e15ec1e3955baa2d8289022cf6ae1d6cc05b182c20ed9389b"
   }
  }
 },
 "nbformat": 4,
 "nbformat_minor": 2
}
