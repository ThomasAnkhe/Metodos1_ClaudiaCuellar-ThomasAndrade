{
 "cells": [
  {
   "attachments": {},
   "cell_type": "markdown",
   "metadata": {},
   "source": [
    "> # **Métodos Computacionales I - Taller #4**\n",
    "\n",
    "**Hecho por:** Claudia Alejandra Cuellar Nieto & Thomas Andrade Hernández\n"
   ]
  },
  {
   "cell_type": "code",
   "execution_count": 4,
   "metadata": {},
   "outputs": [],
   "source": [
    "# Zona de librerías:\n",
    "import urllib.request\n",
    "import numpy as np\n",
    "import matplotlib.pyplot as plt\n",
    "import matplotlib.animation as anim\n",
    "from mpl_toolkits.mplot3d import axes3d\n",
    "from matplotlib import rc\n",
    "import sympy as sym\n",
    "import pandas as pd\n",
    "from tqdm import tqdm\n",
    "from time import sleep\n",
    "import os.path as path\n",
    "import os\n",
    "import wget"
   ]
  },
  {
   "attachments": {},
   "cell_type": "markdown",
   "metadata": {},
   "source": [
    "> # **6.7. Técnicas de Conteo**\n",
    "\n",
    "**$20)\\verb| (Python y Teoría)|$** Demuestre la fórmula de combinaciones con repetición:\n",
    "\n",
    "$$C_{r}^{n} = \\begin{pmatrix}\n",
    "n + r - 1 \\\\\n",
    "r\n",
    "\\end{pmatrix}$$"
   ]
  },
  {
   "cell_type": "code",
   "execution_count": null,
   "metadata": {},
   "outputs": [],
   "source": []
  },
  {
   "attachments": {},
   "cell_type": "markdown",
   "metadata": {},
   "source": [
    "**$22)\\verb| (Python y Teoría)|$** ¿Cuántas sumas de tres enteros no negativos dan 10? (Verifique el resultado con la solución correcta _R:66_)."
   ]
  },
  {
   "cell_type": "code",
   "execution_count": null,
   "metadata": {},
   "outputs": [],
   "source": []
  },
  {
   "attachments": {},
   "cell_type": "markdown",
   "metadata": {},
   "source": [
    "**$23)\\verb| (Python y Teoría)|$** Se tienen 9 llaves: 3 rojas, 3 azules y 3 verdes. Si elegimos 4, ¿de cuántas formas se pueden distribuir los colores? (Verifique el resultado con la solución correcta _R:12_)."
   ]
  },
  {
   "cell_type": "code",
   "execution_count": null,
   "metadata": {},
   "outputs": [],
   "source": []
  },
  {
   "attachments": {},
   "cell_type": "markdown",
   "metadata": {},
   "source": [
    "> # **6.8. Generales de Probabilidad**\n",
    "\n",
    "**$4)\\verb| (Python)|$** Calcular la probabilidad de $n$ personas $(n \\leq 365)$ tengan fechas diferentes de cumpleaños, i.e. escribir la fórmula general del cálculo. Grafique la probabilidad $\\mathbb(P)(n \\leq 80)$ como función de $n$. _Los números son demasiado grandes, pero Python puede manejar dichas cantidades_."
   ]
  },
  {
   "cell_type": "code",
   "execution_count": null,
   "metadata": {},
   "outputs": [],
   "source": []
  },
  {
   "attachments": {},
   "cell_type": "markdown",
   "metadata": {},
   "source": [
    "**$9)\\verb| (Python)|$** Se lanzan 4 monedas al aire, imagine que las monedas están truncadas de tal manera que la probabilidad de que la moneda $1$ sea cara es $p_1$ y que sea sello es $1 - p_1$. Usando el árbol de probabilidad, ¿cuál es la expresión de la probabilidad de obtener dos caras y dos sellos de este evento? Si el truncamiento de las monedas $1$ y $2$ puede variar como: $0.1 < p_1 < 0.9$ y $0.1 < p_2 < 0.5$, use el árbol de probabilidad para graficar la superficie de probabilidad del evento $A$. ¿En qué punto la probabilidad es mínima y máxima, y cuáles son sus valores?"
   ]
  },
  {
   "cell_type": "code",
   "execution_count": null,
   "metadata": {},
   "outputs": [],
   "source": []
  },
  {
   "attachments": {},
   "cell_type": "markdown",
   "metadata": {},
   "source": [
    "**$12)\\verb| (Python, Microcanonical ensemble)|$** Hay un sistema constituido por $N$ partículas, cada una puede estar en dos niveles de energía distintos (no degenerados) de valor $\\epsilon_0$ y $\\epsilon_1$ ($\\epsilon_1$ > $\\epsilon_0$). Si llamamos $n_0$ al número de partículas en el estado $\\epsilon_0$ y a $n_1$ al número de partículas en el estado $\\epsilon_1$. Se tienen las siguientes restricciones para la energía total y el número total de partículas:\n",
    "\n",
    "$$E = n_{0}\\epsilon_{0} + n_{1}\\epsilon_{1}$$\n",
    "$$N = n_{0} + n_{1}$$\n",
    "\n",
    "$(a)$ Muestre que el numero de configuraciones posibles (micro-estados) está dado por:\n",
    "\n",
    "$$\\Omega(N, n_{0}) = \\frac{N!}{n_{0}!\\cdot n_{1}!}$$"
   ]
  },
  {
   "cell_type": "code",
   "execution_count": null,
   "metadata": {},
   "outputs": [],
   "source": []
  },
  {
   "attachments": {},
   "cell_type": "markdown",
   "metadata": {},
   "source": [
    "$(b)$ Usando la ecuación de la entropía $S(N, n_0{}) = k_{b}\\ln(\\Omega)$ y la fórmula de Stirling $\\ln(\\Omega) \\approx N\\ln(N) - N$, muestre que la entropía es aproximadamente igual a:\n",
    "\n",
    "$$S(N, n_{0}, n_{1}) = k_{b} \\cdot \\left[N\\ln(N) - \\sum_{i = 0}^{1} n_{i}\\ln(n_{i})\\right   ]$$"
   ]
  },
  {
   "cell_type": "code",
   "execution_count": null,
   "metadata": {},
   "outputs": [],
   "source": []
  },
  {
   "attachments": {},
   "cell_type": "markdown",
   "metadata": {},
   "source": [
    "$(c)$ Si definimos la fracción $x = n_{1}/N$ de partículas que se encuentra en el nivel de energía $\\epsilon_{1}$. Muestre que la entropía toma la forma:\n",
    "\n",
    "$$S(N, x) = -k_{b} \\cdot \\left[x\\ln(x) + (1 - x)\\ln(1 - x) \\right]$$\n",
    "\n",
    "donde $x = \\dfrac{1}{N(\\epsilon_{1} - \\epsilon_{0})} \\cdot (E - N\\epsilon_{0})$ como función de $x$."
   ]
  },
  {
   "cell_type": "code",
   "execution_count": null,
   "metadata": {},
   "outputs": [],
   "source": []
  },
  {
   "attachments": {},
   "cell_type": "markdown",
   "metadata": {},
   "source": [
    "$(d)$ Dibuje la entropía $S(N, x)/(k_{b}N)$ como función de $x$."
   ]
  },
  {
   "cell_type": "code",
   "execution_count": null,
   "metadata": {},
   "outputs": [],
   "source": []
  },
  {
   "attachments": {},
   "cell_type": "markdown",
   "metadata": {},
   "source": [
    "$(e)$ De la primera ley de la termodinámica tenemos:\n",
    "\n",
    "$$\\frac{1}{N} = \\left(\\frac{\\partial S}{\\partial E}\\right)_{N} = \\left(\\frac{\\partial S}{\\partial x}\\right)_{N} \\cdot \\left(\\frac{\\partial x}{\\partial E}\\right)_{N}$$\n",
    "\n",
    "muestre que la proporción de partículas como función de la temperatura está dada por:\n",
    "\n",
    "$$x(T) = \\frac{1}{1 + e^{-\\Delta E/k_{b}T}}, \\quad \\Delta E = \\epsilon_{1} - \\epsilon_{2}.$$"
   ]
  },
  {
   "cell_type": "code",
   "execution_count": null,
   "metadata": {},
   "outputs": [],
   "source": []
  },
  {
   "attachments": {},
   "cell_type": "markdown",
   "metadata": {},
   "source": [
    "$(f)$ Para bajas y altas temperaturas, $ T \\to 0$ y $T \\to \\infty$, encuentre $x(T)$. Muestre que la entropía a altas temperaturas vale:\n",
    "\n",
    "$$\\lim_{T \\to \\infty} S(T) = k_{b}N\\ln(2).$$"
   ]
  },
  {
   "cell_type": "code",
   "execution_count": null,
   "metadata": {},
   "outputs": [],
   "source": []
  },
  {
   "attachments": {},
   "cell_type": "markdown",
   "metadata": {},
   "source": [
    "$(g)$ Un gas ideal conformado por N partículas, realiza una expansión isotérmica de un volumen $V_{1} = V$ a un un volumen $V_{2} = 2V$. Calcule el cambio de entropía y compare con el resultado anterior. ¿Cómo se relacionan?"
   ]
  },
  {
   "cell_type": "code",
   "execution_count": null,
   "metadata": {},
   "outputs": [],
   "source": []
  },
  {
   "attachments": {},
   "cell_type": "markdown",
   "metadata": {},
   "source": [
    "> # **6.10. Distribuciones Discretas de Probabilidad.**\n",
    "\n",
    "**$3)\\verb| (Python)|$** Un embarque de $10$ microchips similares que se envía a distribución tiene $3$ aparatos defectuosos. Si una empresa realiza un compra aleatoria de $2$ de estos microchips:\n",
    "\n",
    "$(a)$ Muestre que la distribución de probabilidad del número de microchips defectuosos es igual a:\n",
    "\n",
    "$$f(x) = \\dfrac{\\begin{pmatrix} 7 \\\\ 2 - x\\end{pmatrix} \\cdot \\begin{pmatrix} 3 \\\\ x\\end{pmatrix}}{\\begin{pmatrix} 10 \\\\ 2 \\end{pmatrix}}$$\n",
    "\n",
    "dado:\n",
    "\n",
    "<center>\n",
    "\n",
    "| $x$ | $ 0 $ | $ 1 $ | $ 2 $ |\n",
    "| ------- | ---- | ---- | ---- |\n",
    "| $\\mathbb{P}(X = x)$ | $ 7/15 $ | $ 7/15 $ | $ 1/15 $ |\n"
   ]
  },
  {
   "cell_type": "code",
   "execution_count": null,
   "metadata": {},
   "outputs": [],
   "source": []
  },
  {
   "attachments": {},
   "cell_type": "markdown",
   "metadata": {},
   "source": [
    "$(b)$ ¿Cuál es el valor esperado de microchips defectuosos? **Ans:** $\\hat{\\mu} = 3/5 = 0.6$"
   ]
  },
  {
   "cell_type": "code",
   "execution_count": null,
   "metadata": {},
   "outputs": [],
   "source": []
  },
  {
   "attachments": {},
   "cell_type": "markdown",
   "metadata": {},
   "source": [
    "**$4)\\verb| (Python)|$** Una caja cuántica tiene $3$ electrones, $2$ protones y $3$ neutrones. Se selecciona una muestra aleatoria de 4 partículas. Si $x$ es el número de electrones e $y$ es el número de protones:\n",
    "\n",
    "$(a)$ Muestre que la distribución de probabilidad conjunta $f(x, y)$ es:\n",
    "\n",
    "$$f(x, y) = \\dfrac{\\begin{pmatrix} 3 \\\\ x \\end{pmatrix} \\cdot \\begin{pmatrix} 2 \\\\ y \\end{pmatrix} \\cdot \\begin{pmatrix} 3 \\\\ 4 - x - y \\end{pmatrix}}{\\begin{pmatrix} 8 \\\\ 4 \\end{pmatrix}}$$"
   ]
  },
  {
   "cell_type": "code",
   "execution_count": null,
   "metadata": {},
   "outputs": [],
   "source": []
  },
  {
   "attachments": {},
   "cell_type": "markdown",
   "metadata": {},
   "source": [
    "$(b)$ Hallar las distribuciones marginales $g(x)$ y $h(y)$."
   ]
  },
  {
   "cell_type": "code",
   "execution_count": null,
   "metadata": {},
   "outputs": [],
   "source": []
  },
  {
   "attachments": {},
   "cell_type": "markdown",
   "metadata": {},
   "source": [
    "$(c)$ $\\mathbb{E}(x) = 105/70$."
   ]
  },
  {
   "cell_type": "code",
   "execution_count": null,
   "metadata": {},
   "outputs": [],
   "source": []
  },
  {
   "attachments": {},
   "cell_type": "markdown",
   "metadata": {},
   "source": [
    "$(d)$ $\\mathbb{E}(y) = 1$."
   ]
  },
  {
   "cell_type": "code",
   "execution_count": null,
   "metadata": {},
   "outputs": [],
   "source": []
  },
  {
   "attachments": {},
   "cell_type": "markdown",
   "metadata": {},
   "source": [
    "$(e)$ Calcular la covarianza usando $\\sigma_{xy} = \\mathbb{E}(xy) -\\mathbb{E}(x) \\cdot \\mathbb{E}(y) = -3/14$."
   ]
  },
  {
   "cell_type": "code",
   "execution_count": null,
   "metadata": {},
   "outputs": [],
   "source": []
  },
  {
   "attachments": {},
   "cell_type": "markdown",
   "metadata": {},
   "source": [
    "$(f)$ Calcular la covarianza usando $\\sigma_{xy} = \\mathbb{E}((x - \\hat{\\mu}_{x})(y - \\hat{\\mu}_{y})) -\\mathbb{E}(x) \\cdot \\mathbb{E}(y) = -3/14$."
   ]
  },
  {
   "cell_type": "code",
   "execution_count": null,
   "metadata": {},
   "outputs": [],
   "source": []
  },
  {
   "attachments": {},
   "cell_type": "markdown",
   "metadata": {},
   "source": [
    "$(g)$ ¿Son las variables $x$ e $y$ indepentientes?"
   ]
  },
  {
   "attachments": {},
   "cell_type": "markdown",
   "metadata": {},
   "source": []
  },
  {
   "attachments": {},
   "cell_type": "markdown",
   "metadata": {},
   "source": [
    "> # **6.12. Distribuciones Continuas de Probabilidad.**\n",
    "\n",
    "**$1)\\verb| (Sympy)|$** Dada la función de probabilidad conjunta:\n",
    "\n",
    "$$f(x) = \\left\\{\n",
    "        \\begin{array}{cc}\n",
    "        \\dfrac{2}{3} \\cdot (x + 2y) & \\text{si} \\quad 0 \\leq x \\leq 1, \\quad 0 \\leq y \\leq 1. \\\\\n",
    "        0 & \\text{si ocurre cualquier otro caso.}\n",
    "        \\end{array} \\right.$$\n",
    "\n",
    "encuentre analíticamente y a través de Sympy los siguientes valores:\n",
    "\n",
    "$(a)$ Verifique que sea una función de densidad conjunta válida."
   ]
  },
  {
   "cell_type": "code",
   "execution_count": null,
   "metadata": {},
   "outputs": [],
   "source": []
  },
  {
   "attachments": {},
   "cell_type": "markdown",
   "metadata": {},
   "source": [
    "$(b)$ Hallar las distribuciones marginales $g(x)$ y $h(y)$."
   ]
  },
  {
   "cell_type": "code",
   "execution_count": null,
   "metadata": {},
   "outputs": [],
   "source": []
  },
  {
   "attachments": {},
   "cell_type": "markdown",
   "metadata": {},
   "source": [
    "$(c)$ $\\mathbb{E}(x) = 10/18$."
   ]
  },
  {
   "cell_type": "code",
   "execution_count": null,
   "metadata": {},
   "outputs": [],
   "source": []
  },
  {
   "attachments": {},
   "cell_type": "markdown",
   "metadata": {},
   "source": [
    "$(d)$ $\\mathbb{E}(y) = 11/18$."
   ]
  },
  {
   "cell_type": "code",
   "execution_count": null,
   "metadata": {},
   "outputs": [],
   "source": []
  },
  {
   "attachments": {},
   "cell_type": "markdown",
   "metadata": {},
   "source": [
    "$(e)$ Calcular la covarianza usando $\\sigma_{xy} = \\mathbb{E}(xy) -\\mathbb{E}(x) \\cdot \\mathbb{E}(y) = -0.00617$."
   ]
  },
  {
   "cell_type": "code",
   "execution_count": null,
   "metadata": {},
   "outputs": [],
   "source": []
  },
  {
   "attachments": {},
   "cell_type": "markdown",
   "metadata": {},
   "source": [
    "$(f)$ Calcular la covarianza usando $\\sigma_{xy} = \\mathbb{E}((x - \\hat{\\mu}_{x})(y - \\hat{\\mu}_{y})) -\\mathbb{E}(x) \\cdot \\mathbb{E}(y) = -0.00617$."
   ]
  },
  {
   "cell_type": "code",
   "execution_count": null,
   "metadata": {},
   "outputs": [],
   "source": []
  },
  {
   "attachments": {},
   "cell_type": "markdown",
   "metadata": {},
   "source": [
    "$(g)$ ¿Son las variables $x$ e $y$ indepentientes?"
   ]
  },
  {
   "attachments": {},
   "cell_type": "markdown",
   "metadata": {},
   "source": []
  },
  {
   "attachments": {},
   "cell_type": "markdown",
   "metadata": {},
   "source": [
    "$(4)$ Una variable aleatoria continua $X$ tiene una función densidad:\n",
    "\n",
    "$$f(x) = \\left\\{\n",
    "        \\begin{array}{cc}\n",
    "        e^{-x} & \\text{si} \\quad x > 0 \\\\\n",
    "        0 & \\text{si ocurre cualquier otro caso.}\n",
    "        \\end{array} \\right.$$\n",
    "\n",
    "Encuentre el valor esperado de $g(X) = e^{2X/3} = 3$. Recuerde que el valor esperado de la variable aleatoria $g(X)$ está dado por:\n",
    "\n",
    "$$\\hat{\\mu}_{g(X)} = \\int_{-\\infty}^{\\infty} g(x)f(x) dx$$"
   ]
  },
  {
   "cell_type": "code",
   "execution_count": null,
   "metadata": {},
   "outputs": [],
   "source": []
  },
  {
   "attachments": {},
   "cell_type": "markdown",
   "metadata": {},
   "source": []
  },
  {
   "attachments": {},
   "cell_type": "markdown",
   "metadata": {},
   "source": [
    "> # **6.16. Metropolis-Hasting Algorithm.**\n",
    "\n",
    "**$1)\\verb| (Sympy)|$** Se lanza una moneda $n = 10$ veces y se encuentra que $r = 7$ veces cae cara. Usando el algoritmo de Metrópolis:\n",
    "\n",
    "$(a)$ Encuentre el parámetro asociado a la probabilidad de éxito $\\hat{p}$ de la distribución\n",
    "binomial, es decir, encuentre el máximo de la distribución posterior.\n"
   ]
  },
  {
   "cell_type": "code",
   "execution_count": null,
   "metadata": {},
   "outputs": [],
   "source": []
  },
  {
   "attachments": {},
   "cell_type": "markdown",
   "metadata": {},
   "source": [
    "$(b)$ Usando la varianza binomial y los cuantiles de la distribución posterior, encuentre los errores asociados al parámetro $\\hat{p}$ a un nivel de confianza del $68\\%$ (i.e, $\\sigma^{+}_{-}$).\n"
   ]
  },
  {
   "cell_type": "code",
   "execution_count": null,
   "metadata": {},
   "outputs": [],
   "source": []
  },
  {
   "attachments": {},
   "cell_type": "markdown",
   "metadata": {},
   "source": [
    "$(c)$ ¿Podemos decir que la moneda está truncada? Utilice la siguiente distribución a priori para el espacio de parámetros:\n",
    "\n",
    "$$\\pi(p) = \\left\\{\n",
    "        \\begin{array}{cc}\n",
    "        1 & \\text{si} \\quad 0 < p < 1 \\\\\n",
    "        0 & \\text{si ocurre cualquier otro caso.}\n",
    "        \\end{array} \\right.$$"
   ]
  },
  {
   "cell_type": "code",
   "execution_count": null,
   "metadata": {},
   "outputs": [],
   "source": []
  },
  {
   "attachments": {},
   "cell_type": "markdown",
   "metadata": {},
   "source": [
    "**$3)\\verb| (Python)|$** Usando el algoritmo de Metrópolis, realice el muestreo de $N = 1000$ eventos de una distribución normal: $\\mathfrak{A} \\cong \\mathfrak{N} (x; \\mu = 2, \\sigma = 0.5).$\n"
   ]
  },
  {
   "cell_type": "code",
   "execution_count": null,
   "metadata": {},
   "outputs": [],
   "source": []
  },
  {
   "attachments": {},
   "cell_type": "markdown",
   "metadata": {},
   "source": [
    "**$4)\\verb| (Python)|$** Usando el algoritmo de Metrópolis, realice el muestreo de $N = 1000$ eventos de una distribución estándar de Cauchy $\\mathfrak{A} \\cong f(x:0,1)$.\n",
    "\n",
    "$$f(x: 0,1) = \\frac{1}{\\pi \\cdot (1 + x^{2})}$$"
   ]
  },
  {
   "cell_type": "code",
   "execution_count": null,
   "metadata": {},
   "outputs": [],
   "source": []
  },
  {
   "attachments": {},
   "cell_type": "markdown",
   "metadata": {},
   "source": [
    "> # **8.7. Parameter Estimation.**\n",
    "\n",
    "**$3)\\verb| (Python) |$** Implemente el algoritmo de Metrópolis Hastings para hacer el ajuste de un histograma cuyas frecuencias relativas siguen una distribución normal.\n",
    "\n",
    "$(a)$ Descargue los datos del siguiente link: https://raw.githubusercontent.com/asegura4488/Database/main/MetodosComputacionalesReforma/Gaussiano.csv"
   ]
  },
  {
   "cell_type": "code",
   "execution_count": null,
   "metadata": {},
   "outputs": [],
   "source": []
  },
  {
   "attachments": {},
   "cell_type": "markdown",
   "metadata": {},
   "source": [
    "$(b)$ Utilice la siguiente distribución a priori uniforme:\n",
    "\n",
    "$$\\pi(\\mu, \\sigma) = \\left\\{\n",
    "        \\begin{array}{cc}\n",
    "        1 & \\text{si} \\quad 3 \\leq \\mu \\leq 5, \\quad 0.5 \\leq \\sigma \\leq 3.5 \\\\\n",
    "        0 & \\text{si ocurre cualquier otro caso.}\n",
    "        \\end{array} \\right.$$"
   ]
  },
  {
   "cell_type": "code",
   "execution_count": null,
   "metadata": {},
   "outputs": [],
   "source": []
  },
  {
   "attachments": {},
   "cell_type": "markdown",
   "metadata": {},
   "source": [
    "$(c)$ Escriba la función de Likelihood Gaussiana:\n",
    "\n",
    "$$\\mathfrak{L}(\\mathbf{x}/\\mu, \\sigma) = \\prod_{i = 1}^{N} \\frac{1}{\\sqrt{2 \\pi \\sigma^{2}}} \\cdot e^{- (\\mu - x_{i})^{2}/2\\sigma^{2}}.$$"
   ]
  },
  {
   "cell_type": "code",
   "execution_count": null,
   "metadata": {},
   "outputs": [],
   "source": []
  },
  {
   "attachments": {},
   "cell_type": "markdown",
   "metadata": {},
   "source": [
    "$(d)$ Calcule el algoritmo de la distribución posterior:\n",
    "\n",
    "$$\\ln(\\mathbb{P}(\\mu, \\sigma/\\mathbb{x})) \\cong \\ln(\\mathfrak{L}(\\mathbf{x}/\\mu, \\sigma) \\cdot \\pi(\\mu, \\sigma))$$\n",
    "\n",
    "Dado que la distribución encontrada no está normalizada, la relación que existe es de proporcionalidad."
   ]
  },
  {
   "cell_type": "code",
   "execution_count": null,
   "metadata": {},
   "outputs": [],
   "source": []
  },
  {
   "attachments": {},
   "cell_type": "markdown",
   "metadata": {},
   "source": [
    "$(e)$ Use el algoritmo de Metrópolis para realizar el muestreo de $\\ln(\\mathbb{P}(\\mu, \\sigma/\\mathbb{x}))$ con $N = 2 \\times 10^{4}$ eventos."
   ]
  },
  {
   "cell_type": "code",
   "execution_count": null,
   "metadata": {},
   "outputs": [],
   "source": []
  },
  {
   "attachments": {},
   "cell_type": "markdown",
   "metadata": {},
   "source": [
    "$(f)$ Estime el mejor valor de los parámetros del modelo $(\\hat{\\mu}, \\hat{\\sigma})$."
   ]
  },
  {
   "cell_type": "code",
   "execution_count": null,
   "metadata": {},
   "outputs": [],
   "source": []
  },
  {
   "attachments": {},
   "cell_type": "markdown",
   "metadata": {},
   "source": [
    "**$5)\\verb| (Python) |$** En general la varianza de estimadores es no calculable:\n",
    "\n",
    "$$V(\\hat{\\theta}) = E(\\hat{\\theta}^{2}) - E(\\hat{\\theta})^{2}.$$\n",
    "\n",
    "En el caso de la distribución exponencial tenemos un valor analítico dado por:\n",
    "\n",
    "$$V(\\hat{\\theta}) = \\int_{0}^{\\infty} \\dots \\int_{0}^{\\infty} \\left(\\frac{1}{n} \\cdot \\sum_{i = 1}^{n} x_{i} \\right)^{2} \\cdot \\frac{1}{\\theta} e^{-x_{1}/\\theta} \\dots \\frac{1}{\\theta} \\cdot e^{-x_{n}/\\theta} dx_{1} \\cdots dx_{n} - \\left[ \\int_{0}^{\\infty} \\dots \\int_{0}^{\\infty} \\left(\\frac{1}{n} \\cdot \\sum_{i = 1}^{n} x_{i} \\right) \\cdot \\frac{1}{\\theta} e^{-x_{1}/\\theta} \\dots \\frac{1}{\\theta} \\cdot e^{-x_{n}/\\theta} dx_{1} \\cdots dx_{n} \\right]^{2} = \\frac{\\theta^{2}}{n}.$$\n",
    "\n",
    "$(a)$ Intente encontrar este resultado analíticamente.\n"
   ]
  },
  {
   "cell_type": "code",
   "execution_count": null,
   "metadata": {},
   "outputs": [],
   "source": []
  },
  {
   "attachments": {},
   "cell_type": "markdown",
   "metadata": {},
   "source": [
    "$(b)$ Con el método de MonteCarlo compruebe este resultado para un conjunto de $n = 20$ variables aleatorias $x_i \\dots x_{n} \\cong Exp(\\theta = 2)$. Generar varias muestras de distribuciones exponenciales para tener un buen promedio en el ensamble, por ejemplo: $N = 10^{6}$. (Se obtiene algo como $Var(\\hat(\\theta)) = 0.199$)."
   ]
  },
  {
   "cell_type": "code",
   "execution_count": null,
   "metadata": {},
   "outputs": [],
   "source": []
  }
 ],
 "metadata": {
  "kernelspec": {
   "display_name": "Python 3",
   "language": "python",
   "name": "python3"
  },
  "language_info": {
   "codemirror_mode": {
    "name": "ipython",
    "version": 3
   },
   "file_extension": ".py",
   "mimetype": "text/x-python",
   "name": "python",
   "nbconvert_exporter": "python",
   "pygments_lexer": "ipython3",
   "version": "3.10.8"
  },
  "orig_nbformat": 4
 },
 "nbformat": 4,
 "nbformat_minor": 2
}
