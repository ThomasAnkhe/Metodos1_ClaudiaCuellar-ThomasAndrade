{
 "cells": [
  {
   "attachments": {},
   "cell_type": "markdown",
   "metadata": {},
   "source": [
    "> # **Métodos Computacionales I - Taller #4**\n",
    "\n",
    "**Hecho por:** Claudia Alejandra Cuellar Nieto & Thomas Andrade Hernández\n"
   ]
  },
  {
   "cell_type": "code",
   "execution_count": 276,
   "metadata": {},
   "outputs": [],
   "source": [
    "# Zona de librerías:\n",
    "import urllib.request\n",
    "import numpy as np\n",
    "import matplotlib.pyplot as plt\n",
    "import matplotlib.animation as anim\n",
    "from mpl_toolkits.mplot3d import axes3d\n",
    "from matplotlib import rc\n",
    "import sympy as sym\n",
    "import pandas as pd\n",
    "from tqdm import tqdm\n",
    "from time import sleep\n",
    "import os.path as path\n",
    "import os\n",
    "import wget\n",
    "import math\n",
    "from scipy.stats import norm\n",
    "from scipy.stats import cauchy"
   ]
  },
  {
   "attachments": {},
   "cell_type": "markdown",
   "metadata": {},
   "source": [
    "> # **6.7. Técnicas de Conteo**\n",
    "\n",
    "**$20)\\verb| (Python y Teoría)|$** Demuestre la fórmula de combinaciones con repetición:\n",
    "\n",
    "$$C_{r}^{n} = \\begin{pmatrix}\n",
    "n + r - 1 \\\\\n",
    "r\n",
    "\\end{pmatrix}$$"
   ]
  },
  {
   "attachments": {},
   "cell_type": "markdown",
   "metadata": {},
   "source": [
    "**Respuesta:**\n",
    "\n",
    "Para la demostración de dicha fórmula nos basaremos en la analogía de barras y estrellas usada para calcular los problemas que involucran este tipo de combinatoria. Como sabemos, la combinatoria en su modo binomial se expresa del modo,\n",
    "\n",
    "$$ C_r^n = \\begin{pmatrix} n \\\\ r\\end{pmatrix} = \\frac{n!}{r!(n-r)!}$$\n",
    "\n",
    "Donde $n$ será nuestro espacio muestral y $r$ es el número de casos posibles en la probabilidad. Dada la combinatoria con repetición, se puede plantear de la misma manera pero con un conjunto $n$ de tamaño $n+r-1$, el cual se puede demostrar dada la analogía mencionada al inicio.\n",
    "\n",
    "En barras y estrellas se suele simplificar el concepto de ordenar $r$ elementos dado un orden de $n$. Donde $r$ representa el número de total de estrellas que usarás y $n$ el número de cajas que puedes armar con las barras. Por ejemplo, en el ejercicio 22 se usa dicha analogía para resolver analíticamente el problema dado. Allí, se puede observar que el número de barras que  se formarán será de $n-1$. Además, que el espacio muestral será la suma tanto de barras como estrellas, en nuestro caso $r +n-1$. Reemplazando en la fórmula de combinatoria sin repetición obtenemos que,\n",
    "\n",
    "$$ C_r^n = \\begin{pmatrix} n+r-1 \\\\ r\\end{pmatrix} = \\begin{pmatrix}\\begin{pmatrix} n \\\\ r\\end{pmatrix}\\end{pmatrix} =\\frac{(n+r-1)!}{r!(n+r-1-r)!} = \\frac{(n+r-1)!}{r!(n-1)!}$$\n",
    "\n",
    "Así quedaría demostrada la fórmula de combinatoria con repetición."
   ]
  },
  {
   "attachments": {},
   "cell_type": "markdown",
   "metadata": {},
   "source": [
    "**$22)\\verb| (Python y Teoría)|$** ¿Cuántas sumas de tres enteros no negativos dan 10? (Verifique el resultado con la solución correcta _R:66_)."
   ]
  },
  {
   "attachments": {},
   "cell_type": "markdown",
   "metadata": {},
   "source": [
    "**Respuesta:**\n",
    "\n",
    "Para resolver este ejercicio usaremos el método de estrellas y barras. En este caso, tenemos 10 estrellas y dos barras, las cuales dividen las estrellas en tres grupos. Por ejemplo, podemos tener la combinación $(* * | * * * * | * * * *)$ o la combinación $(* * * | * * * * | * * *)$ . Así se puede expresar esta relación como la combinatoria,\n",
    "\n",
    "$$ C_r^n = \\begin{pmatrix} 12 \\\\ 2\\end{pmatrix} = \\frac{12!}{2!(12-2)!} = \\frac{12!}{2!(10)!} = 66$$\n",
    "\n",
    "Ya que existen 66 formas de escoger la posición de las dos barras organizando el espacio generado tanto por estrellas como barras, es decir 12. Además, podemos calcular dicho problema computacionalmente."
   ]
  },
  {
   "cell_type": "code",
   "execution_count": 277,
   "metadata": {},
   "outputs": [
    {
     "name": "stdout",
     "output_type": "stream",
     "text": [
      "El resultado de la fórmula de combinatoria sencilla es:66.0\n"
     ]
    }
   ],
   "source": [
    "def Combinatory(n,r):\n",
    "    c = math.factorial(n) / (math.factorial(np.abs(r))*math.factorial(np.abs(n-r)))\n",
    "    return c\n",
    "\n",
    "print(\"El resultado de la fórmula de combinatoria sencilla es:{}\".format(Combinatory(12,2)))"
   ]
  },
  {
   "attachments": {},
   "cell_type": "markdown",
   "metadata": {},
   "source": [
    "**$23)\\verb| (Python y Teoría)|$** Se tienen 9 llaves: 3 rojas, 3 azules y 3 verdes. Si elegimos 4, ¿de cuántas formas se pueden distribuir los colores? (Verifique el resultado con la solución correcta _R:12_)."
   ]
  },
  {
   "cell_type": "code",
   "execution_count": null,
   "metadata": {},
   "outputs": [],
   "source": []
  },
  {
   "attachments": {},
   "cell_type": "markdown",
   "metadata": {},
   "source": [
    "> # **6.8. Generales de Probabilidad**\n",
    "\n",
    "**$4)\\verb| (Python)|$** Calcular la probabilidad de $n$ personas $(n \\leq 365)$ tengan fechas diferentes de cumpleaños, i.e. escribir la fórmula general del cálculo. Grafique la probabilidad $\\mathbb(P)(n \\leq 80)$ como función de $n$. _Los números son demasiado grandes, pero Python puede manejar dichas cantidades_."
   ]
  },
  {
   "attachments": {},
   "cell_type": "markdown",
   "metadata": {},
   "source": [
    "**Respuesta:**\n",
    "\n",
    "La probabilidad de que $n$ personas tengan fechas de cumpleaños diferentes se puede calcular como la razón entre el número de formas posibles en las que $n$ personas pueden tener fechas distintas y el número total de formas en que $n$ personas pueden tener fechas de cumpleaños.\n",
    "\n",
    "El número total de formas en que $n$ personas pueden tener fechas de cumpleaños está dada por una permutación sencilla, ya que cada persona puede tener su cumpleaños en cualquiera de los 365 días del año, es decir $365^n$. Por otra parte, el número de formas en que $n$ personas pueden tener fechas de cumpleaños diferentes resulta ser una variación sin repetición, ya que la primera persona puede tener su cumpleaños en cualquiera de los 365 días del año, la segunda persona puede tener su cumpleaños en cualquiera de los 364 días restantes, y así sucesivamente. Dicha expresión se puede escribir de la forma,\n",
    "\n",
    "$$ V_r^n = \\frac{365!}{(365-n)!} $$\n",
    "\n",
    "Por eso, la forma general de dicha probabilidad se puede expresar como una combinatoria,\n",
    "\n",
    "$$ C_r^n =\\frac{V_r^n}{P_n} = \\frac{365!/(365-n)!} {365^n} = \\frac{365!}{365^n(365-n)!}$$\n",
    "\n",
    "Así la fórmula general se puede expresar como,\n",
    "\n",
    "$$ P(n) = \\frac{365!}{365^n(365-n)!}$$\n",
    "\n",
    "La gráfica de dicha probabilidad en función de $n$ para $n\\leq 80$ se muestra a continuación, en esta se puede observar que la probabilidad irá disminuyendo a medida que aumente la cantidad de personas.  "
   ]
  },
  {
   "cell_type": "code",
   "execution_count": 278,
   "metadata": {},
   "outputs": [
    {
     "data": {
      "text/plain": [
       "Text(0, 0.5, 'P(n)')"
      ]
     },
     "execution_count": 278,
     "metadata": {},
     "output_type": "execute_result"
    },
    {
     "data": {
      "image/png": "[encoded data removed]",
      "text/plain": [
       "<Figure size 432x288 with 1 Axes>"
      ]
     },
     "metadata": {
      "needs_background": "light"
     },
     "output_type": "display_data"
    }
   ],
   "source": [
    "N = []\n",
    "n =range(81)\n",
    "for i in n:\n",
    "    c = math.factorial(365) / (math.factorial(365-i)*(365**i))\n",
    "    N.append(c)\n",
    "    \n",
    "plt.title('$P(n \\leq 80)$')\n",
    "plt.scatter(n,N,color='g')\n",
    "plt.xlabel('n')\n",
    "plt.ylabel('P(n)')"
   ]
  },
  {
   "attachments": {},
   "cell_type": "markdown",
   "metadata": {},
   "source": [
    "Lo cual cobra sentido si tenemos en cuenta el vídeo del canal Derivando recomendado para este ejercicio. Tomando la fórmula de probabilidad para $n$ personas que cumplan años en fechas iguales se puede observar que es inversa a la gráfica hallada anteriormente. Entre mayor es la probabilidad de que $n$ personas cumplan en la misma fecha, disminuye para el caso en que cumplen en fechas distintas.\n"
   ]
  },
  {
   "cell_type": "code",
   "execution_count": 279,
   "metadata": {},
   "outputs": [
    {
     "data": {
      "text/plain": [
       "<matplotlib.legend.Legend at 0x27545e178e0>"
      ]
     },
     "execution_count": 279,
     "metadata": {},
     "output_type": "execute_result"
    },
    {
     "data": {
      "image/png": "[encoded data removed]",
      "text/plain": [
       "<Figure size 432x288 with 1 Axes>"
      ]
     },
     "metadata": {
      "needs_background": "light"
     },
     "output_type": "display_data"
    }
   ],
   "source": [
    "Nn = []\n",
    "for i in n:\n",
    "    c = 1 - (364/365)**i\n",
    "    Nn.append(c)\n",
    "    \n",
    "plt.title('Comparación para $n \\leq 80$')\n",
    "plt.scatter(n,N,color='g',label='Fechas distintas.')\n",
    "plt.scatter(n,Nn,color='m',label='Fechas iguales.')\n",
    "plt.xlabel('n')\n",
    "plt.ylabel('P(n)')\n",
    "plt.legend()"
   ]
  },
  {
   "attachments": {},
   "cell_type": "markdown",
   "metadata": {},
   "source": [
    "**$9)\\verb| (Python)|$** Se lanzan 4 monedas al aire, imagine que las monedas están truncadas de tal manera que la probabilidad de que la moneda $1$ sea cara es $p_1$ y que sea sello es $1 - p_1$. Usando el árbol de probabilidad, ¿cuál es la expresión de la probabilidad de obtener dos caras y dos sellos de este evento? Si el truncamiento de las monedas $1$ y $2$ puede variar como: $0.1 < p_1 < 0.9$ y $0.1 < p_2 < 0.5$, use el árbol de probabilidad para graficar la superficie de probabilidad del evento $A$. ¿En qué punto la probabilidad es mínima y máxima, y cuáles son sus valores?"
   ]
  },
  {
   "cell_type": "code",
   "execution_count": null,
   "metadata": {},
   "outputs": [],
   "source": []
  },
  {
   "attachments": {},
   "cell_type": "markdown",
   "metadata": {},
   "source": [
    "**$12)\\verb| (Python, Microcanonical ensemble)|$** Hay un sistema constituido por $N$ partículas, cada una puede estar en dos niveles de energía distintos (no degenerados) de valor $\\epsilon_0$ y $\\epsilon_1$ ($\\epsilon_1$ > $\\epsilon_0$). Si llamamos $n_0$ al número de partículas en el estado $\\epsilon_0$ y a $n_1$ al número de partículas en el estado $\\epsilon_1$. Se tienen las siguientes restricciones para la energía total y el número total de partículas:\n",
    "\n",
    "$$E = n_{0}\\epsilon_{0} + n_{1}\\epsilon_{1}$$\n",
    "$$N = n_{0} + n_{1}$$\n",
    "\n",
    "$(a)$ Muestre que el numero de configuraciones posibles (micro-estados) está dado por:\n",
    "\n",
    "$$\\Omega(N, n_{0}) = \\frac{N!}{n_{0}!\\cdot n_{1}!}$$"
   ]
  },
  {
   "cell_type": "code",
   "execution_count": null,
   "metadata": {},
   "outputs": [],
   "source": []
  },
  {
   "attachments": {},
   "cell_type": "markdown",
   "metadata": {},
   "source": [
    "$(b)$ Usando la ecuación de la entropía $S(N, n_0{}) = k_{b}\\ln(\\Omega)$ y la fórmula de Stirling $\\ln(\\Omega) \\approx N\\ln(N) - N$, muestre que la entropía es aproximadamente igual a:\n",
    "\n",
    "$$S(N, n_{0}, n_{1}) = k_{b} \\cdot \\left[N\\ln(N) - \\sum_{i = 0}^{1} n_{i}\\ln(n_{i})\\right   ]$$"
   ]
  },
  {
   "cell_type": "code",
   "execution_count": null,
   "metadata": {},
   "outputs": [],
   "source": []
  },
  {
   "attachments": {},
   "cell_type": "markdown",
   "metadata": {},
   "source": [
    "$(c)$ Si definimos la fracción $x = n_{1}/N$ de partículas que se encuentra en el nivel de energía $\\epsilon_{1}$. Muestre que la entropía toma la forma:\n",
    "\n",
    "$$S(N, x) = -k_{b} \\cdot \\left[x\\ln(x) + (1 - x)\\ln(1 - x) \\right]$$\n",
    "\n",
    "donde $x = \\dfrac{1}{N(\\epsilon_{1} - \\epsilon_{0})} \\cdot (E - N\\epsilon_{0})$ como función de $x$."
   ]
  },
  {
   "cell_type": "code",
   "execution_count": null,
   "metadata": {},
   "outputs": [],
   "source": []
  },
  {
   "attachments": {},
   "cell_type": "markdown",
   "metadata": {},
   "source": [
    "$(d)$ Dibuje la entropía $S(N, x)/(k_{b}N)$ como función de $x$."
   ]
  },
  {
   "cell_type": "code",
   "execution_count": null,
   "metadata": {},
   "outputs": [],
   "source": []
  },
  {
   "attachments": {},
   "cell_type": "markdown",
   "metadata": {},
   "source": [
    "$(e)$ De la primera ley de la termodinámica tenemos:\n",
    "\n",
    "$$\\frac{1}{N} = \\left(\\frac{\\partial S}{\\partial E}\\right)_{N} = \\left(\\frac{\\partial S}{\\partial x}\\right)_{N} \\cdot \\left(\\frac{\\partial x}{\\partial E}\\right)_{N}$$\n",
    "\n",
    "muestre que la proporción de partículas como función de la temperatura está dada por:\n",
    "\n",
    "$$x(T) = \\frac{1}{1 + e^{-\\Delta E/k_{b}T}}, \\quad \\Delta E = \\epsilon_{1} - \\epsilon_{2}.$$"
   ]
  },
  {
   "cell_type": "code",
   "execution_count": null,
   "metadata": {},
   "outputs": [],
   "source": []
  },
  {
   "attachments": {},
   "cell_type": "markdown",
   "metadata": {},
   "source": [
    "$(f)$ Para bajas y altas temperaturas, $ T \\to 0$ y $T \\to \\infty$, encuentre $x(T)$. Muestre que la entropía a altas temperaturas vale:\n",
    "\n",
    "$$\\lim_{T \\to \\infty} S(T) = k_{b}N\\ln(2).$$"
   ]
  },
  {
   "cell_type": "code",
   "execution_count": null,
   "metadata": {},
   "outputs": [],
   "source": []
  },
  {
   "attachments": {},
   "cell_type": "markdown",
   "metadata": {},
   "source": [
    "$(g)$ Un gas ideal conformado por N partículas, realiza una expansión isotérmica de un volumen $V_{1} = V$ a un un volumen $V_{2} = 2V$. Calcule el cambio de entropía y compare con el resultado anterior. ¿Cómo se relacionan?"
   ]
  },
  {
   "cell_type": "code",
   "execution_count": null,
   "metadata": {},
   "outputs": [],
   "source": []
  },
  {
   "attachments": {},
   "cell_type": "markdown",
   "metadata": {},
   "source": [
    "> # **6.10. Distribuciones Discretas de Probabilidad.**\n",
    "\n",
    "**$3)\\verb| (Python)|$** Un embarque de $10$ microchips similares que se envía a distribución tiene $3$ aparatos defectuosos. Si una empresa realiza un compra aleatoria de $2$ de estos microchips:\n",
    "\n",
    "$(a)$ Muestre que la distribución de probabilidad del número de microchips defectuosos es igual a:\n",
    "\n",
    "$$f(x) = \\dfrac{\\begin{pmatrix} 7 \\\\ 2 - x\\end{pmatrix} \\cdot \\begin{pmatrix} 3 \\\\ x\\end{pmatrix}}{\\begin{pmatrix} 10 \\\\ 2 \\end{pmatrix}}$$\n",
    "\n",
    "dado:\n",
    "\n",
    "<center>\n",
    "\n",
    "| $x$ | $ 0 $ | $ 1 $ | $ 2 $ |\n",
    "| ------- | ---- | ---- | ---- |\n",
    "| $\\mathbb{P}(X = x)$ | $ 7/15 $ | $ 7/15 $ | $ 1/15 $ |\n"
   ]
  },
  {
   "attachments": {},
   "cell_type": "markdown",
   "metadata": {},
   "source": [
    "**Respuesta:**\n",
    "\n",
    "Para este problema podemos tomar la razón entre casos posibles y totales. Para los casos totales únicamente tendremos la situación en la que la empresa compre 2 chip defectuosos de los 10, es decir ${\\begin{pmatrix} 10 \\\\ 2\\end{pmatrix}}$.\n",
    "\n",
    "Por otra parte, para los casos posibles se tendrán tres diferentes situaciones:\n",
    "\n",
    "1) En el caso de que la empresa no compre ningún chip defectuoso, se tendrá el número de chips no defectuosos y la cantidad que compró la empresa, es decir $\\begin{pmatrix} 7 \\\\ 2\\end{pmatrix}$\n",
    "\n",
    "2) En el caso de que la empresa compre 1 chip defectuoso, se tendrá el número de chips no defectuosos y la cantidad que compró la empresa multiplicándose con la cantidad de chips defectuosos y los que pudo adquirir la empresa, es decir $\\begin{pmatrix} 7 \\\\ 2\\end{pmatrix} \\cdot \\begin{pmatrix} 3 \\\\ 1\\end{pmatrix}$\n",
    "\n",
    "3) En el caso de que la empresa compre 2 chips defectuosos, se tendrá únicamente la cantidad de chips defectuosos y los que pudo adquirir la empresa, es decir $\\begin{pmatrix} 3 \\\\ 2\\end{pmatrix}$\n",
    "\n",
    "Como podemos observar los tres casos anteriores son dependientes entre sí, donde el número de chips defectuosos obtenidos por la empresa será nuestra variable de referencia. Por eso, se puede generalizar la combinatoria como,\n",
    "\n",
    "$$ f(x) = \\frac{\\begin{pmatrix} 7 \\\\ 2-x \\end{pmatrix} \\cdot \\begin{pmatrix} 3 \\\\ x\\end{pmatrix}}{\\begin{pmatrix} 10 \\\\ 2\\end{pmatrix}} $$\n",
    "\n",
    "Donde la distribución de la probabilidad para cada x será,"
   ]
  },
  {
   "cell_type": "code",
   "execution_count": 280,
   "metadata": {},
   "outputs": [
    {
     "name": "stdout",
     "output_type": "stream",
     "text": [
      "Para x=0 la distribución es de:0.4666666666666667\n",
      "Para x=1 la distribución es de:0.4666666666666667\n",
      "Para x=2 la distribución es de:0.06666666666666667\n"
     ]
    }
   ],
   "source": [
    "def Distribution(x):\n",
    "    X = (Combinatory(7,2-x) * Combinatory(3,x))/Combinatory(10,2)\n",
    "    return X\n",
    "\n",
    "print(\"Para x=0 la distribución es de:{}\".format(Distribution(0)))\n",
    "print(\"Para x=1 la distribución es de:{}\".format(Distribution(1)))\n",
    "print(\"Para x=2 la distribución es de:{}\".format(Distribution(2)))"
   ]
  },
  {
   "attachments": {},
   "cell_type": "markdown",
   "metadata": {},
   "source": [
    "Por lo que queda mostrada la distribución de probabilidad de los chips defectuosos."
   ]
  },
  {
   "attachments": {},
   "cell_type": "markdown",
   "metadata": {},
   "source": [
    "$(b)$ ¿Cuál es el valor esperado de microchips defectuosos? **Ans:** $\\hat{\\mu} = 3/5 = 0.6$"
   ]
  },
  {
   "cell_type": "code",
   "execution_count": 281,
   "metadata": {},
   "outputs": [
    {
     "name": "stdout",
     "output_type": "stream",
     "text": [
      "El resultado esperado para u es de:0.6\n"
     ]
    }
   ],
   "source": [
    "x = [0,1,2]\n",
    "u = x[0]*Distribution(0) + x[1]*Distribution(1) + x[2]*Distribution(2)\n",
    "\n",
    "print(\"El resultado esperado para u es de:{}\".format(u))"
   ]
  },
  {
   "attachments": {},
   "cell_type": "markdown",
   "metadata": {},
   "source": [
    "**$4)\\verb| (Python)|$** Una caja cuántica tiene $3$ electrones, $2$ protones y $3$ neutrones. Se selecciona una muestra aleatoria de 4 partículas. Si $x$ es el número de electrones e $y$ es el número de protones:\n",
    "\n",
    "$(a)$ Muestre que la distribución de probabilidad conjunta $f(x, y)$ es:\n",
    "\n",
    "$$f(x, y) = \\dfrac{\\begin{pmatrix} 3 \\\\ x \\end{pmatrix} \\cdot \\begin{pmatrix} 2 \\\\ y \\end{pmatrix} \\cdot \\begin{pmatrix} 3 \\\\ 4 - x - y \\end{pmatrix}}{\\begin{pmatrix} 8 \\\\ 4 \\end{pmatrix}}$$"
   ]
  },
  {
   "attachments": {},
   "cell_type": "markdown",
   "metadata": {},
   "source": [
    "**Respuesta:**\n",
    "\n",
    "Para este problema podemos tomar la razón entre casos posibles y totales. Para los casos totales únicamente tendremos la situación en que se tomen las 4 partículas del total, es decir ${\\begin{pmatrix} 8 \\\\ 4\\end{pmatrix}}$.\n",
    "\n",
    "Por otra parte, para los casos posibles se tendrán tres diferentes situaciones:\n",
    "\n",
    "1) En el caso de que se escoja un electrón, es decir $\\begin{pmatrix} 3 \\\\ x\\end{pmatrix}$\n",
    "\n",
    "2) En el caso de que se escoja un protón, es decir $\\begin{pmatrix} 2 \\\\ y\\end{pmatrix}$\n",
    "\n",
    "3) En el caso de que se escoja un neutrón, se tendrá únicamente el total de partículas menos la cantidad de electrones y protones, es decir $\\begin{pmatrix} 3 \\\\ 4-x-y\\end{pmatrix}$\n",
    "\n",
    "Como podemos observar los tres casos anteriores son dependientes entre sí, donde el número de partículas escogidas será nuestra variable de referencia. Por eso, se puede generalizar la combinatoria como,\n",
    "\n",
    "$$f(x, y) = \\dfrac{\\begin{pmatrix} 3 \\\\ x \\end{pmatrix} \\cdot \\begin{pmatrix} 2 \\\\ y \\end{pmatrix} \\cdot \\begin{pmatrix} 3 \\\\ 4 - x - y \\end{pmatrix}}{\\begin{pmatrix} 8 \\\\ 4 \\end{pmatrix}}$$"
   ]
  },
  {
   "cell_type": "code",
   "execution_count": 282,
   "metadata": {},
   "outputs": [],
   "source": [
    "def f_particles(x, y):\n",
    "    return Combinatory(3, x) * Combinatory(2, y) * Combinatory(3, 4 - x - y) / Combinatory(8, 4)"
   ]
  },
  {
   "attachments": {},
   "cell_type": "markdown",
   "metadata": {},
   "source": [
    "$(b)$ Hallar las distribuciones marginales $g(x)$ y $h(y)$."
   ]
  },
  {
   "cell_type": "code",
   "execution_count": 283,
   "metadata": {},
   "outputs": [
    {
     "name": "stdout",
     "output_type": "stream",
     "text": [
      "La distribución marginal para x estará dada por la sumatoria de las posibilidades de y\n"
     ]
    },
    {
     "data": {
      "text/plain": [
       "0.075"
      ]
     },
     "execution_count": 283,
     "metadata": {},
     "output_type": "execute_result"
    }
   ],
   "source": [
    "print(\"La distribución marginal para x estará dada por la sumatoria de las posibilidades de y\")\n",
    "def g(x,y):\n",
    "    result = 0\n",
    "    for y in range(3):\n",
    "        result += f_particles(x, y)\n",
    "    return result\n",
    "\n",
    "g(0,y)"
   ]
  },
  {
   "cell_type": "code",
   "execution_count": 284,
   "metadata": {},
   "outputs": [
    {
     "name": "stdout",
     "output_type": "stream",
     "text": [
      "La distribución marginal para x estará dada por la sumatoria de las posibilidades de y\n"
     ]
    },
    {
     "data": {
      "text/plain": [
       "0.21785714285714286"
      ]
     },
     "execution_count": 284,
     "metadata": {},
     "output_type": "execute_result"
    }
   ],
   "source": [
    "print(\"La distribución marginal para x estará dada por la sumatoria de las posibilidades de y\")\n",
    "def h(x,y):\n",
    "    result = 0\n",
    "    for x in range(4):\n",
    "        result += f_particles(x, y)\n",
    "    return result\n",
    "\n",
    "h(x,0)"
   ]
  },
  {
   "attachments": {},
   "cell_type": "markdown",
   "metadata": {},
   "source": [
    "$(c)$ $\\mathbb{E}(x) = 105/70$.\n",
    "\n",
    "Los valores de x estarán dados por la expresión:\n",
    "\n",
    "$$\\mathbb{E}(x) = \\sum_{x=0}^{3} x \\cdot g(x)$$"
   ]
  },
  {
   "cell_type": "code",
   "execution_count": 285,
   "metadata": {},
   "outputs": [
    {
     "name": "stdout",
     "output_type": "stream",
     "text": [
      "El valor esperado para x es de:1.5107142857142857\n"
     ]
    }
   ],
   "source": [
    "Ex = 0\n",
    "for x in range(4):\n",
    "    Ex += x * g(x,0)\n",
    "    \n",
    "print(\"El valor esperado para x es de:{}\".format(Ex))"
   ]
  },
  {
   "attachments": {},
   "cell_type": "markdown",
   "metadata": {},
   "source": [
    "$(d)$ $\\mathbb{E}(y) = 1$.\n",
    "\n",
    "Los valores de y estarán dados por la expresión:\n",
    "\n",
    "$$\\mathbb{E}(y) = \\sum_{y=0}^{2} y \\cdot h(y)$$"
   ]
  },
  {
   "cell_type": "code",
   "execution_count": 286,
   "metadata": {},
   "outputs": [
    {
     "name": "stdout",
     "output_type": "stream",
     "text": [
      "El valor esperado para y es de:1.0071428571428571\n"
     ]
    }
   ],
   "source": [
    "Ey = 0\n",
    "for y in range(3):\n",
    "    Ey += y * h(0,y)\n",
    "    \n",
    "print(\"El valor esperado para y es de:{}\".format(Ey))"
   ]
  },
  {
   "attachments": {},
   "cell_type": "markdown",
   "metadata": {},
   "source": [
    "$(e)$ Calcular la covarianza usando $\\sigma_{xy} = \\mathbb{E}(xy) -\\mathbb{E}(x) \\cdot \\mathbb{E}(y) = -3/14$."
   ]
  },
  {
   "cell_type": "code",
   "execution_count": 287,
   "metadata": {},
   "outputs": [
    {
     "name": "stdout",
     "output_type": "stream",
     "text": [
      "La covarianza usando la fórmula dada es de:-0.2143622448979594\n"
     ]
    }
   ],
   "source": [
    "def Exy():\n",
    "    result = 0\n",
    "    for x in range(4):\n",
    "        for y in range(3):\n",
    "            result += x * y * f_particles(x, y)\n",
    "    return result\n",
    "\n",
    "coxy_1 = Exy() - Ex*Ey\n",
    "print(\"La covarianza usando la fórmula dada es de:{}\".format(coxy_1))"
   ]
  },
  {
   "attachments": {},
   "cell_type": "markdown",
   "metadata": {},
   "source": [
    "$(f)$ Calcular la covarianza usando $\\sigma_{xy} = \\mathbb{E}((x - \\hat{\\mu}_{x})(y - \\hat{\\mu}_{y})) -\\mathbb{E}(x) \\cdot \\mathbb{E}(y) = -3/14$."
   ]
  },
  {
   "cell_type": "code",
   "execution_count": 288,
   "metadata": {},
   "outputs": [
    {
     "name": "stdout",
     "output_type": "stream",
     "text": [
      "La covarianza usando la fórmula dada es de:-0.2143622448979594\n"
     ]
    }
   ],
   "source": [
    "#Para este caso u_x, u_y respectivamente son los valores esperados de x, y. \n",
    "coxy_2 = Exy() - Ex*Ey\n",
    "print(\"La covarianza usando la fórmula dada es de:{}\".format(coxy_2))"
   ]
  },
  {
   "attachments": {},
   "cell_type": "markdown",
   "metadata": {},
   "source": [
    "$(g)$ ¿Son las variables $x$ e $y$ independientes?\n",
    "\n",
    "Para determinar si dos variables aleatorias son independientes entre sí, su función de densidad conjunta debe ser igual al producto de sus funciones de densidad marginales."
   ]
  },
  {
   "cell_type": "code",
   "execution_count": 289,
   "metadata": {},
   "outputs": [
    {
     "data": {
      "text/plain": [
       "0.016339285714285712"
      ]
     },
     "execution_count": 289,
     "metadata": {},
     "output_type": "execute_result"
    }
   ],
   "source": [
    "#Producto de funciones de densidad marginales.\n",
    "g(0,2)*h(3,0)"
   ]
  },
  {
   "cell_type": "code",
   "execution_count": 290,
   "metadata": {},
   "outputs": [
    {
     "data": {
      "text/plain": [
       "0.0035714285714285713"
      ]
     },
     "execution_count": 290,
     "metadata": {},
     "output_type": "execute_result"
    }
   ],
   "source": [
    "#Función de densidad conjunta.\n",
    "f_particles(3,2)"
   ]
  },
  {
   "attachments": {},
   "cell_type": "markdown",
   "metadata": {},
   "source": [
    "Como podemos observar, no se obtienen los mismos resultados para la ecuación por lo que podemos concluir que las variables no son independientes."
   ]
  },
  {
   "attachments": {},
   "cell_type": "markdown",
   "metadata": {},
   "source": [
    "> # **6.12. Distribuciones Continuas de Probabilidad.**\n",
    "\n",
    "**$1)\\verb| (Sympy)|$** Dada la función de probabilidad conjunta:\n",
    "\n",
    "$$f(x) = \\left\\{\n",
    "        \\begin{array}{cc}\n",
    "        \\dfrac{2}{3} \\cdot (x + 2y) & \\text{si} \\quad 0 \\leq x \\leq 1, \\quad 0 \\leq y \\leq 1. \\\\\n",
    "        0 & \\text{si ocurre cualquier otro caso.}\n",
    "        \\end{array} \\right.$$\n",
    "\n",
    "encuentre analíticamente y a través de Sympy los siguientes valores:\n",
    "\n",
    "$(a)$ Verifique que sea una función de densidad conjunta válida."
   ]
  },
  {
   "attachments": {},
   "cell_type": "markdown",
   "metadata": {},
   "source": [
    "Para demostrar que la función de densidad conjunta sea válida se necesita que cumpla con dos condiciones.\n",
    "\n",
    "1) La función es positiva para el intervalo de muestra: Dado que $0 \\leq x \\leq 1$ y $0 \\leq y \\leq 1$, tenemos que \n",
    "\n",
    "$$\\frac{2}{3}(x + 2y) \\geq 0 \\rightarrow x + 2y \\geq 0$$\n",
    "\n",
    "Si evaluamos en los extremos del intervalo podemos observar que siempre se cumple la condición propuesta.\n",
    "\n",
    "$$0 + (2)(0) \\geq 0 \\land 1 + (2)(1) \\geq 0$$\n",
    "\n",
    "Además, se puede observar que siempre se cumplirá dicha condición para todo $(x, y)$ en el espacio de muestra ya que la suma de dos números positivos siempre será positiva. Por lo que queda demostrado que la función será positiva para el intervalo dado.\n",
    "\n",
    "2) La integral evaluada en el intervalo dado es igual a uno: Para ello usaremos la librería sympy donde claramente se puede ver que esta condición se cumple."
   ]
  },
  {
   "cell_type": "code",
   "execution_count": 291,
   "metadata": {},
   "outputs": [
    {
     "name": "stdout",
     "output_type": "stream",
     "text": [
      "El resultado de la integral evaluada en el intervalo de muestra es:1.00000000000000\n"
     ]
    }
   ],
   "source": [
    "x, y = sym.symbols('x y')\n",
    "f = (2/3)*(x+2*y)\n",
    "\n",
    "Integrate = sym.integrate(sym.integrate(f, (x, 0, 1)), (y, 0, 1))\n",
    "\n",
    "print(\"El resultado de la integral evaluada en el intervalo de muestra es:{}\".format(Integrate))"
   ]
  },
  {
   "attachments": {},
   "cell_type": "markdown",
   "metadata": {},
   "source": [
    "$(b)$ Hallar las distribuciones marginales $g(x)$ y $h(y)$."
   ]
  },
  {
   "cell_type": "code",
   "execution_count": 292,
   "metadata": {},
   "outputs": [
    {
     "name": "stdout",
     "output_type": "stream",
     "text": [
      "La distribución marginal de x estará dada por la integral con respecto a y de la función:\n"
     ]
    },
    {
     "data": {
      "text/latex": [
       "$\\displaystyle 0.666666666666667 x + 0.666666666666667$"
      ],
      "text/plain": [
       "0.666666666666667*x + 0.666666666666667"
      ]
     },
     "execution_count": 292,
     "metadata": {},
     "output_type": "execute_result"
    }
   ],
   "source": [
    "print(\"La distribución marginal de x estará dada por la integral con respecto a y de la función:\")\n",
    "gx = sym.integrate(f, (y, 0, 1))\n",
    "gx"
   ]
  },
  {
   "cell_type": "code",
   "execution_count": 293,
   "metadata": {},
   "outputs": [
    {
     "name": "stdout",
     "output_type": "stream",
     "text": [
      "La distribución marginal de y estará dada por la integral con respecto a x de la función:\n"
     ]
    },
    {
     "data": {
      "text/latex": [
       "$\\displaystyle 1.33333333333333 y + 0.333333333333333$"
      ],
      "text/plain": [
       "1.33333333333333*y + 0.333333333333333"
      ]
     },
     "execution_count": 293,
     "metadata": {},
     "output_type": "execute_result"
    }
   ],
   "source": [
    "print(\"La distribución marginal de y estará dada por la integral con respecto a x de la función:\")\n",
    "hy = sym.integrate(f, (x, 0, 1))\n",
    "hy"
   ]
  },
  {
   "attachments": {},
   "cell_type": "markdown",
   "metadata": {},
   "source": [
    "$(c)$ $\\mathbb{E}(x) = 10/18$.\n",
    "\n",
    "Los valores de x estarán dados por la expresión:\n",
    "\n",
    "$$\\mathbb{E}(x) = \\int_{0}^{1} x \\cdot g(x) dx$$"
   ]
  },
  {
   "cell_type": "code",
   "execution_count": 294,
   "metadata": {},
   "outputs": [
    {
     "name": "stdout",
     "output_type": "stream",
     "text": [
      "El valor esperado para x es de:0.555555555555556\n"
     ]
    }
   ],
   "source": [
    "Ex = sym.integrate(gx*x, (x, 0, 1))\n",
    "print(\"El valor esperado para x es de:{}\".format(Ex))"
   ]
  },
  {
   "attachments": {},
   "cell_type": "markdown",
   "metadata": {},
   "source": [
    "$(d)$ $\\mathbb{E}(y) = 11/18$.\n",
    "\n",
    "Los valores de y estarán dados por la expresión:\n",
    "\n",
    "$$\\mathbb{E}(y) = \\int_{0}^{1} y \\cdot h(y) dy$$"
   ]
  },
  {
   "cell_type": "code",
   "execution_count": 295,
   "metadata": {},
   "outputs": [
    {
     "name": "stdout",
     "output_type": "stream",
     "text": [
      "El valor esperado para y es de:0.611111111111111\n"
     ]
    }
   ],
   "source": [
    "Ey = sym.integrate(hy*y, (y, 0, 1))\n",
    "print(\"El valor esperado para y es de:{}\".format(Ey))"
   ]
  },
  {
   "attachments": {},
   "cell_type": "markdown",
   "metadata": {},
   "source": [
    "$(e)$ Calcular la covarianza usando $\\sigma_{xy} = \\mathbb{E}(xy) -\\mathbb{E}(x) \\cdot \\mathbb{E}(y) = -0.00617$."
   ]
  },
  {
   "cell_type": "code",
   "execution_count": 296,
   "metadata": {},
   "outputs": [
    {
     "name": "stdout",
     "output_type": "stream",
     "text": [
      "La covarianza usando la fórmula dada es de:-0.00617283950617281\n"
     ]
    }
   ],
   "source": [
    "Exy = sym.integrate(sym.integrate(f*x*y, (x, 0, 1)), (y, 0, 1))\n",
    "coxy_1 = Exy - Ex*Ey\n",
    "\n",
    "print(\"La covarianza usando la fórmula dada es de:{}\".format(coxy_1))"
   ]
  },
  {
   "attachments": {},
   "cell_type": "markdown",
   "metadata": {},
   "source": [
    "$(f)$ Calcular la covarianza usando $\\sigma_{xy} = \\mathbb{E}((x - \\hat{\\mu}_{x})(y - \\hat{\\mu}_{y})) -\\mathbb{E}(x) \\cdot \\mathbb{E}(y) = -0.00617$."
   ]
  },
  {
   "cell_type": "code",
   "execution_count": 297,
   "metadata": {},
   "outputs": [
    {
     "name": "stdout",
     "output_type": "stream",
     "text": [
      "La covarianza usando la fórmula dada es de:-0.00617283950617284\n"
     ]
    }
   ],
   "source": [
    "#Para este caso u_x, u_y respectivamente son los valores esperados de x, y.\n",
    "Exx = x - Ex\n",
    "Eyy = y - Ey\n",
    "coxy_2 = sym.integrate(sym.integrate(Exx*Eyy*f, (x, 0, 1)), (y, 0, 1))\n",
    "\n",
    "print(\"La covarianza usando la fórmula dada es de:{}\".format(coxy_2))"
   ]
  },
  {
   "attachments": {},
   "cell_type": "markdown",
   "metadata": {},
   "source": [
    "$(g)$ ¿Son las variables $x$ e $y$ indepentientes?"
   ]
  },
  {
   "attachments": {},
   "cell_type": "markdown",
   "metadata": {},
   "source": [
    "Para determinar si dos variables aleatorias son independientes entre sí, su función de densidad conjunta debe ser igual al producto de sus funciones de densidad marginales."
   ]
  },
  {
   "cell_type": "code",
   "execution_count": 298,
   "metadata": {},
   "outputs": [
    {
     "data": {
      "text/latex": [
       "$\\displaystyle \\left(0.666666666666667 x + 0.666666666666667\\right) \\left(1.33333333333333 y + 0.333333333333333\\right)$"
      ],
      "text/plain": [
       "(0.666666666666667*x + 0.666666666666667)*(1.33333333333333*y + 0.333333333333333)"
      ]
     },
     "execution_count": 298,
     "metadata": {},
     "output_type": "execute_result"
    }
   ],
   "source": [
    "#Producto de funciones de densidad marginales.\n",
    "gx*hy"
   ]
  },
  {
   "cell_type": "code",
   "execution_count": 299,
   "metadata": {},
   "outputs": [
    {
     "data": {
      "text/latex": [
       "$\\displaystyle 0.666666666666667 x + 1.33333333333333 y$"
      ],
      "text/plain": [
       "0.666666666666667*x + 1.33333333333333*y"
      ]
     },
     "execution_count": 299,
     "metadata": {},
     "output_type": "execute_result"
    }
   ],
   "source": [
    "#Función de densidad conjunta.\n",
    "f"
   ]
  },
  {
   "attachments": {},
   "cell_type": "markdown",
   "metadata": {},
   "source": [
    "Como podemos observar, no se obtienen los mismos resultados para la ecuación por lo que podemos concluir que las variables no son independientes."
   ]
  },
  {
   "attachments": {},
   "cell_type": "markdown",
   "metadata": {},
   "source": [
    "$(4)$ Una variable aleatoria continua $X$ tiene una función densidad:\n",
    "\n",
    "$$f(x) = \\left\\{\n",
    "        \\begin{array}{cc}\n",
    "        e^{-x} & \\text{si} \\quad x > 0 \\\\\n",
    "        0 & \\text{si ocurre cualquier otro caso.}\n",
    "        \\end{array} \\right.$$\n",
    "\n",
    "Encuentre el valor esperado de $g(X) = e^{2X/3} = 3$. Recuerde que el valor esperado de la variable aleatoria $g(X)$ está dado por:\n",
    "\n",
    "$$\\hat{\\mu}_{g(X)} = \\int_{-\\infty}^{\\infty} g(x)f(x) dx$$"
   ]
  },
  {
   "cell_type": "code",
   "execution_count": null,
   "metadata": {},
   "outputs": [],
   "source": []
  },
  {
   "attachments": {},
   "cell_type": "markdown",
   "metadata": {},
   "source": []
  },
  {
   "attachments": {},
   "cell_type": "markdown",
   "metadata": {},
   "source": [
    "> # **6.16. Metropolis-Hasting Algorithm.**\n",
    "\n",
    "**$1)\\verb| (Sympy)|$** Se lanza una moneda $n = 10$ veces y se encuentra que $r = 7$ veces cae cara. Usando el algoritmo de Metrópolis:\n",
    "\n",
    "$(a)$ Encuentre el parámetro asociado a la probabilidad de éxito $\\hat{p}$ de la distribución\n",
    "binomial, es decir, encuentre el máximo de la distribución posterior.\n"
   ]
  },
  {
   "cell_type": "code",
   "execution_count": null,
   "metadata": {},
   "outputs": [],
   "source": []
  },
  {
   "attachments": {},
   "cell_type": "markdown",
   "metadata": {},
   "source": [
    "$(b)$ Usando la varianza binomial y los cuantiles de la distribución posterior, encuentre los errores asociados al parámetro $\\hat{p}$ a un nivel de confianza del $68\\%$ (i.e, $\\sigma^{+}_{-}$).\n"
   ]
  },
  {
   "cell_type": "code",
   "execution_count": null,
   "metadata": {},
   "outputs": [],
   "source": []
  },
  {
   "attachments": {},
   "cell_type": "markdown",
   "metadata": {},
   "source": [
    "$(c)$ ¿Podemos decir que la moneda está truncada? Utilice la siguiente distribución a priori para el espacio de parámetros:\n",
    "\n",
    "$$\\pi(p) = \\left\\{\n",
    "        \\begin{array}{cc}\n",
    "        1 & \\text{si} \\quad 0 < p < 1 \\\\\n",
    "        0 & \\text{si ocurre cualquier otro caso.}\n",
    "        \\end{array} \\right.$$"
   ]
  },
  {
   "cell_type": "code",
   "execution_count": null,
   "metadata": {},
   "outputs": [],
   "source": []
  },
  {
   "attachments": {},
   "cell_type": "markdown",
   "metadata": {},
   "source": [
    "**$3)\\verb| (Python)|$** Usando el algoritmo de Metrópolis, realice el muestreo de $N = 1000$ eventos de una distribución normal: $\\mathfrak{A} \\cong \\mathfrak{N} (x; \\mu = 2, \\sigma = 0.5).$\n"
   ]
  },
  {
   "cell_type": "code",
   "execution_count": 300,
   "metadata": {},
   "outputs": [
    {
     "data": {
      "image/png": "[encoded data removed]",
      "text/plain": [
       "<Figure size 432x288 with 1 Axes>"
      ]
     },
     "metadata": {
      "needs_background": "light"
     },
     "output_type": "display_data"
    }
   ],
   "source": [
    "#Defino los parámetros.\n",
    "mu = 2\n",
    "sigma = 0.5\n",
    "N = 1000\n",
    "x = np.random.normal(mu, sigma)\n",
    "step = 0.5\n",
    "samples = []\n",
    "\n",
    "#Función para una distribución normal.\n",
    "def f(x): \n",
    "    return (1/(sigma*np.sqrt(2*np.pi)))*(np.exp((-(x-mu)**2)/sigma))\n",
    "\n",
    "\n",
    "for i in range(N):\n",
    "    #Se generan pasos entre x.\n",
    "    x_ = x + np.random.normal(0, step)\n",
    "    \n",
    "    #Se genera el radio de aceptación del algoritmo.\n",
    "    acept = min(1, f(x_) / f(x))\n",
    "        \n",
    "    #Se revisa que entra dentro del radio de aceptación.\n",
    "    if np.random.rand() < acept:\n",
    "        x = x_\n",
    "    \n",
    "    samples.append(x)\n",
    "    \n",
    "#Se grafica la distribución normal esperada con la libreria scipy.stats.norm\n",
    "x = np.linspace(mu - 4*sigma, mu + 4*sigma, 1000)\n",
    "y = norm.pdf(x, mu, sigma)\n",
    "\n",
    "fig, ax = plt.subplots()\n",
    "ax.hist(samples, bins=30, density=True, alpha=0.5, label='Muestras')\n",
    "ax.plot(x, y, label='Distribución normal')\n",
    "ax.set_xlabel('x')\n",
    "ax.set_ylabel('Densidad')\n",
    "ax.legend()\n",
    "plt.show()"
   ]
  },
  {
   "attachments": {},
   "cell_type": "markdown",
   "metadata": {},
   "source": [
    "**$4)\\verb| (Python)|$** Usando el algoritmo de Metrópolis, realice el muestreo de $N = 1000$ eventos de una distribución estándar de Cauchy $\\mathfrak{A} \\cong f(x:0,1)$.\n",
    "\n",
    "$$f(x: 0,1) = \\frac{1}{\\pi \\cdot (1 + x^{2})}$$"
   ]
  },
  {
   "cell_type": "code",
   "execution_count": 319,
   "metadata": {},
   "outputs": [
    {
     "data": {
      "image/png": "[encoded data removed]",
      "text/plain": [
       "<Figure size 432x288 with 1 Axes>"
      ]
     },
     "metadata": {
      "needs_background": "light"
     },
     "output_type": "display_data"
    }
   ],
   "source": [
    "#Defino los parámetros.\n",
    "x0 = 0\n",
    "gamma = 1\n",
    "N = 1000\n",
    "step = 0.5\n",
    "x = 0\n",
    "samples = []\n",
    "\n",
    "#Función para una distribución de Cauchy.\n",
    "def f(x): \n",
    "    return 1/(np.pi*(1+x**2)) \n",
    "\n",
    "for i in range(N):\n",
    "    #Se generan pasos entre x.\n",
    "    x_ = x + np.random.normal(0, step)\n",
    "    \n",
    "    #Se genera el radio de aceptación del algoritmo.\n",
    "    acept = min(1, f(x_) / f(x))\n",
    "        \n",
    "    #Se revisa que entra dentro del radio de aceptación.\n",
    "    if np.random.rand() < acept:\n",
    "        x = x_\n",
    "    \n",
    "    samples.append(x)\n",
    "    \n",
    "#Se grafica la distribución de Cauchy esperada con la libreria scipy.stats.cauchy\n",
    "x = np.linspace(-5, 5, 1000)\n",
    "y = cauchy.pdf(x, x0, gamma)\n",
    "\n",
    "fig, ax = plt.subplots()\n",
    "ax.hist(samples, bins=30, density=True, alpha=0.5, label='Muestras')\n",
    "ax.plot(x, y, label='Distribución de Cauchy')\n",
    "ax.set_xlabel('x')\n",
    "ax.set_ylabel('Densidad')\n",
    "ax.legend()\n",
    "plt.show()"
   ]
  },
  {
   "attachments": {},
   "cell_type": "markdown",
   "metadata": {},
   "source": [
    "> # **8.7. Parameter Estimation.**\n",
    "\n",
    "**$3)\\verb| (Python) |$** Implemente el algoritmo de Metrópolis Hastings para hacer el ajuste de un histograma cuyas frecuencias relativas siguen una distribución normal.\n",
    "\n",
    "$(a)$ Descargue los datos del siguiente link: https://raw.githubusercontent.com/asegura4488/Database/main/MetodosComputacionalesReforma/Gaussiano.csv"
   ]
  },
  {
   "cell_type": "code",
   "execution_count": 302,
   "metadata": {},
   "outputs": [],
   "source": [
    "url = 'https://raw.githubusercontent.com/asegura4488/Database/main/MetodosComputacionalesReforma/Gaussiano.csv'\n",
    "data = pd.read_csv(url)\n",
    "x = data['x'].values"
   ]
  },
  {
   "attachments": {},
   "cell_type": "markdown",
   "metadata": {},
   "source": [
    "$(b)$ Utilice la siguiente distribución a priori uniforme:\n",
    "\n",
    "$$\\pi(\\mu, \\sigma) = \\left\\{\n",
    "        \\begin{array}{cc}\n",
    "        1 & \\text{si} \\quad 3 \\leq \\mu \\leq 5, \\quad 0.5 \\leq \\sigma \\leq 3.5 \\\\\n",
    "        0 & \\text{si ocurre cualquier otro caso.}\n",
    "        \\end{array} \\right.$$"
   ]
  },
  {
   "cell_type": "code",
   "execution_count": 303,
   "metadata": {},
   "outputs": [],
   "source": [
    "def prior(mu, sigma):\n",
    "    if 3 <= mu <= 5 and 0.5 <= sigma <= 3.5:\n",
    "        return 1\n",
    "    else:\n",
    "        return 0"
   ]
  },
  {
   "attachments": {},
   "cell_type": "markdown",
   "metadata": {},
   "source": [
    "$(c)$ Escriba la función de Likelihood Gaussiana:\n",
    "\n",
    "$$\\mathfrak{L}(\\mathbf{x}/\\mu, \\sigma) = \\prod_{i = 1}^{N} \\frac{1}{\\sqrt{2 \\pi \\sigma^{2}}} \\cdot e^{- (\\mu - x_{i})^{2}/2\\sigma^{2}}.$$"
   ]
  },
  {
   "cell_type": "code",
   "execution_count": 304,
   "metadata": {},
   "outputs": [],
   "source": [
    "def likelihood(x, mu, sigma):\n",
    "    N = len(x)\n",
    "    L = 1\n",
    "    for i in range(N):\n",
    "        L *= (1 / np.sqrt(2 * np.pi * sigma**2)) * np.exp(-((mu - x[i])**2) / (2*sigma**2))\n",
    "    return L"
   ]
  },
  {
   "attachments": {},
   "cell_type": "markdown",
   "metadata": {},
   "source": [
    "$(d)$ Calcule el algoritmo de la distribución posterior:\n",
    "\n",
    "$$\\ln(\\mathbb{P}(\\mu, \\sigma/\\mathbb{x})) \\cong \\ln(\\mathfrak{L}(\\mathbf{x}/\\mu, \\sigma) \\cdot \\pi(\\mu, \\sigma))$$\n",
    "\n",
    "Dado que la distribución encontrada no está normalizada, la relación que existe es de proporcionalidad."
   ]
  },
  {
   "cell_type": "code",
   "execution_count": 305,
   "metadata": {},
   "outputs": [],
   "source": [
    "def log_posterior(x, mu, sigma):\n",
    "    return np.log(likelihood(x, mu, sigma) * prior(mu, sigma))"
   ]
  },
  {
   "attachments": {},
   "cell_type": "markdown",
   "metadata": {},
   "source": [
    "$(e)$ Use el algoritmo de Metrópolis para realizar el muestreo de $\\ln(\\mathbb{P}(\\mu, \\sigma/\\mathbb{x}))$ con $N = 2 \\times 10^{4}$ eventos."
   ]
  },
  {
   "cell_type": "code",
   "execution_count": 306,
   "metadata": {},
   "outputs": [],
   "source": [
    "def metropolis(x, N=2000):\n",
    "    mu_0 = np.random.uniform(3, 5)\n",
    "    sig_0 = np.random.uniform(0.5, 3.5)\n",
    "    log_actual = log_posterior(x, mu_0, sig_0)\n",
    "    \n",
    "    mu_s = [mu_0]\n",
    "    sig_s = [sig_0]\n",
    "    \n",
    "    for i in range(N):\n",
    "        mu_p = np.random.normal(mu_0, 0.1)\n",
    "        sig_p = np.random.normal(sig_0, 0.1)\n",
    "        log_propp = log_posterior(x, mu_p, sig_p)\n",
    "        \n",
    "        if log_propp > log_actual:\n",
    "            mu_0 = mu_p\n",
    "            sig_0 = sig_p\n",
    "            log_actual = log_propp\n",
    "            \n",
    "        else:\n",
    "            p_accept = np.exp(log_propp - log_actual)\n",
    "            \n",
    "            if np.random.uniform() < p_accept:\n",
    "                mu_0 = mu_p\n",
    "                sig_0 = sig_p\n",
    "                log_actual = log_propp\n",
    "                \n",
    "        mu_s.append(mu_0)\n",
    "        sig_s.append(sig_0)\n",
    "    \n",
    "    return mu_s, sig_s"
   ]
  },
  {
   "attachments": {},
   "cell_type": "markdown",
   "metadata": {},
   "source": [
    "$(f)$ Estime el mejor valor de los parámetros del modelo $(\\hat{\\mu}, \\hat{\\sigma})$.\n",
    "\n",
    "**Respuesta:**\n",
    "\n",
    "Dado que el modelo anterior es una distribucón normal podemos asegurar que el mejor valor de los parámetros estará dada por la mediana."
   ]
  },
  {
   "cell_type": "code",
   "execution_count": 307,
   "metadata": {},
   "outputs": [],
   "source": [
    "mu_samples, sigma_samples = metropolis(x)"
   ]
  },
  {
   "cell_type": "code",
   "execution_count": 308,
   "metadata": {},
   "outputs": [
    {
     "name": "stdout",
     "output_type": "stream",
     "text": [
      "El mejor valor de los parámetros respectivamente son mu = 3.995960914444339 y sigma = 1.849146434200178\n"
     ]
    }
   ],
   "source": [
    "mu_hat = np.percentile(mu_samples,50)\n",
    "sigma_hat = np.percentile(sigma_samples,50)\n",
    "\n",
    "print(\"El mejor valor de los parámetros respectivamente son mu = {} y sigma = {}\".format(mu_hat,sigma_hat))"
   ]
  },
  {
   "attachments": {},
   "cell_type": "markdown",
   "metadata": {},
   "source": [
    "$(g)$ Encuentre los errores $\\sigma +,-$ de los parámetros en un intervalo de confianza del CL = 68%\n",
    "\n",
    "**Respuesta:**\n",
    "\n",
    "Primero, hallaremos los valores dados para el percentil. En este caso, el percentil menor será 16% y el mayor de 84%."
   ]
  },
  {
   "cell_type": "code",
   "execution_count": 309,
   "metadata": {},
   "outputs": [],
   "source": [
    "mu_lower = np.percentile(mu_samples, 16)\n",
    "mu_upper = np.percentile(mu_samples, 84)\n",
    "sigma_lower = np.percentile(sigma_samples, 16)\n",
    "sigma_upper = np.percentile(sigma_samples, 84)"
   ]
  },
  {
   "attachments": {},
   "cell_type": "markdown",
   "metadata": {},
   "source": [
    "Dado que estos son nuestros valores límites de confianza para el porcentaje establecido, los errores estarán establecidos por la diferencia entre el valor encontrado para cada percentil y el mejor valor estimado."
   ]
  },
  {
   "cell_type": "code",
   "execution_count": 310,
   "metadata": {},
   "outputs": [
    {
     "name": "stdout",
     "output_type": "stream",
     "text": [
      "Los valores del error para mu respectivamente son:0.17685016492919337 y 0.17191577732752705\n",
      "Los valores del error para sigma respectivamente son:0.1322081685479508 y 0.15685909322277491\n"
     ]
    }
   ],
   "source": [
    "mu_error_lower = mu_hat - mu_lower\n",
    "mu_error_upper = mu_upper - mu_hat\n",
    "sigma_error_lower = sigma_hat - sigma_lower\n",
    "sigma_error_upper = sigma_upper - sigma_hat\n",
    "\n",
    "print(\"Los valores del error para mu respectivamente son:{} y {}\".format(mu_error_lower,mu_error_upper))\n",
    "print(\"Los valores del error para sigma respectivamente son:{} y {}\".format(sigma_error_lower,sigma_error_upper))"
   ]
  },
  {
   "attachments": {},
   "cell_type": "markdown",
   "metadata": {},
   "source": [
    "A continuación, se muestra la gráfica del histograma para dicho conjunto de datos. "
   ]
  },
  {
   "cell_type": "code",
   "execution_count": 311,
   "metadata": {},
   "outputs": [
    {
     "data": {
      "image/png": "[encoded data removed]",
      "text/plain": [
       "<Figure size 432x288 with 1 Axes>"
      ]
     },
     "metadata": {
      "needs_background": "light"
     },
     "output_type": "display_data"
    }
   ],
   "source": [
    "#Se grafica la distribución normal esperada con la libreria scipy.stats.norm\n",
    "x_values = np.linspace(mu_hat - 4*sigma_hat, mu_hat + 4*sigma_hat, 1000)\n",
    "y_values = norm.pdf(x_values, mu_hat, sigma_hat)\n",
    "\n",
    "\n",
    "fig, ax = plt.subplots()\n",
    "ax.hist(x, bins=30, density=True, alpha=0.5, label='Datos')\n",
    "ax.plot(x_values, y_values, label='Distribución normal ajustada')\n",
    "ax.set_xlabel('x')\n",
    "ax.set_ylabel('Densidad de probabilidad')\n",
    "ax.legend()\n",
    "plt.show()"
   ]
  },
  {
   "attachments": {},
   "cell_type": "markdown",
   "metadata": {},
   "source": [
    "**$5)\\verb| (Python) |$** En general la varianza de estimadores es no calculable:\n",
    "\n",
    "$$V(\\hat{\\theta}) = E(\\hat{\\theta}^{2}) - E(\\hat{\\theta})^{2}.$$\n",
    "\n",
    "En el caso de la distribución exponencial tenemos un valor analítico dado por:\n",
    "\n",
    "$$V(\\hat{\\theta}) = \\int_{0}^{\\infty} \\dots \\int_{0}^{\\infty} \\left(\\frac{1}{n} \\cdot \\sum_{i = 1}^{n} x_{i} \\right)^{2} \\cdot \\frac{1}{\\theta} e^{-x_{1}/\\theta} \\dots \\frac{1}{\\theta} \\cdot e^{-x_{n}/\\theta} dx_{1} \\cdots dx_{n} - \\left[ \\int_{0}^{\\infty} \\dots \\int_{0}^{\\infty} \\left(\\frac{1}{n} \\cdot \\sum_{i = 1}^{n} x_{i} \\right) \\cdot \\frac{1}{\\theta} e^{-x_{1}/\\theta} \\dots \\frac{1}{\\theta} \\cdot e^{-x_{n}/\\theta} dx_{1} \\cdots dx_{n} \\right]^{2} = \\frac{\\theta^{2}}{n}.$$\n",
    "\n",
    "$(a)$ Intente encontrar este resultado analíticamente.\n"
   ]
  },
  {
   "cell_type": "code",
   "execution_count": null,
   "metadata": {},
   "outputs": [],
   "source": []
  },
  {
   "attachments": {},
   "cell_type": "markdown",
   "metadata": {},
   "source": [
    "$(b)$ Con el método de MonteCarlo compruebe este resultado para un conjunto de $n = 20$ variables aleatorias $x_i \\dots x_{n} \\cong Exp(\\theta = 2)$. Generar varias muestras de distribuciones exponenciales para tener un buen promedio en el ensamble, por ejemplo: $N = 10^{6}$. (Se obtiene algo como $Var(\\hat(\\theta)) = 0.199$)."
   ]
  },
  {
   "cell_type": "code",
   "execution_count": null,
   "metadata": {},
   "outputs": [],
   "source": []
  }
 ],
 "metadata": {
  "kernelspec": {
   "display_name": "Python 3",
   "language": "python",
   "name": "python3"
  },
  "language_info": {
   "codemirror_mode": {
    "name": "ipython",
    "version": 3
   },
   "file_extension": ".py",
   "mimetype": "text/x-python",
   "name": "python",
   "nbconvert_exporter": "python",
   "pygments_lexer": "ipython3",
   "version": "3.9.7"
  },
  "orig_nbformat": 4
 },
 "nbformat": 4,
 "nbformat_minor": 2
}
