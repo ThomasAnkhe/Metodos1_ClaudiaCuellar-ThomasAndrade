{
 "cells": [
  {
   "attachments": {},
   "cell_type": "markdown",
   "metadata": {},
   "source": [
    "> # **Tercer Parcial - Métodos Computacionales.**\n",
    "Trabajo hecho por: Claudia Alejandra Cuellar Nieto & Thomas Andrade Hernández."
   ]
  },
  {
   "cell_type": "code",
   "execution_count": 52,
   "metadata": {},
   "outputs": [
    {
     "data": {
      "text/html": [
       "<style>.container { width:90% !important; }</style>"
      ],
      "text/plain": [
       "<IPython.core.display.HTML object>"
      ]
     },
     "metadata": {},
     "output_type": "display_data"
    }
   ],
   "source": [
    "from IPython.display import display, HTML\n",
    "display(HTML(\"<style>.container { width:90% !important; }</style>\"))\n",
    "import numpy as np\n",
    "import sympy as sym\n",
    "from tqdm import tqdm\n",
    "import matplotlib.pyplot as plt"
   ]
  },
  {
   "attachments": {},
   "cell_type": "markdown",
   "metadata": {},
   "source": [
    "> **El Fractal de Newton:**\n",
    "\n",
    "$\\verb|(Problema de Cayley y los fractales 1879)|$ ¿Si se parte de un punto aleatorio del plano complejo, a qué raíz de la función $f(z) = z^{3} - 1$ (donde $z = x + iy$) converge el método generalizado de Newton-Raphson?. Esta función tiene las siguientes raíces $f(zi) = 0$, $i = 0, 1, 2$:\n",
    "$$z_{0} = -\\frac{1}{2} + \\frac{\\sqrt{3}}{2} i$$\n",
    "$$z_{1} = -\\frac{1}{2} - \\frac{\\sqrt{3}}{2} i$$\n",
    "$$z_{2} = 1 + 0 i$$\n",
    "La aplicación del método de generalizado de Newton al polinomio $f(z) = z^{3} - 1$ genera una frontera en el plano complejo denominada fractal de Newton."
   ]
  },
  {
   "cell_type": "code",
   "execution_count": 27,
   "metadata": {},
   "outputs": [
    {
     "data": {
      "text/plain": [
       "array([-0.49999997,  0.86602543])"
      ]
     },
     "execution_count": 27,
     "metadata": {},
     "output_type": "execute_result"
    }
   ],
   "source": [
    "x, y = sym.symbols('x, y', real = True)\n",
    "z = x + sym.I*y\n",
    "\n",
    "function = lambda z: z**3 - 1\n",
    "F = [sym.re(function(z)), sym.im(function(z))]\n",
    "J = [[sym.diff(F[0],x), sym.diff(F[0],y)],[sym.diff(F[1],x),sym.diff(F[1],y)]]\n",
    "sym.Matrix(J)\n",
    "\n",
    "Fn = sym.lambdify([x, y], F, 'numpy')\n",
    "Jn = sym.lambdify([x, y], J, 'numpy')\n",
    "\n",
    "def NewtonRhapson(z0, Fn, Jn, max_it = 10000, tol = 1e-7):\n",
    "    for it in range(max_it):\n",
    "        if np.linalg.det(Jn(z0[0], z0[1])) != 0:\n",
    "            Jn_1 = np.linalg.inv(Jn(z0[0], z0[1]))\n",
    "            Fn_1 = Fn(z0[0], z0[1])\n",
    "            zn = z0 - np.dot(Jn_1, Fn_1)\n",
    "        if np.linalg.norm(zn - z0) < tol:\n",
    "            break\n",
    "        else:\n",
    "            z0 = zn\n",
    "    return z0\n",
    "\n",
    "NewtonRhapson([0.5, 0.5], Fn, Jn)"
   ]
  },
  {
   "cell_type": "code",
   "execution_count": 56,
   "metadata": {},
   "outputs": [
    {
     "name": "stderr",
     "output_type": "stream",
     "text": [
      " 56%|█████▌    | 167/300 [01:21<01:14,  1.79it/s]"
     ]
    }
   ],
   "source": [
    "N = 300\n",
    "x = np.linspace(-1, 1, N)\n",
    "y = np.linspace(-1, 1, N)\n",
    "z_roots = np.array([[-0.5, np.sqrt(3)*0.5], [-0.5, -np.sqrt(3)*0.5], [1, 0]])\n",
    "index = [20, 100, 255]\n",
    "Fractal = np.zeros((N, N), np.int64)\n",
    "\n",
    "for i in tqdm(range(len(x))):\n",
    "    for j in range(len(y)):\n",
    "        z = NewtonRhapson([x[i], y[j]], Fn, Jn)\n",
    "        for k, root in enumerate(z_roots):\n",
    "            if np.linalg.norm(z - root) < 1e-7:\n",
    "                Fractal[i, j] = index[k]\n",
    "\n",
    "plt.imshow(Fractal, cmap = 'inferno' ,extent=[-1,1,-1,1])"
   ]
  }
 ],
 "metadata": {
  "kernelspec": {
   "display_name": "Python 3",
   "language": "python",
   "name": "python3"
  },
  "language_info": {
   "codemirror_mode": {
    "name": "ipython",
    "version": 3
   },
   "file_extension": ".py",
   "mimetype": "text/x-python",
   "name": "python",
   "nbconvert_exporter": "python",
   "pygments_lexer": "ipython3",
   "version": "3.10.8"
  },
  "orig_nbformat": 4
 },
 "nbformat": 4,
 "nbformat_minor": 2
}
