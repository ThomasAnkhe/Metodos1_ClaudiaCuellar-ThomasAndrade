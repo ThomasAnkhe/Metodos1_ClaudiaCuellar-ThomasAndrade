{
 "cells": [
  {
   "attachments": {},
   "cell_type": "markdown",
   "metadata": {},
   "source": [
    "> # **Métodos Computacionales I - Taller #3**\n",
    "\n",
    "**Hecho por:** Claudia Alejandra Cuellar Nieto & Thomas Andrade Hernández\n"
   ]
  },
  {
   "cell_type": "code",
   "execution_count": 107,
   "metadata": {},
   "outputs": [],
   "source": [
    "# Zona de librerías:\n",
    "import urllib.request\n",
    "import numpy as np\n",
    "import matplotlib.pyplot as plt\n",
    "import matplotlib.animation as anim\n",
    "from mpl_toolkits.mplot3d import axes3d\n",
    "from matplotlib import rc\n",
    "import sympy as sym\n",
    "import pandas as pd\n",
    "from tqdm import tqdm\n",
    "from time import sleep\n",
    "import os.path as path\n",
    "import os\n",
    "import wget"
   ]
  },
  {
   "attachments": {},
   "cell_type": "markdown",
   "metadata": {},
   "source": [
    "> # **5. ÁLGEBRA LINEAL**\n",
    "\n",
    "**$3)\\verb| (Python)|$** Implemente un algoritmo que realice la multiplicación de dos matrices. Use el algoritmo para calcular:\n",
    "\n",
    "$$\n",
    "\\mathbb{AB}\n",
    "\n",
    "=\n",
    "\n",
    "\\begin{pmatrix}\n",
    "    1 & 0 & 0\\\\\n",
    "    5 & 1 & 0\\\\\n",
    "    -2 & 3 & 1\n",
    "\\end{pmatrix}\n",
    "\n",
    "\\cdot \n",
    "\n",
    "\\begin{pmatrix}\n",
    "    4 & -2 & 1\\\\\n",
    "    0 & 3 & 7\\\\\n",
    "    0 & 0 & 2\n",
    "\\end{pmatrix}$$"
   ]
  },
  {
   "cell_type": "code",
   "execution_count": 108,
   "metadata": {},
   "outputs": [],
   "source": [
    "def GetMultiplication(A,B):\n",
    "    matrix_column = []\n",
    "    for i in range(len(B)):\n",
    "        column = []\n",
    "        for j in range(len(B)): \n",
    "            column.append(B[j][i])\n",
    "        matrix_column.append(column)\n",
    "    \n",
    "\n",
    "    multiplication_matrix =[]\n",
    "    for k in A:\n",
    "        new_matrix = []\n",
    "        for w in matrix_column:\n",
    "            new_matrix.append(np.dot(k,w))\n",
    "        multiplication_matrix.append(new_matrix)\n",
    "        \n",
    "    return np.array(multiplication_matrix)"
   ]
  },
  {
   "cell_type": "code",
   "execution_count": 109,
   "metadata": {},
   "outputs": [
    {
     "name": "stdout",
     "output_type": "stream",
     "text": [
      "El resultado de la multiplicación entre las matrices dadas es:\n",
      " [[ 4 -2  1]\n",
      " [20 -7 12]\n",
      " [-8 13 21]]\n"
     ]
    }
   ],
   "source": [
    "A = np.array([[1,0,0],[5,1,0],[-2,3,1]])\n",
    "B = np.array([[4,-2,1],[0,3,7],[0,0,2]])\n",
    "\n",
    "print(\"El resultado de la multiplicación entre las matrices dadas es:\\n {}\".format(GetMultiplication(A,B)))"
   ]
  },
  {
   "attachments": {},
   "cell_type": "markdown",
   "metadata": {},
   "source": [
    "**$4)\\verb| (Theoretical)|$** Muestre con detalle que la sustitución hacia adelante se expresa como:\n",
    "\n",
    "$$x_{i} = b_{i} - \\sum_{j = 0}^{i - 1} A_{ij} \\cdot x_{j}$$"
   ]
  },
  {
   "attachments": {},
   "cell_type": "markdown",
   "metadata": {},
   "source": [
    "**$\\verb|Respuesta:|$** Este método de sustitución hacia delante se usa especialmente para solucionar sistemas de la forma $Lx = b$ donde L es la matriz triangular inferior que aparece en la factorización de una matriz A. Así, sea el sistema de solución de matrices dado por,\n",
    "\n",
    "$$ \\begin{bmatrix}\n",
    "l_{11} & 0 & 0  \\\\\n",
    "l_{21} & l_{22} & 0  \\\\\n",
    "l_{31} & l_{32} & l_{33}  \\\\\n",
    "\n",
    "\\end{bmatrix} \n",
    "\\begin{bmatrix}\n",
    "x_1  \\\\\n",
    "x_2  \\\\\n",
    "x_3 \n",
    "\\end{bmatrix} \n",
    "= \n",
    "\\begin{bmatrix}\n",
    "b_1  \\\\\n",
    "b_2  \\\\\n",
    "b_3 \n",
    "\\end{bmatrix} \n",
    "$$\n",
    "\n",
    "La solución para la primera variable sería de la forma,\n",
    "\n",
    "$$ L_{11} x_1 = b_1 \\rightarrow x_1 = \\frac{b_1}{L_{11}} $$\n",
    "\n",
    "La solución para la segunda variable sería de la forma,\n",
    "\n",
    "$$ L_{21} x_1 + L_{22} x_2 = b_2 $$\n",
    "\n",
    "Sustituyendo $x_1$ y despejando la para $x_2$ obtenemos que,\n",
    "\n",
    "$$ x_2 = \\frac{b_2 - L_{21} (b_1/L_{11})}{L_{22}} $$\n",
    "\n",
    "Para la solución de la tercera variable obtenemos que,\n",
    "$$ L_{33}  x_3 + L_{31} x_1 + L_{32}  x_2 = b_3 $$\n",
    "\n",
    "Como podemos observar la i-ésima solución dependerá de las soluciones anteriores por lo que la sumatoria se puede escribir de la forma, \n",
    "\n",
    "$$ b_i =  \\sum_{j=1}^{i} A_{ij}  x_j $$\n",
    "\n",
    "Sin embargo, si queremos despejar la variable i-ésima, debemos de cambiar los índices de la sumatoria y extraer el término de que deseamos,\n",
    "\n",
    "$$ b_i =  L_{ii} x_i + \\sum_{j=0}^{i-1} A_{ij}  x_j \\rightarrow L_{ii}x_i = b_i - \\sum_{j=0}^{i-1} A_{ij}  x_j$$\n",
    "\n",
    "En este caso, la matriz factorizada L tiene la particularidad que su diagonal está compuesta solo por números uno. Por lo que nuestra ecuacion queda reducida a,\n",
    "\n",
    "$$ x_i = b_i -  \\sum_{j=0}^{i-1} A_{ij}  x_j $$\n",
    "\n",
    "Y así queda mostrada la ecuación del enunciado para el método de sustitución hacia atrás."
   ]
  },
  {
   "attachments": {},
   "cell_type": "markdown",
   "metadata": {},
   "source": [
    "**$5) \\verb| (Theoretical)|$** Muestre con detaller que la sustitución hacia atrás se expresa como:\n",
    "\n",
    "$$x_{i} = \\frac{b_{i} - \\sum_{j = i + 1}^{n} A_{i,j} \\cdot x_{j}}{A_{i,i}}$$\n",
    "\n",
    "donde $i = n, n - 1, ..., 0$. Note que la diagonal de la matriz triangular puede tener cualquier valor.\n"
   ]
  },
  {
   "attachments": {},
   "cell_type": "markdown",
   "metadata": {},
   "source": [
    "**$\\verb|Respuesta:|$** El método de sustitución hacia atrás consiste en emplear una matriz triangular superior y, con base en esa estructura, iterar para obtener los resultados de interés del vector solución del sistema. Una forma de denotar este método la podemos hallar partiendo del siguinte escenario:\n",
    "\n",
    "$$\n",
    "  \\left[ {\\begin{array}{cccc}\n",
    "    A_{11} & A_{12} & \\cdots & A_{1n}\\\\\n",
    "    0 & A_{22} & \\cdots & A_{2n}\\\\\n",
    "    \\vdots & \\vdots & \\ddots & \\vdots\\\\\n",
    "    0 & 0 & \\cdots & A_{nn}\\\\\n",
    "  \\end{array} } \\right]\n",
    "  \\left[ {\\begin{array}{cccc}\n",
    "    x_{1} \\\\\n",
    "    x_{2} \\\\\n",
    "    \\vdots \\\\\n",
    "    x_{n} \\\\\n",
    "  \\end{array} } \\right]\n",
    "  =\n",
    "  \\left[ {\\begin{array}{cccc}\n",
    "    b_{1} \\\\\n",
    "    b_{2} \\\\\n",
    "    \\vdots \\\\\n",
    "    b_{n} \\\\\n",
    "  \\end{array} } \\right]\n",
    "$$\n",
    "\n",
    "donde la matriz de los coeficientes es, ciertamente, una matriz triangular superior. Puede apreciarse que el valor de $x_n$ puede encontrarse de manera fácil, más explícitamente:\n",
    "\n",
    "$$A_{n, n} \\cdot x_{n} = b_{n} \\quad \\Rightarrow \\quad x_{n} = \\frac{b_{n}}{A_{n, n}}$$\n",
    "\n",
    "Si vamos al valor de $n - 1$ obtendremos:\n",
    "\n",
    "$$A_{n - 1, n - 1} \\cdot x_{n - 1} + A_{n - 1, n} \\cdot x_{n} = b_{n - 1} \\quad \\Rightarrow \\quad x_{n - 1} = \\frac{b_{n - 1} - A_{n - 1, n} \\cdot x_{n}}{A_{n - 1, n - 1}}$$\n",
    "\n",
    "Para verl el patrón aún mejor, probemos con $n - 2$:\n",
    "\n",
    "$$A_{n - 2, n - 2} \\cdot x_{n - 2} + A_{n - 2, n - 1} \\cdot x_{n - 1} + A_{n - 2, n} \\cdot x_{n} = b_{n - 2} \\quad \\Rightarrow \\quad x_{n - 2} = \\frac{b_{n - 2} - A_{n - 2, n - 1} \\cdot x_{n - 1} - A_{n - 2, n} \\cdot x_{n}}{A_{n - 2, n - 2}} = \\frac{b_{n - 2} - \\sum_{j = n - 1}^{n} A_{i, j} x_{j}}{A_{n - 2, n - 2}}$$\n",
    "\n",
    "Se puede apreciar un patrón que se repite secuencialmente al ir escalando hacia atrás, mismo que se generaliza como:\n",
    "\n",
    "$$x_{i} = \\frac{b_{i} - A_{i, i + 1} \\cdot x_{i + 1} - A_{i, i + 2} \\cdot x_{i + 2} - ... - A_{i, n} \\cdot x_{n}}{A_{i,i}} = \\frac{b_{i} - \\sum_{j = i + 1}^{n} A_{ij} \\cdot x_{j}}{A_{i, i}}$$\n"
   ]
  },
  {
   "attachments": {},
   "cell_type": "markdown",
   "metadata": {},
   "source": [
    "- **$6) \\verb| Successive over-relaxation (SOR)|$**. El método de sobre relajación sucesiva se basa en los métodos de Jacobi y Gauss-Seidel, pero incluye un parámetro de escala que reduce el error de aproximación en el paso $(k)$. La formula iterativa está dada por:\n",
    "\n",
    "$$x_{i}^{(k)} = (1 - \\omega) \\cdot x_{i}^{(k - 1)} + \\frac{\\omega}{a_{ii}} \\cdot \\left[ b_{i} - \\sum_{j = 1}^{i - 1} a_{ij}x_{j}^{(k)} -  \\sum_{j = 1}^{i - 1} a_{ij}x_{j}^{(k - 1)}\\right]$$\n",
    "\n",
    "donde $i$ se refiere a la componente del vector, el índice $k$ al paso de la iteración y $0 < \\omega < 2$ es parámetro de relajación. Implemente este método para solucionar el sistema de ecuaciones de clase $(5.4)$ y encuentre el parámetro de relajación que minimiza el número de iteraciones para resolverlo. Cuando $1 < \\omega < 2$ el método se denomina SOR.\n"
   ]
  },
  {
   "cell_type": "code",
   "execution_count": 110,
   "metadata": {},
   "outputs": [],
   "source": [
    "omega_list = np.linspace(1e-10, 2 - 1e-10, 50)\n",
    "\n",
    "def SuccesiveOverRelaxation(A, x_init, b, omega, iterations = 1000, tolerance = 1e-9):\n",
    "    x = x_init.copy()\n",
    "    diverge = None\n",
    "    it = 0\n",
    "    while it <= iterations:\n",
    "        for i in range(len(x_init)):\n",
    "            sum = 0\n",
    "            for j in range(len(x_init)):\n",
    "                if j != i:\n",
    "                    sum += A[i, j]*x[j]\n",
    "            x[i] = (1 - omega)*x[i] + (omega/A[i, i])*(b[i] - sum)\n",
    "        it += 1\n",
    "\n",
    "        residuo = np.linalg.norm(np.dot(A,x) - b)\n",
    "        \n",
    "        # Comprobamos si la expresión no se encuentra divergiendo:\n",
    "        if residuo > 1e+10:\n",
    "            diverge = True\n",
    "        else:\n",
    "            diverge = False\n",
    "\n",
    "        if np.allclose(residuo,tolerance,atol=tolerance):\n",
    "            break\n",
    "        \n",
    "    return x, diverge, it"
   ]
  },
  {
   "cell_type": "code",
   "execution_count": 111,
   "metadata": {},
   "outputs": [
    {
     "data": {
      "text/plain": [
       "(array([1., 1., 1.]), False, 16)"
      ]
     },
     "execution_count": 111,
     "metadata": {},
     "output_type": "execute_result"
    }
   ],
   "source": [
    "# Verificamos la efectividad del algoritmo:\n",
    "\n",
    "A = np.array([[3,-1,-1],[-1.,3.,1.],[2,1,4]])\n",
    "b = np.array([1.,3.,7.])\n",
    "x_init = np.array([0., 0., 0.])\n",
    "\n",
    "SuccesiveOverRelaxation(A, x_init, b, 1)"
   ]
  },
  {
   "cell_type": "code",
   "execution_count": 112,
   "metadata": {},
   "outputs": [
    {
     "name": "stderr",
     "output_type": "stream",
     "text": [
      "C:\\Users\\Darck\\AppData\\Local\\Temp\\ipykernel_2180\\1577802233.py:12: RuntimeWarning: overflow encountered in double_scalars\n",
      "  sum += A[i, j]*x[j]\n",
      "C:\\Users\\Darck\\AppData\\Local\\Temp\\ipykernel_2180\\1577802233.py:12: RuntimeWarning: invalid value encountered in double_scalars\n",
      "  sum += A[i, j]*x[j]\n"
     ]
    },
    {
     "name": "stdout",
     "output_type": "stream",
     "text": [
      "\n",
      "El valor de omega que minimiza las iteraciones es de aproximadamente 0.97959, con un total de 15 hasta llegar a la respuesta.\n",
      "\n"
     ]
    }
   ],
   "source": [
    "omega_min = 1e+10\n",
    "min_it = 1e+10\n",
    "\n",
    "# Buscamos en todos los casos en los que la expresión no diverge cuál es la de menor iteraciones:\n",
    "\n",
    "for omega in omega_list:\n",
    "    data = SuccesiveOverRelaxation(A, x_init, b, omega)\n",
    "    if data[1] == False:\n",
    "        if min_it > data[2]:\n",
    "            min_it = data[2]\n",
    "            omega_min = omega\n",
    "        \n",
    "print(\"\\nEl valor de omega que minimiza las iteraciones es de aproximadamente {}, con un total de {} hasta llegar a la respuesta.\\n\".format(round(omega_min, 5), min_it))"
   ]
  },
  {
   "attachments": {},
   "cell_type": "markdown",
   "metadata": {},
   "source": [
    "**$7)\\verb| (Python)|$** Implemente la descomposición $LU$ para factorizar la siguiente matriz $\\mathbb{A} = LU$:\n",
    "\n",
    "$$\n",
    "\\mathbb{A}\n",
    "\n",
    "=\n",
    "\n",
    "\\begin{pmatrix}\n",
    "    4 & -2 & 1\\\\\n",
    "    20 & -7 & 12\\\\\n",
    "    -8 & 13 & 17\n",
    "\\end{pmatrix}\n",
    "\n",
    "=\n",
    "\n",
    "\\begin{pmatrix}\n",
    "    1 & 0 & 0\\\\\n",
    "    5 & 1 & 0\\\\\n",
    "    -2 & 3 & 1\n",
    "\\end{pmatrix}\n",
    "\\cdot\n",
    "\\begin{pmatrix}\n",
    "    4 & -2 & 1\\\\\n",
    "    0 & 3 & 7\\\\\n",
    "    0 & 0 & -2\n",
    "\\end{pmatrix}\n",
    "$$"
   ]
  },
  {
   "cell_type": "code",
   "execution_count": 113,
   "metadata": {},
   "outputs": [],
   "source": [
    "def FactorizationLU(m):\n",
    "    A = np.array(m)\n",
    "    n = A.shape[0]\n",
    "    L = np.zeros((n,n))\n",
    "    U = np.zeros((n,n))\n",
    "    \n",
    "    for j in range(n):\n",
    "        L[j][j] = 1.0\n",
    "        \n",
    "        for i in range(j+1,n):\n",
    "            L[i][j] = A[i][j] / A[j][j]\n",
    "            \n",
    "            for k in range(j+1,n):\n",
    "                A[i][k] = A[i][k] - L[i][j]*A[j][k]\n",
    "                \n",
    "        for k in range(j,n):\n",
    "            U[j][k] = A[j][k]\n",
    "    \n",
    "    return L,U"
   ]
  },
  {
   "cell_type": "code",
   "execution_count": 114,
   "metadata": {},
   "outputs": [
    {
     "name": "stdout",
     "output_type": "stream",
     "text": [
      "Dada la matriz A su respectiva factorización es: \n",
      " L: \n",
      " [[ 1.  0.  0.]\n",
      " [ 5.  1.  0.]\n",
      " [-2.  3.  1.]] \n",
      " U: \n",
      " [[ 4. -2.  1.]\n",
      " [ 0.  3.  7.]\n",
      " [ 0.  0. -2.]]\n"
     ]
    }
   ],
   "source": [
    "M = np.array([[4,-2,1],[20,-7,12],[-8,13,17]])\n",
    "L,U = FactorizationLU(M)\n",
    "\n",
    "print(\"Dada la matriz A su respectiva factorización es: \\n L: \\n {} \\n U: \\n {}\".format(L,U))"
   ]
  },
  {
   "attachments": {},
   "cell_type": "markdown",
   "metadata": {},
   "source": [
    "**$9)\\verb| Método de Jacobi: Diagonalización de matrices simétricas.|$** Cuando la matriz es simétrica $a_{ij}= a_{ji}$, es posible encontrar todos los valores y vectores propios mediante la transformación de la matriz $\\mathbb{A}$ usando matrices de rotación. En particular, una rotación alrededor del eje $z$ está dada por:\n",
    "\n",
    "$$R(\\theta) = \n",
    "\\begin{pmatrix}\n",
    "\\cos\\theta & -\\sin\\theta & 0\\\\\n",
    "\\sin\\theta & \\cos\\theta & 0\\\\\n",
    "0 & 0 & 1\n",
    "\\end{pmatrix}$$\n",
    "\n",
    "donde $i, j$ es la posición del elemento más grande fuera de la diagonal. Investigue en la literatura el algoritmo de Jacobi para diagonalizar matrices simétricas.\n",
    "\n",
    "$(a)$ Implemente el método de Jacobi para encontrar los valores propios de:\n",
    "\n",
    "$$ \\mathbb{A} = \n",
    "\\begin{pmatrix}\n",
    "4 & 1 & 1\\\\\n",
    "1 & 3 & 2\\\\\n",
    "1 & 2 & 5\n",
    "\\end{pmatrix}\n",
    "$$\n"
   ]
  },
  {
   "cell_type": "code",
   "execution_count": 115,
   "metadata": {},
   "outputs": [],
   "source": [
    "def GetJacobiEig(A, it=1000):\n",
    "    n = A.shape[0]\n",
    "    #Matriz para los valores propios.\n",
    "    D = A.copy()\n",
    "    #Matriz para los vectores propios.\n",
    "    B = -np.eye(n)\n",
    "     \n",
    "    #Encontrar los índices del máximo elemento no diagonal. \n",
    "    for k in range(it):\n",
    "        max_index = (0, 0)\n",
    "        max_value = 0\n",
    "        for i in range(n):\n",
    "            for j in range(i+1, n):\n",
    "                value = np.abs(D[i][j])\n",
    "                if value > max_value:\n",
    "                    max_value = value\n",
    "                    max_index = (i,j)\n",
    "        \n",
    "        #Indice de la fila.          \n",
    "        i = max_index[0]\n",
    "        #Indice de la columna.\n",
    "        j = max_index[1]\n",
    "\n",
    "        #Se calcula el ángulo de rotación teniendo en cuenta los signos del cuadrante.\n",
    "        if D[i][i] == D[j][j]:\n",
    "            theta = np.pi / 4\n",
    "        else:\n",
    "            t = (2 * D[i][j]) / (D[j][j] - D[i][i]) \n",
    "            if t >= 0:\n",
    "                theta = 0.5 * np.tan(t)\n",
    "            else:\n",
    "                theta = 0.5 * np.tan(t) + np.pi\n",
    "        \n",
    "        #Se asignan los valores para la matriz de rotación.\n",
    "        R = np.eye(n)\n",
    "        R[i][i] = np.cos(theta)\n",
    "        R[j][j] = np.cos(theta)\n",
    "        R[i][j] = np.sin(theta)\n",
    "        R[j][i] = -np.sin(theta)\n",
    "\n",
    "        #Se actualizan las matrices D y B\n",
    "        #Para los valores propios será el producto punto entre la transpuesta de R, y el producto punto de D y R.\n",
    "        D = np.dot(R.T, np.dot(D, R))\n",
    "        #Para los vectores propios será el producto punto de la matriz B existente y R.\n",
    "        B = np.dot(B, R)\n",
    "\n",
    "\n",
    "    #Los valores propios serán la diagonal de la matriz D.\n",
    "    eigen_values = np.diag(D)\n",
    "    #Los vectores propios serán la matriz B.\n",
    "    eigen_vectors = B\n",
    "\n",
    "    return eigen_values, eigen_vectors"
   ]
  },
  {
   "cell_type": "code",
   "execution_count": 116,
   "metadata": {},
   "outputs": [
    {
     "name": "stdout",
     "output_type": "stream",
     "text": [
      "Mediante el método de Jacobi los valores propios de la matriz son [6.89510652 3.39729507 1.70759841] \n",
      " y sus repectivos vectores propios:\n",
      " [[ 0.43170413  0.88573564  0.17059871]\n",
      " [ 0.49725362 -0.07589338 -0.86427949]\n",
      " [ 0.75257583 -0.45794385  0.47319874]]\n"
     ]
    }
   ],
   "source": [
    "C = np.array([[4,1,1],[1,3,2],[1,2,5]])\n",
    "values,vectors = GetJacobiEig(C)\n",
    "\n",
    "print(\"Mediante el método de Jacobi los valores propios de la matriz son {} \\n y sus repectivos vectores propios:\\n {}\".format(values,vectors))"
   ]
  },
  {
   "attachments": {},
   "cell_type": "markdown",
   "metadata": {},
   "source": [
    "$(b)$ Compare con el resultado que se obtiene de Numpy: $\\verb|np.align.eig(A)|$."
   ]
  },
  {
   "cell_type": "code",
   "execution_count": 117,
   "metadata": {},
   "outputs": [
    {
     "name": "stdout",
     "output_type": "stream",
     "text": [
      "Los valores propios de la matriz son [6.89510652 3.39729507 1.70759841] \n",
      " y sus repectivos vectores propios:\n",
      " [[ 0.43170413  0.88573564  0.17059871]\n",
      " [ 0.49725362 -0.07589338 -0.86427949]\n",
      " [ 0.75257583 -0.45794385  0.47319874]]\n"
     ]
    }
   ],
   "source": [
    "values,vectors = np.linalg.eig(C)\n",
    "print(\"Los valores propios de la matriz son {} \\n y sus repectivos vectores propios:\\n {}\".format(values,vectors))"
   ]
  },
  {
   "attachments": {},
   "cell_type": "markdown",
   "metadata": {},
   "source": [
    "Como se puede observar, se llegan a los mismos valores y vectores propios por el método de Jacobi."
   ]
  },
  {
   "attachments": {},
   "cell_type": "markdown",
   "metadata": {},
   "source": [
    "- **$10)\\verb| Quantum system - ground state.|$** Un sistema cuántico de tres niveles está descrito por el siguiente Hamiltoniano:\n",
    "\n",
    "$$\\hat{H} = \n",
    "\\begin{pmatrix}\n",
    "1 & 2 & -1\\\\\n",
    "1 & 0 & 1\\\\\n",
    "4 & -4 & 5\n",
    "\\end{pmatrix}$$\n",
    "\n",
    "Implemente el algoritmo de la potencia inversa para encontrar el valor del estado base $E_0$ y su vector propio $\\lvert \\varphi_{0} \\rangle$. **Ans.** $E_{0} = 1$ y $\\lvert \\varphi_{0} \\rangle = [0.40824829, −0.40824829, −0.81649658]$."
   ]
  },
  {
   "cell_type": "code",
   "execution_count": 386,
   "metadata": {},
   "outputs": [
    {
     "name": "stdout",
     "output_type": "stream",
     "text": [
      "El eigenvalue obtenido es igual a 1.0, con un eigenvector asociado con coordenadas [ 0.40824082 -0.40828517 -0.81648187] con respecto al origen.\n"
     ]
    }
   ],
   "source": [
    "H = np.array([[1., 2., -1.], [1., 0., 1.], [4., -4., 5.]])\n",
    "x0 = -np.random.rand(3)\n",
    "\n",
    "def Inverse_Power(H, x0, iterations = 1000, tolerance = 1e-9):\n",
    "    n = H.shape[0]\n",
    "    x = x0 / np.linalg.norm(x0)\n",
    "    eigvalue = 0\n",
    "    \n",
    "    for i in range(iterations):\n",
    "        x_temp = np.linalg.solve(H, x)\n",
    "        x_temp = x_temp / np.linalg.norm(x_temp)\n",
    "        eigvalue_temp = np.dot(x_temp, x)\n",
    "\n",
    "        if np.abs(eigvalue_temp - eigvalue) < tolerance:\n",
    "            break\n",
    "\n",
    "        eigvalue = eigvalue_temp\n",
    "        x = x_temp\n",
    "    \n",
    "    eigvec = x\n",
    "    eigvalue = 1 / eigvalue\n",
    "    \n",
    "    return eigvalue, eigvec\n",
    "\n",
    "eigvalue, eigvector = Inverse_Power(H, x0)\n",
    "print(\"El eigenvalue obtenido es igual a {}, con un eigenvector asociado con coordenadas {} con respecto al origen.\".format(round(eigvalue, 5), eigvector))"
   ]
  },
  {
   "attachments": {},
   "cell_type": "markdown",
   "metadata": {},
   "source": [
    "- **$12)\\verb| Jacobiano de cuarto orden.|$** Usando el operador derivada central de orden $\\mathfrak{O}(h^4)$ es posible mejorar la estimación del Jacobiano para funciones vectoriales.\n",
    "\n",
    "$(a)$ Escriba una función que estime el Jacobiano con el operador derivada de orden $\\mathfrak{O}(h^4)$."
   ]
  },
  {
   "cell_type": "code",
   "execution_count": 200,
   "metadata": {},
   "outputs": [],
   "source": [
    "def CentralDerivativeH4(x, function, h, ward):\n",
    "    up = function(x - 2*h*ward) - 8*function(x - h*ward) + 8*function(x + h*ward) - function(x + 2*h*ward)\n",
    "    return up/(12*h)\n",
    "\n",
    "def FourthOrderJacobian(functions, derivative, variables, x_point, h):\n",
    "    n = len(functions)\n",
    "    Jacobian = np.zeros((variables, n))\n",
    "    for i in range(n):\n",
    "        for j in range(variables):\n",
    "            ward = np.zeros(variables)\n",
    "            ward[j] += 1\n",
    "            Jacobian[i, j] = derivative(x_point, functions[i], h, ward)\n",
    "\n",
    "    return sym.Matrix(Jacobian)"
   ]
  },
  {
   "attachments": {},
   "cell_type": "markdown",
   "metadata": {},
   "source": [
    "$(b)$ Estime el Jacobiano de la siguiente función en el punto $x = (0.5, 0.5, 0.5)$ con $h = 0.01$:\n",
    "\n",
    "$$6x_{1} - 2\\cos(x_{2}x_{3}) - 1 = 0$$\n",
    "$$9x_{2} + \\sqrt{x_{1}^2 + \\sin(x_{3}) +1.06} + 0.9 = 0$$\n",
    "$$60x_{3} + 3e^{-x_{1}x_{2}} + 10\\pi - 3 = 0$$"
   ]
  },
  {
   "cell_type": "code",
   "execution_count": 201,
   "metadata": {},
   "outputs": [
    {
     "data": {
      "text/latex": [
       "$\\displaystyle \\left[\\begin{matrix}6.00000000000001 & 0.24740395924937 & 0.24740395924937\\\\0.373777528039887 & 8.99999999999998 & 0.328020641570914\\\\-1.16820117458278 & -1.16820117458278 & 60.0000000000004\\end{matrix}\\right]$"
      ],
      "text/plain": [
       "Matrix([\n",
       "[ 6.00000000000001,  0.24740395924937,  0.24740395924937],\n",
       "[0.373777528039887,  8.99999999999998, 0.328020641570914],\n",
       "[-1.16820117458278, -1.16820117458278,  60.0000000000004]])"
      ]
     },
     "execution_count": 201,
     "metadata": {},
     "output_type": "execute_result"
    }
   ],
   "source": [
    "def Function_1(x):\n",
    "    return 6*x[0] - 2*np.cos(x[1]*x[2]) - 1\n",
    "\n",
    "def Function_2(x):\n",
    "    return 9*x[1] + np.sqrt(x[0]**2 + np.sin(x[2]) + 1.06) + 0.9\n",
    "\n",
    "def Function_3(x):\n",
    "    return 60*x[2] + 3*(np.e**(-x[0]*x[1])) + 10*np.pi - 3\n",
    "\n",
    "functions = [Function_1, Function_2, Function_3]\n",
    "\n",
    "FourthOrderJacobian(functions, CentralDerivativeH4, 3, np.array([0.5, 0.5, 0.5]), h = 0.01)"
   ]
  },
  {
   "attachments": {},
   "cell_type": "markdown",
   "metadata": {},
   "source": [
    "$(c)$ Estime el Jacobiano usando la aproximación de orden $\\mathfrak{O}(h^2)$ con $h = 0.01$. Para qué valor de $h$, el operador de segundo orden igualará en precisión al operador de cuarto orden; verifique su intuición en el código."
   ]
  },
  {
   "cell_type": "code",
   "execution_count": 202,
   "metadata": {},
   "outputs": [
    {
     "data": {
      "text/latex": [
       "$\\displaystyle \\left[\\begin{matrix}5.99999999999934 & 0.247403959151571 & 0.247403959151571\\\\0.373777528155372 & 8.99999999999679 & 0.32802064129811\\\\-1.16820117508354 & -1.16820117508354 & 60.0000000000023\\end{matrix}\\right]$"
      ],
      "text/plain": [
       "Matrix([\n",
       "[ 5.99999999999934, 0.247403959151571, 0.247403959151571],\n",
       "[0.373777528155372,  8.99999999999679,  0.32802064129811],\n",
       "[-1.16820117508354, -1.16820117508354,  60.0000000000023]])"
      ]
     },
     "execution_count": 202,
     "metadata": {},
     "output_type": "execute_result"
    }
   ],
   "source": [
    "def CentralDerivativeH2(x, function, h, ward):\n",
    "    up = function(x + h*ward) - function(x - h*ward)\n",
    "    return up/(2*h)\n",
    "\n",
    "FourthOrderJacobian(functions, CentralDerivativeH2, 3, np.array([0.5, 0.5, 0.5]), h = 0.0001)"
   ]
  },
  {
   "attachments": {},
   "cell_type": "markdown",
   "metadata": {},
   "source": [
    "- **$13)\\verb| (Group theory, Sympy)|$**  El grupo de rotación $SO3$ (special orthogonal dim 3) describe las rotaciones en el espacio. Este grupo tiene el siguiente conjunto de generadores:\n",
    "\n",
    "$$J_{x} = \n",
    "\\begin{pmatrix}\n",
    "0 & 0 & 0\\\\\n",
    "0 & 0 & -1\\\\\n",
    "0 & 1 & 0\n",
    "\\end{pmatrix},\n",
    "\n",
    "J_{y} = \n",
    "\\begin{pmatrix}\n",
    "0 & 0 & 1\\\\\n",
    "0 & 0 & 0\\\\\n",
    "-1 & 0 & 0\n",
    "\\end{pmatrix},\n",
    "\n",
    "J_{z} = \n",
    "\\begin{pmatrix}\n",
    "0 & -1 & 0\\\\\n",
    "1 & 0 & 0\\\\\n",
    "0 & 0 & 0\n",
    "\\end{pmatrix}.\n",
    "$$\n",
    "\n",
    "Verifique que el álgebra de Lie del grupo está dada por:\n",
    "\n",
    "$$[J_{i}, J_{j}] = \\epsilon_{ijk}J_{k}, \\quad i, j = 1, 2, 3$$\n",
    "\n",
    "donde $[A, B] = AB - BA$ es el conmutador y el símbolo Levi-Civita está definido por:\n",
    "\n",
    "$$\\epsilon_{ijk} = \\left\\{\n",
    "        \\begin{array}{cc}\n",
    "        +1 \\quad & \\text{si} \\quad & (i, j, k) = (1, 2, 3), (2, 3, 1), (3, 1, 2) \\quad \\text{Permutación par}\\\\\n",
    "        \\\\\n",
    "        -1 \\quad & \\text{si} \\quad & (i, j, k) = (3, 2, 1), (1, 3, 2), (2, 1, 3) \\quad \\text{Permutación impar}\\\\\n",
    "        \\\\\n",
    "        0 \\quad & \\text{de otro modo} \\quad & i = j \\text{ o } j = k \\text{ o } k = i\n",
    "        \\end{array}\n",
    "        \\right.\n",
    "        $$"
   ]
  },
  {
   "cell_type": "code",
   "execution_count": 195,
   "metadata": {},
   "outputs": [],
   "source": [
    "Jx = np.array([[0, 0, 0], [0, 0, -1], [0, 1, 0]]), 1\n",
    "Jy = np.array([[0, 0, 1], [0, 0, 0], [-1, 0, 0]]), 2\n",
    "Jz = np.array([[0, -1, 0], [1, 0, 0], [0, 0, 0]]), 3\n",
    "\n",
    "J_list = [Jx, Jy, Jz] # Lista que agrupa los generadores SO3 con sus índices.\n",
    "\n",
    "def GetOperation(J, K):\n",
    "    operation = GetMultiplication(J[0], K[0]) - GetMultiplication(K[0], J[0])\n",
    "    permutation = [J[1], K[1]] # Buscamos la permutación asociada:\n",
    "    for i in [1, 2, 3]:\n",
    "        if i not in permutation:\n",
    "            permutation.append(i)\n",
    "            \n",
    "    return sym.Matrix(operation), permutation\n",
    "\n",
    "\n",
    "def LieAlgebra_Verification(J, K):\n",
    "    #Definimos los casos par e impar para el símbolo Levi-Civita:\n",
    "    odd_case = [[3, 2, 1], [1, 3, 2], [2, 1, 3]]\n",
    "    even_case = [[1, 2, 3], [2, 3, 1], [3, 1, 2]]\n",
    "\n",
    "    result = GetOperation(J, K)\n",
    "    levi_civita = 0\n",
    "    \n",
    "    # Verificamos el valor del símbolo:\n",
    "    if result[1] in odd_case:\n",
    "        levi_civita = -1\n",
    "    if result[1] in even_case:\n",
    "        levi_civita = 1\n",
    "    \n",
    "    simbol = sym.Matrix(levi_civita*J_list[result[1][-1] - 1][0])\n",
    "    conmutador = result[0]\n",
    "    \n",
    "    return conmutador, simbol, conmutador == simbol"
   ]
  },
  {
   "attachments": {},
   "cell_type": "markdown",
   "metadata": {},
   "source": [
    "En el apartado anterior desarrollamos líneas de código que nos pueden ayudar a comprobar de manera inmediata el resultado del conmutador junto con el resultado del término de la base restante con el símbolo Levi-Cevita. Por ende, si calculamos cualquier caso, por ejemplo, $[J_{x}, J_{z}]$, el cual posee la permutación impar $(1, 3, 2)$, obtenemos:"
   ]
  },
  {
   "cell_type": "code",
   "execution_count": 182,
   "metadata": {},
   "outputs": [
    {
     "data": {
      "text/latex": [
       "$\\displaystyle \\left[\\begin{matrix}0 & 0 & -1\\\\0 & 0 & 0\\\\1 & 0 & 0\\end{matrix}\\right]$"
      ],
      "text/plain": [
       "Matrix([\n",
       "[0, 0, -1],\n",
       "[0, 0,  0],\n",
       "[1, 0,  0]])"
      ]
     },
     "execution_count": 182,
     "metadata": {},
     "output_type": "execute_result"
    }
   ],
   "source": [
    "LieAlgebra_Verification(Jx, Jz)[0] # El resultado del conmutador."
   ]
  },
  {
   "cell_type": "code",
   "execution_count": 183,
   "metadata": {},
   "outputs": [
    {
     "data": {
      "text/latex": [
       "$\\displaystyle \\left[\\begin{matrix}0 & 0 & -1\\\\0 & 0 & 0\\\\1 & 0 & 0\\end{matrix}\\right]$"
      ],
      "text/plain": [
       "Matrix([\n",
       "[0, 0, -1],\n",
       "[0, 0,  0],\n",
       "[1, 0,  0]])"
      ]
     },
     "execution_count": 183,
     "metadata": {},
     "output_type": "execute_result"
    }
   ],
   "source": [
    "LieAlgebra_Verification(Jx, Jz)[1] # El resultado empleando el símbolo Levi-Cevita."
   ]
  },
  {
   "cell_type": "code",
   "execution_count": 186,
   "metadata": {},
   "outputs": [
    {
     "data": {
      "text/latex": [
       "$\\displaystyle \\left[\\begin{matrix}0 & 0 & -1\\\\0 & 0 & 0\\\\1 & 0 & 0\\end{matrix}\\right]$"
      ],
      "text/plain": [
       "Matrix([\n",
       "[0, 0, -1],\n",
       "[0, 0,  0],\n",
       "[1, 0,  0]])"
      ]
     },
     "execution_count": 186,
     "metadata": {},
     "output_type": "execute_result"
    }
   ],
   "source": [
    "sym.Matrix(-1*Jy[0]) # Resultado esperado de esta permutación impar."
   ]
  },
  {
   "attachments": {},
   "cell_type": "markdown",
   "metadata": {},
   "source": [
    "Las tres matrices son, ciertamente, idénticas. Ahora probemos con una permutación par como la generada por el conmutador $[J_{y}, J_{z}]$, con permutación $(2, 3, 1)$:"
   ]
  },
  {
   "cell_type": "code",
   "execution_count": 187,
   "metadata": {},
   "outputs": [
    {
     "data": {
      "text/latex": [
       "$\\displaystyle \\left[\\begin{matrix}0 & 0 & 0\\\\0 & 0 & -1\\\\0 & 1 & 0\\end{matrix}\\right]$"
      ],
      "text/plain": [
       "Matrix([\n",
       "[0, 0,  0],\n",
       "[0, 0, -1],\n",
       "[0, 1,  0]])"
      ]
     },
     "execution_count": 187,
     "metadata": {},
     "output_type": "execute_result"
    }
   ],
   "source": [
    "LieAlgebra_Verification(Jy, Jz)[0] # El resultado del conmutador."
   ]
  },
  {
   "cell_type": "code",
   "execution_count": 188,
   "metadata": {},
   "outputs": [
    {
     "data": {
      "text/latex": [
       "$\\displaystyle \\left[\\begin{matrix}0 & 0 & 0\\\\0 & 0 & -1\\\\0 & 1 & 0\\end{matrix}\\right]$"
      ],
      "text/plain": [
       "Matrix([\n",
       "[0, 0,  0],\n",
       "[0, 0, -1],\n",
       "[0, 1,  0]])"
      ]
     },
     "execution_count": 188,
     "metadata": {},
     "output_type": "execute_result"
    }
   ],
   "source": [
    "LieAlgebra_Verification(Jy, Jz)[1] # El resultado empleando el símbolo Levi-Cevita."
   ]
  },
  {
   "cell_type": "code",
   "execution_count": 189,
   "metadata": {},
   "outputs": [
    {
     "data": {
      "text/latex": [
       "$\\displaystyle \\left[\\begin{matrix}0 & 0 & 0\\\\0 & 0 & -1\\\\0 & 1 & 0\\end{matrix}\\right]$"
      ],
      "text/plain": [
       "Matrix([\n",
       "[0, 0,  0],\n",
       "[0, 0, -1],\n",
       "[0, 1,  0]])"
      ]
     },
     "execution_count": 189,
     "metadata": {},
     "output_type": "execute_result"
    }
   ],
   "source": [
    "sym.Matrix(1*Jx[0]) # Resultado esperado de esta permutación impar."
   ]
  },
  {
   "attachments": {},
   "cell_type": "markdown",
   "metadata": {},
   "source": [
    "De igual manera queda corroborado el resultado. Para finalizar, verifiquemos para el conmutador entre índices idénticos:"
   ]
  },
  {
   "cell_type": "code",
   "execution_count": 192,
   "metadata": {},
   "outputs": [
    {
     "data": {
      "text/latex": [
       "$\\displaystyle \\left[\\begin{matrix}0 & 0 & 0\\\\0 & 0 & 0\\\\0 & 0 & 0\\end{matrix}\\right]$"
      ],
      "text/plain": [
       "Matrix([\n",
       "[0, 0, 0],\n",
       "[0, 0, 0],\n",
       "[0, 0, 0]])"
      ]
     },
     "execution_count": 192,
     "metadata": {},
     "output_type": "execute_result"
    }
   ],
   "source": [
    "LieAlgebra_Verification(Jx, Jx)[0] # El resultado del conmutador."
   ]
  },
  {
   "cell_type": "code",
   "execution_count": 191,
   "metadata": {},
   "outputs": [
    {
     "data": {
      "text/latex": [
       "$\\displaystyle \\left[\\begin{matrix}0 & 0 & 0\\\\0 & 0 & 0\\\\0 & 0 & 0\\end{matrix}\\right]$"
      ],
      "text/plain": [
       "Matrix([\n",
       "[0, 0, 0],\n",
       "[0, 0, 0],\n",
       "[0, 0, 0]])"
      ]
     },
     "execution_count": 191,
     "metadata": {},
     "output_type": "execute_result"
    }
   ],
   "source": [
    "LieAlgebra_Verification(Jx, Jx)[1] # El resultado empleando el símbolo Levi-Cevita."
   ]
  },
  {
   "cell_type": "code",
   "execution_count": 190,
   "metadata": {},
   "outputs": [
    {
     "data": {
      "text/latex": [
       "$\\displaystyle \\left[\\begin{matrix}0 & 0 & 0\\\\0 & 0 & 0\\\\0 & 0 & 0\\end{matrix}\\right]$"
      ],
      "text/plain": [
       "Matrix([\n",
       "[0, 0, 0],\n",
       "[0, 0, 0],\n",
       "[0, 0, 0]])"
      ]
     },
     "execution_count": 190,
     "metadata": {},
     "output_type": "execute_result"
    }
   ],
   "source": [
    "sym.Matrix(0*Jz[0]) # Resultado esperado de esta permutación impar."
   ]
  },
  {
   "attachments": {},
   "cell_type": "markdown",
   "metadata": {},
   "source": [
    "**$14)\\verb| (Group theory, Sympy)|$**  El grupo de rotación $SU2$ (special unitary dim 2) describe el operador del espín para una partícula fundamental con $s = 1/2$. Este grupo tiene el siguiente conjunto de generadores:\n",
    "\n",
    "$$\\sigma_{x} = \n",
    "\\begin{pmatrix}\n",
    "0 & 1\\\\\n",
    "1 & 0\n",
    "\\end{pmatrix},\n",
    "\n",
    "\\sigma_{y} = \n",
    "\\begin{pmatrix}\n",
    "0 & -i\\\\\n",
    "i & 0\n",
    "\\end{pmatrix}, \n",
    "\n",
    "\\sigma_{z} = \n",
    "\\begin{pmatrix}\n",
    "1 & 0\\\\\n",
    "0 & -1\n",
    "\\end{pmatrix}$$\n",
    "\n",
    "Verifique que el álgebra de Lie del grupo está dada por:\n",
    "\n",
    "$$[\\sigma_{i}, \\sigma_{j}] = 2i\\epsilon_{ijk}\\sigma_{k}, \\quad i, j = 1, 2, 3.$$\n",
    "\n",
    "donde $[A, B] = AB - BA$ es el conmutador."
   ]
  },
  {
   "cell_type": "code",
   "execution_count": null,
   "metadata": {},
   "outputs": [],
   "source": []
  },
  {
   "attachments": {},
   "cell_type": "markdown",
   "metadata": {},
   "source": [
    "**$15)\\verb| (Particle Physics, Sympy)|$**  Las matrices de Dirac $\\{\\gamma^{0}, \\gamma^{1}, \\gamma^{2}, \\gamma^{3}\\}$ Son una representación del álgebra de Clifford $Cl_{1, 3}(\\mathbb{R})$, que transforman correctamente el espacio de espinores de la teoría cuántica de campos:\n",
    "\n",
    "$$\\gamma^0 = \n",
    "\\begin{pmatrix}\n",
    "1 & 0 & 0 & 0\\\\\n",
    "0 & 1 & 0 & 0\\\\\n",
    "0 & 0 & -1 & 0\\\\\n",
    "0 & 0 & 0 & -1\n",
    "\\end{pmatrix}, \\quad \n",
    "\n",
    "\\gamma^1 = \n",
    "\\begin{pmatrix}\n",
    "0 & 0 & 0 & 1\\\\\n",
    "0 & 0 & 1 & 0\\\\\n",
    "0 & -1 & 0 & 0\\\\\n",
    "-1 & 0 & 0 & 0\n",
    "\\end{pmatrix}$$\n",
    "\n",
    "$$\\gamma^2 = \n",
    "\\begin{pmatrix}\n",
    "0 & 0 & 0 & -i\\\\\n",
    "0 & 0 & i & 0\\\\\n",
    "0 & i & 0 & 0\\\\\n",
    "-i & 0 & 0 & 0\n",
    "\\end{pmatrix}, \\quad \n",
    "\n",
    "\\gamma^3 = \n",
    "\\begin{pmatrix}\n",
    "0 & 0 & 1 & 0\\\\\n",
    "0 & 0 & 0 & -1\\\\\n",
    "-1 & 0 & 0 & 0\\\\\n",
    "0 & 1 & 0 & 0\n",
    "\\end{pmatrix}$$\n",
    "\n",
    "Verifique que el álgebra de Clifford está dada por una relación de anticonmutación.\n",
    "\n",
    "$$\\{\\gamma^{\\mu}, \\gamma^{\\delta}\\} = \\gamma^{\\mu}\\gamma^{\\delta} + \\gamma^{\\delta}\\gamma^{\\mu} = 2\\eta^{\\mu\\delta} \\mathbb{I}_{4 \\times 4}$$\n",
    "\n",
    "donde $\\eta^{\\mu\\delta} = diag(+1, -1, -1, -1)$ es la métrica del espacio de la relatividad especial."
   ]
  },
  {
   "attachments": {},
   "cell_type": "markdown",
   "metadata": {},
   "source": [
    "**Respuesta:**\n",
    "\n",
    "Dadas las matrices de Dirac se puede comprobar la propiedad anticonmutación la cual, asegura que se genere una representación matricial en el álgebra de Clifford dada por la siguiente relación:\n",
    "\n",
    "$$ \\gamma^u \\gamma^v + \\gamma^v \\gamma^u = 2\\mu^{uv} I_{4x4} \\rightarrow \\mu^{uv} = diag(1,-1,-1,-1)$$\n",
    "\n",
    "Para comprobar la anterior relación, tomaremos dos casos específicos, cuando $u\\neq v$ y $u=v$ . Para el primer caso, podemos observar que sin importar el orden de los índices, el resultado obtenido es la matriz cero."
   ]
  },
  {
   "cell_type": "code",
   "execution_count": 123,
   "metadata": {},
   "outputs": [],
   "source": [
    "i = sym.Symbol('i')\n",
    "gamma_zero = np.array([[1,0,0,0],[0,1,0,0],[0,0,-1,0],[0,0,0,-1]])\n",
    "gamma_one = np.array([[0,0,0,1],[0,0,1,0],[0,-1,0,0],[-1,0,0,0]])\n",
    "gamma_two = np.array([[0,0,0,-i],[0,0,i,0],[0,i,0,0],[-i,0,0,0]])\n",
    "gamma_three = np.array([[0,0,1,0],[0,0,0,-1],[-1,0,0,0],[0,1,0,0]])\n",
    "\n",
    "def GetRelation(a,b):\n",
    "    z = GetMultiplication(a,b) + GetMultiplication(b,a)\n",
    "    return sym.Matrix(z)"
   ]
  },
  {
   "cell_type": "code",
   "execution_count": 124,
   "metadata": {},
   "outputs": [
    {
     "name": "stdout",
     "output_type": "stream",
     "text": [
      "Para gamma^0 y gamma^1 obtenemos:\n"
     ]
    },
    {
     "data": {
      "text/latex": [
       "$\\displaystyle \\left[\\begin{matrix}0 & 0 & 0 & 0\\\\0 & 0 & 0 & 0\\\\0 & 0 & 0 & 0\\\\0 & 0 & 0 & 0\\end{matrix}\\right]$"
      ],
      "text/plain": [
       "Matrix([\n",
       "[0, 0, 0, 0],\n",
       "[0, 0, 0, 0],\n",
       "[0, 0, 0, 0],\n",
       "[0, 0, 0, 0]])"
      ]
     },
     "execution_count": 124,
     "metadata": {},
     "output_type": "execute_result"
    }
   ],
   "source": [
    "one = GetRelation(gamma_zero,gamma_one)\n",
    "print(\"Para gamma^0 y gamma^1 obtenemos:\")\n",
    "one"
   ]
  },
  {
   "cell_type": "code",
   "execution_count": 125,
   "metadata": {},
   "outputs": [
    {
     "name": "stdout",
     "output_type": "stream",
     "text": [
      "Para gamma^0 y gamma^2 obtenemos:\n"
     ]
    },
    {
     "data": {
      "text/latex": [
       "$\\displaystyle \\left[\\begin{matrix}0 & 0 & 0 & 0\\\\0 & 0 & 0 & 0\\\\0 & 0 & 0 & 0\\\\0 & 0 & 0 & 0\\end{matrix}\\right]$"
      ],
      "text/plain": [
       "Matrix([\n",
       "[0, 0, 0, 0],\n",
       "[0, 0, 0, 0],\n",
       "[0, 0, 0, 0],\n",
       "[0, 0, 0, 0]])"
      ]
     },
     "execution_count": 125,
     "metadata": {},
     "output_type": "execute_result"
    }
   ],
   "source": [
    "two = GetRelation(gamma_zero,gamma_two)\n",
    "print(\"Para gamma^0 y gamma^2 obtenemos:\")\n",
    "two"
   ]
  },
  {
   "cell_type": "code",
   "execution_count": 126,
   "metadata": {},
   "outputs": [
    {
     "name": "stdout",
     "output_type": "stream",
     "text": [
      "Para gamma^0 y gamma^3 obtenemos:\n"
     ]
    },
    {
     "data": {
      "text/latex": [
       "$\\displaystyle \\left[\\begin{matrix}0 & 0 & 0 & 0\\\\0 & 0 & 0 & 0\\\\0 & 0 & 0 & 0\\\\0 & 0 & 0 & 0\\end{matrix}\\right]$"
      ],
      "text/plain": [
       "Matrix([\n",
       "[0, 0, 0, 0],\n",
       "[0, 0, 0, 0],\n",
       "[0, 0, 0, 0],\n",
       "[0, 0, 0, 0]])"
      ]
     },
     "execution_count": 126,
     "metadata": {},
     "output_type": "execute_result"
    }
   ],
   "source": [
    "three = GetRelation(gamma_zero,gamma_three)\n",
    "print(\"Para gamma^0 y gamma^3 obtenemos:\")\n",
    "three"
   ]
  },
  {
   "cell_type": "code",
   "execution_count": 127,
   "metadata": {},
   "outputs": [
    {
     "name": "stdout",
     "output_type": "stream",
     "text": [
      "Para gamma^1 y gamma^2 obtenemos:\n"
     ]
    },
    {
     "data": {
      "text/latex": [
       "$\\displaystyle \\left[\\begin{matrix}0 & 0 & 0 & 0\\\\0 & 0 & 0 & 0\\\\0 & 0 & 0 & 0\\\\0 & 0 & 0 & 0\\end{matrix}\\right]$"
      ],
      "text/plain": [
       "Matrix([\n",
       "[0, 0, 0, 0],\n",
       "[0, 0, 0, 0],\n",
       "[0, 0, 0, 0],\n",
       "[0, 0, 0, 0]])"
      ]
     },
     "execution_count": 127,
     "metadata": {},
     "output_type": "execute_result"
    }
   ],
   "source": [
    "four = GetRelation(gamma_one,gamma_two)\n",
    "print(\"Para gamma^1 y gamma^2 obtenemos:\")\n",
    "four"
   ]
  },
  {
   "cell_type": "code",
   "execution_count": 128,
   "metadata": {},
   "outputs": [
    {
     "name": "stdout",
     "output_type": "stream",
     "text": [
      "Para gamma^1 y gamma^3 obtenemos:\n"
     ]
    },
    {
     "data": {
      "text/latex": [
       "$\\displaystyle \\left[\\begin{matrix}0 & 0 & 0 & 0\\\\0 & 0 & 0 & 0\\\\0 & 0 & 0 & 0\\\\0 & 0 & 0 & 0\\end{matrix}\\right]$"
      ],
      "text/plain": [
       "Matrix([\n",
       "[0, 0, 0, 0],\n",
       "[0, 0, 0, 0],\n",
       "[0, 0, 0, 0],\n",
       "[0, 0, 0, 0]])"
      ]
     },
     "execution_count": 128,
     "metadata": {},
     "output_type": "execute_result"
    }
   ],
   "source": [
    "five = GetRelation(gamma_one,gamma_three)\n",
    "print(\"Para gamma^1 y gamma^3 obtenemos:\")\n",
    "five"
   ]
  },
  {
   "cell_type": "code",
   "execution_count": 129,
   "metadata": {},
   "outputs": [
    {
     "name": "stdout",
     "output_type": "stream",
     "text": [
      "Para gamma^2 y gamma^3 obtenemos:\n"
     ]
    },
    {
     "data": {
      "text/latex": [
       "$\\displaystyle \\left[\\begin{matrix}0 & 0 & 0 & 0\\\\0 & 0 & 0 & 0\\\\0 & 0 & 0 & 0\\\\0 & 0 & 0 & 0\\end{matrix}\\right]$"
      ],
      "text/plain": [
       "Matrix([\n",
       "[0, 0, 0, 0],\n",
       "[0, 0, 0, 0],\n",
       "[0, 0, 0, 0],\n",
       "[0, 0, 0, 0]])"
      ]
     },
     "execution_count": 129,
     "metadata": {},
     "output_type": "execute_result"
    }
   ],
   "source": [
    "six = GetRelation(gamma_two,gamma_three)\n",
    "print(\"Para gamma^2 y gamma^3 obtenemos:\")\n",
    "six"
   ]
  },
  {
   "attachments": {},
   "cell_type": "markdown",
   "metadata": {},
   "source": [
    "Con respecto al segundo caso, se puede observar que para la matriz $\\gamma^0$ la relación da como resultado $2\\mathbb{I}_{4x4}$. En cambio, para el resto de índices el resultado es $-2\\mathbb{I}_{4x4}$ donde $\\mathbb{I}$ es la matriz identidad."
   ]
  },
  {
   "cell_type": "code",
   "execution_count": 130,
   "metadata": {},
   "outputs": [
    {
     "name": "stdout",
     "output_type": "stream",
     "text": [
      "Para gamma^0 obtenemos:\n"
     ]
    },
    {
     "data": {
      "text/latex": [
       "$\\displaystyle \\left[\\begin{matrix}2 & 0 & 0 & 0\\\\0 & 2 & 0 & 0\\\\0 & 0 & 2 & 0\\\\0 & 0 & 0 & 2\\end{matrix}\\right]$"
      ],
      "text/plain": [
       "Matrix([\n",
       "[2, 0, 0, 0],\n",
       "[0, 2, 0, 0],\n",
       "[0, 0, 2, 0],\n",
       "[0, 0, 0, 2]])"
      ]
     },
     "execution_count": 130,
     "metadata": {},
     "output_type": "execute_result"
    }
   ],
   "source": [
    "one = GetRelation(gamma_zero,gamma_zero)\n",
    "print(\"Para gamma^0 obtenemos:\")\n",
    "one"
   ]
  },
  {
   "cell_type": "code",
   "execution_count": 131,
   "metadata": {},
   "outputs": [
    {
     "name": "stdout",
     "output_type": "stream",
     "text": [
      "Para gamma^1 obtenemos:\n"
     ]
    },
    {
     "data": {
      "text/latex": [
       "$\\displaystyle \\left[\\begin{matrix}-2 & 0 & 0 & 0\\\\0 & -2 & 0 & 0\\\\0 & 0 & -2 & 0\\\\0 & 0 & 0 & -2\\end{matrix}\\right]$"
      ],
      "text/plain": [
       "Matrix([\n",
       "[-2,  0,  0,  0],\n",
       "[ 0, -2,  0,  0],\n",
       "[ 0,  0, -2,  0],\n",
       "[ 0,  0,  0, -2]])"
      ]
     },
     "execution_count": 131,
     "metadata": {},
     "output_type": "execute_result"
    }
   ],
   "source": [
    "two = GetRelation(gamma_one,gamma_one)\n",
    "print(\"Para gamma^1 obtenemos:\")\n",
    "two"
   ]
  },
  {
   "cell_type": "code",
   "execution_count": 132,
   "metadata": {},
   "outputs": [
    {
     "name": "stdout",
     "output_type": "stream",
     "text": [
      "Para gamma^2 obtenemos:\n"
     ]
    },
    {
     "data": {
      "text/latex": [
       "$\\displaystyle \\left[\\begin{matrix}2 i^{2} & 0 & 0 & 0\\\\0 & 2 i^{2} & 0 & 0\\\\0 & 0 & 2 i^{2} & 0\\\\0 & 0 & 0 & 2 i^{2}\\end{matrix}\\right]$"
      ],
      "text/plain": [
       "Matrix([\n",
       "[2*i**2,      0,      0,      0],\n",
       "[     0, 2*i**2,      0,      0],\n",
       "[     0,      0, 2*i**2,      0],\n",
       "[     0,      0,      0, 2*i**2]])"
      ]
     },
     "execution_count": 132,
     "metadata": {},
     "output_type": "execute_result"
    }
   ],
   "source": [
    "three = GetRelation(gamma_two,gamma_two)\n",
    "print(\"Para gamma^2 obtenemos:\")\n",
    "three"
   ]
  },
  {
   "cell_type": "code",
   "execution_count": 133,
   "metadata": {},
   "outputs": [
    {
     "name": "stdout",
     "output_type": "stream",
     "text": [
      "Para gamma^3 obtenemos:\n"
     ]
    },
    {
     "data": {
      "text/latex": [
       "$\\displaystyle \\left[\\begin{matrix}-2 & 0 & 0 & 0\\\\0 & -2 & 0 & 0\\\\0 & 0 & -2 & 0\\\\0 & 0 & 0 & -2\\end{matrix}\\right]$"
      ],
      "text/plain": [
       "Matrix([\n",
       "[-2,  0,  0,  0],\n",
       "[ 0, -2,  0,  0],\n",
       "[ 0,  0, -2,  0],\n",
       "[ 0,  0,  0, -2]])"
      ]
     },
     "execution_count": 133,
     "metadata": {},
     "output_type": "execute_result"
    }
   ],
   "source": [
    "four = GetRelation(gamma_three,gamma_three)\n",
    "print(\"Para gamma^3 obtenemos:\")\n",
    "four"
   ]
  },
  {
   "attachments": {},
   "cell_type": "markdown",
   "metadata": {},
   "source": [
    "Dados estos resultados, se puede representar dicha relación de anticonmutación en una matriz cuyas filas y columnas estarán determinados por los índices de las matrices $u$ y $v$ respectivamente como se muestra a continuación,\n",
    "\n",
    "$$\\begin{bmatrix}\n",
    "(\\gamma^0,\\gamma^0) & (\\gamma^0,\\gamma^1) & (\\gamma^0,\\gamma^2) & (\\gamma^0,\\gamma^3) \\\\\n",
    "(\\gamma^1,\\gamma^0) & (\\gamma^1,\\gamma^1) & (\\gamma^1,\\gamma^2) & (\\gamma^1,\\gamma^3) \\\\\n",
    "(\\gamma^2,\\gamma^0) & (\\gamma^2,\\gamma^1) & (\\gamma^2,\\gamma^2) & (\\gamma^2,\\gamma^3) \\\\\n",
    "(\\gamma^3,\\gamma^0) & (\\gamma^3,\\gamma^1) & (\\gamma^3,\\gamma^2) & (\\gamma^3,\\gamma^3) \n",
    "\\end{bmatrix}\n",
    "\\rightarrow\n",
    "\\begin{bmatrix}\n",
    "1 & 0 & 0 & 0 \\\\\n",
    "0 & -1 & 0 & 0 \\\\\n",
    "0 & 0 & -1 & 0 \\\\\n",
    "0 & 0 & 0 & -1 \n",
    "\\end{bmatrix}$$\n",
    "\n",
    "Como podemos observar, la diagonal de dicha representación matricial corresponde a la métrica de Minkowsky, así podemos escribir la relación de anticonmutación como,\n",
    "\n",
    "$$ \\gamma^u \\gamma^v + \\gamma^v \\gamma^u = 2\\mu^{uv} I_{4x4} \\rightarrow \\mu^{uv} = diag(1,-1,-1,-1) $$\n",
    "\n",
    "Por lo que queda verificada que la anterior relación cumple con el álgebra de Clifford.\n"
   ]
  },
  {
   "attachments": {},
   "cell_type": "markdown",
   "metadata": {},
   "source": [
    "> # **8.1. MÍNIMOS CUADRADOS**\n",
    "\n",
    "**$1)\\verb| (Python)|$** Se tienen tres líneas en $\\mathbb{R}^2$:\n",
    "\n",
    "$$2x - y = 2$$\n",
    "$$x + 2y = 1$$\n",
    "$$x + y = 4$$\n",
    "\n",
    "$(a)$ Con el método de mínimos cuadrados encuentre el punto común a las tres líneas. Grafique las tres líneas y el punto solución. ¿Qué interpretación puede dar?"
   ]
  },
  {
   "cell_type": "code",
   "execution_count": null,
   "metadata": {},
   "outputs": [],
   "source": []
  },
  {
   "attachments": {},
   "cell_type": "markdown",
   "metadata": {},
   "source": [
    "$(b)$ Realice una búsqueda iterativa entre $-5 \\leq x \\leq 5$ y $-5 \\leq y \\leq 5$ con un paso de $h = 0.01$ para encontrar la menor distancia del problema. Grafique la distancia y compare con el resultado obtenido en los mínimos cuadrados."
   ]
  },
  {
   "cell_type": "code",
   "execution_count": null,
   "metadata": {},
   "outputs": [],
   "source": []
  },
  {
   "attachments": {},
   "cell_type": "markdown",
   "metadata": {},
   "source": [
    "**$6)\\verb| (Python)|$** En el caso de ajustes, es posible definir funciones de costo que midan la distancia entre los puntos muestrales y el modelo de ajuste. En el caso de mínimos cuadrados la función es $\\mathfrak{X}^2$. Para $n$ puntos y un modelo lineal la función de costo es:\n",
    "\n",
    "$$\\mathfrak{X}^2(a_{0}, a_{1}) = \\sum_{i = 1}^{n} [y_{i} - (a_{0} + a_{1}x_{i})]^2$$\n",
    "\n",
    "Si hablamos en términos Bayesianos, $\\omega = \\{a_{0}, a_{1} \\}$ define el conjunto de modelos lineales que pueden explicar $n$ puntos muestrales. Al minimizar $\\mathfrak{X}^2(a_{0}, a_{1})$ muestre (analíticamente) que los parámetros están dados por:\n",
    "\n",
    "$$a_{0} = \\bar{y} - a_{1}\\bar{x}$$\n",
    "$$a_{1} = \\frac{\\sum xy - \\dfrac{\\sum x \\sum y}{n}}{\\sum x^2 - \\dfrac{(\\sum x)^2}{n}}$$\n",
    "\n",
    "donde $\\bar{x}$ y $\\bar{y}$ son los valores medios de puntos y sus imágenes. Para $n$ puntos y un modelo cuadrático la función de costo es:\n",
    "\n",
    "$$\\mathfrak{X}^2(a_{0}, a_{1}, a_{2}) = \\sum_{i = 1}^{n} (y_{i} - (a_{0} + a_{1}x_{i} + a_{2}x_{i}^2))^2$$\n",
    "\n",
    "Minimize $\\mathfrak{X}^2(a_{0}, a_{1}, a_{2})$ para encontrar el siguiente sistema de ecuaciones. *¿Nota alguna regularidad?*\n",
    "\n",
    "$$\\sum_{i = 1}^{n} \\left[a_{0} + a_{1}x_{i} + a_{2}x_{i}^{2}  = y_{i} \\right]$$\n",
    "$$\\sum_{i = 1}^{n} \\left[a_{0}x_{i} + a_{1}x_{i}^{2} + a_{2}x_{i}^{3}  = x_{i}y_{i} \\right]$$\n",
    "$$\\sum_{i = 1}^{n} \\left[a_{0}x_{i}^{2} + a_{1}x_{i}^{3} + a_{2}x_{i}^{4}  = x_{i}^{2}y_{i} \\right]$$\n",
    "\n",
    "**$\\verb|Opcionalmente:|$** Encuentre los parámetros usando estas expresiones para los problemas $2)$ y $3)$."
   ]
  },
  {
   "attachments": {},
   "cell_type": "markdown",
   "metadata": {},
   "source": [
    "**$\\verb|Respuesta del modelo lineal:|$** La manera de encontrar analíticamente el valor de las constantes radica en aplicar el método convencional de hallar los máximos y mínimos de una función multivariada, lo que lleva consigo necesariamente el cálculo de las derivadas parciales de la función con respecto a las variables a optimizar. Antes de empesar con la demostración del valor de los coeficientes es preciso considerar una estrategia que será empleada durante toda la prueba. Dada una suma de términos finita, nos podemos dar el lujo de:\n",
    "\n",
    "$$\\sum_{i = 1}^{n}(x_{i} + y_{i}) = \\sum_{i = 1}^{n} x_{i} + \\sum_{i = 1}^{n} y_{i} \\quad \\Rightarrow \\quad \\text{$\\verb|Separar la sumatoria.|$}$$\n",
    "$$\\sum_{i = 1}^{n} x_{i} = x_{1} + x_{2} + ... + x_{n} = n \\cdot \\frac{x_{1} + x_{2} + ... + x_{n}}{n} = n \\cdot \\overline{x} \\quad \\Rightarrow \\quad \\text{$\\verb|Reescribir una suma como el promedio por el número de datos.|$}$$\n",
    "\n",
    "Ahora, con lo anterior en mente, podemos empezar a derivar $\\mathfrak{X}^2(a_{0}, a_{1})$ con respecto a $a_{0}$ y $a_{1}$ e igualamos a cero para obtener el mínimo. A partir de allí despejamos y obtendremos lo que queremos:\n",
    "\n",
    "$$\\frac{\\partial \\mathfrak{X}^2(a_{0}, a_{1})}{\\partial a_{0}} = \\sum_{i = 1}^{n} -2 \\cdot (y_{i} - (a_{0} + a_{1}x_{i})) = -2 \\cdot [n \\cdot \\overline{y} - (n \\cdot a_{0} + a_{1}n \\cdot \\overline{x})] = 0$$\n",
    "$$-2n \\cdot (\\overline{y} - a_{0} - a_{1}\\overline{x}) = 0$$\n",
    "$$\\overline{y} - a_{0} - a_{1}\\overline{x} = 0 \\quad \\Rightarrow \\quad a_{0} = \\overline{y} - a_{1}\\overline{x}$$\n",
    "\n",
    "Ya conseguimos el valor teórico de $a_{0}$. Hallar $a_{1}$ es completamente análogo:\n",
    "\n",
    "$$\\frac{\\partial \\mathfrak{X}^2(a_{0}, a_{1})}{\\partial a_{1}} = \\sum_{i = 1}^{n} -2x_{i} \\cdot [y_{i} - (a_{0} + a_{1}x_{i})] = \\sum_{i = 1}^{n} -2[x_{i}y_{i} - a_{0}x_{i} - a_{1}x_{i}^{2}] = 0$$\n",
    "$$-2[n \\cdot \\overline{xy} - a_{0}n \\cdot \\overline{x} - a_{1}n \\cdot \\overline{x^{2}}] = 0$$\n",
    "\n",
    "Reemplazamos $a_{0} = \\overline{y} - a_{1}\\overline{x}$:\n",
    "\n",
    "$$-2n \\cdot [\\overline{xy} - (\\overline{y} - a_{1}\\overline{x}) \\cdot \\overline{x} - a_{1}\\overline{x^{2}}] = \\overline{xy} - \\overline{x} \\cdot \\overline{y} + a_{1}(\\overline{x})^{2} - a_{1}\\overline{x^{2}} = 0$$\n",
    "$$- a_{1} \\cdot [\\overline{x^{2}} - (\\overline{x})^{2}] = - (\\overline{xy} - \\overline{x} \\cdot \\overline{y})$$ \n",
    "$$a_{1} = \\frac{\\overline{xy} - \\overline{x} \\cdot \\overline{y}}{\\overline{x^{2}} - (\\overline{x})^{2}} = \\frac{\\dfrac{\\sum xy}{n} - \\dfrac{\\sum x \\sum y}{n^{2}}}{\\dfrac{\\sum x^{2}}{n} - \\dfrac{(\\sum x)^{2}}{n^2}} = \\frac{\\sum xy - \\dfrac{\\sum x \\sum y}{n}}{\\sum x^2 - \\dfrac{(\\sum x)^2}{n}}$$\n",
    "\n",
    "Obteniendo aquello que buscabamos."
   ]
  },
  {
   "attachments": {},
   "cell_type": "markdown",
   "metadata": {},
   "source": [
    "**$\\verb|Respuesta del modelo cuadrático:|$** Ahora bien, si lo que queremos hacer es obtener los coeficientes de la función de pérdida de un modelo cuadrático debemos de apoyarnos en la siguiente generalización de la derivada parcial. Sea $\\mathfrak{X}^2(a_{0}, a_{1}, a_{2})$ igual a la función del enunciado, las derivadas parciales estarán dadas por:\n",
    "\n",
    "$$\\frac{\\partial \\mathfrak{X}^2(a_{0}, a_{1}, a_{2})}{\\partial a_{j}} = \\sum_{i = 1}^{n} -2 \\cdot x_{i}^{j} \\cdot (y_{i} - (a_{0} + a_{1}x_{i} + a_{2}x_{i}^2)) \\quad j \\in [0, 1, 2]$$\n",
    "\n",
    "Como queremos  obtener los coeficientes, debemos igualar todas las expresiones a cero:\n",
    "\n",
    "$$\\frac{\\partial \\mathfrak{X}^2(a_{0}, a_{1}, a_{2})}{\\partial a_{0}} = \\sum_{i = 1}^{n} -2 \\cdot [y_{i} - (a_{0} + a_{1}x_{i} + a_{2}x_{i}^2)] = 0$$\n",
    "$$\\frac{\\partial \\mathfrak{X}^2(a_{0}, a_{1}, a_{2})}{\\partial a_{1}} = \\sum_{i = 1}^{n} -2 \\cdot x_{i} \\cdot [y_{i} - (a_{0} + a_{1}x_{i} + a_{2}x_{i}^2)] = 0$$\n",
    "$$\\frac{\\partial \\mathfrak{X}^2(a_{0}, a_{1}, a_{2})}{\\partial a_{2}} = \\sum_{i = 1}^{n} -2 \\cdot x_{i}^2 \\cdot [y_{i} - (a_{0} + a_{1}x_{i} + a_{2}x_{i}^2)] = 0$$\n",
    "\n",
    "Ahora, ignorando el valor de $-2$ ya que ello no influye al momento de hacer cero las ecuaciones, distribuimos el producto de los $x_{i}$ y despejamos:\n",
    "\n",
    "$$\\sum_{i = 1}^{n} y_{i} - a_{0} - a_{1}x_{i} - a_{2}x_{i}^2 = 0 \\quad \\Rightarrow \\quad \\sum_{i = 1}^{n} y_{i}  = \\sum_{i = 1}^{n} a_{0} + a_{1}x_{i} + a_{2}x_{i}^2$$\n",
    "$$\\sum_{i = 1}^{n} x_{i}y_{i} - a_{0}x_{i} - a_{1}x_{i}^2 - a_{2}x_{i}^3 = 0 \\quad \\Rightarrow \\quad \\sum_{i = 1}^{n} x_{i}y_{i} = \\sum_{i = 1}^{n} a_{0}x_{i} + a_{1}x_{i}^2 + a_{2}x_{i}^3$$\n",
    "$$\\sum_{i = 1}^{n} x_{i}^{2}y_{i} - a_{0}x_{i}^{2} - a_{1}x_{i}^{3} + a_{2}x_{i}^{4} = 0 \\quad \\Rightarrow \\quad \\sum_{i = 1}^{n} x_{i}^{2}y_{i} = \\sum_{i = 1}^{n} a_{0}x_{i}^2 + a_{1}x_{i}^3 + a_{2}x_{i}^4$$\n"
   ]
  },
  {
   "cell_type": "code",
   "execution_count": 255,
   "metadata": {},
   "outputs": [],
   "source": [
    "def GetFunction(x_value, constants):\n",
    "    y = 0\n",
    "    for n in range(len(constants)):\n",
    "        y += constants[n]*(x**n)\n",
    "    return y\n",
    "\n",
    "def LinealModel(x_list, y_list):    \n",
    "    xy_prom,  x2_prom = (0, 0)\n",
    "    x_prom = np.mean(x_list)\n",
    "    y_prom = np.mean(y_list)\n",
    "\n",
    "    if len(x_list) == len(y_list):\n",
    "        n = len(x_list)\n",
    "        for i in range(n):\n",
    "            xy_prom += x_list[i]*y_list[i]/n\n",
    "            x2_prom += (x_list[i]**2)/n\n",
    "\n",
    "    a_1 = (xy_prom - x_prom * y_prom)/(x2_prom - x_prom**2)\n",
    "    a_0 = y_prom - a_1 * x_prom\n",
    "    a_solution = np.array([a_0, a_1])\n",
    "    \n",
    "    return a_solution"
   ]
  },
  {
   "attachments": {},
   "cell_type": "markdown",
   "metadata": {},
   "source": [
    "Para el código de la estimación de los coeficientes en el modelo cuadrático podemos de emplear la siguiente visualización en forma matricial:\n",
    "\n",
    "$$\n",
    "  \\sum_{i = 0}^{n} \\left[ {\\begin{array}{cccc}\n",
    "    1 & x_{i} & x_{i}^{2}\\\\\n",
    "    x_{i} & x_{i}^{2} & x_{i}^{3}\\\\\n",
    "    x_{i}^{2} & x_{i}^{3} & x_{i}^{4}\\\\\n",
    "  \\end{array} } \\right]\n",
    "  \\left[ {\\begin{array}{cccc}\n",
    "    a_{0} \\\\\n",
    "    a_{1} \\\\\n",
    "    a_{2} \\\\\n",
    "  \\end{array} } \\right]\n",
    "  =\n",
    "  \\sum_{i = 0}^{n}\n",
    "  \\left[ {\\begin{array}{cccc}\n",
    "    y_{i} \\\\\n",
    "    x_{i}y_{i} \\\\\n",
    "    x_{i}^{2}y_{i} \\\\\n",
    "  \\end{array} } \\right]\n",
    "$$\n",
    "\n",
    "Con esto, solo es necesario resolver el sistema."
   ]
  },
  {
   "cell_type": "code",
   "execution_count": 330,
   "metadata": {},
   "outputs": [],
   "source": [
    "def GettingMatrix(x_lists, y_lists):\n",
    "    A = np.zeros((3, 3))\n",
    "    b = np.zeros(3)\n",
    "\n",
    "    for i in range(A.shape[0]):\n",
    "        for x in x_lists:\n",
    "            A[i, 0] += x**(i)\n",
    "            A[i, 1] += x**(i + 1)\n",
    "            A[i, 2] += x**(i + 2)\n",
    "        \n",
    "    for j in range(len(y_lists)):\n",
    "        b[0] += y_lists[j]\n",
    "        b[1] += x_lists[j] * y_lists[j]\n",
    "        b[2] += (x_lists[j]**2) * y_lists[j]\n",
    "\n",
    "    return A, b\n",
    "\n",
    "def CuadraticModel(A, b, x0, itmax=1000, tolerancia= 1e-9):\n",
    "    x = x0.copy()\n",
    "    \n",
    "    for it in range(itmax):\n",
    "        for i in range(A.shape[0]):\n",
    "            sum_ = 0.\n",
    "            for j in range(A.shape[1]):\n",
    "                if j!=i:\n",
    "                    sum_ += A[i,j]*x[j]\n",
    "                    \n",
    "            x[i] = (b[i] - sum_)/A[i,i]\n",
    "        \n",
    "        residuo = np.linalg.norm( np.dot(A,x) - b )\n",
    "        if np.allclose(residuo,tolerancia,atol=tolerancia):\n",
    "            break\n",
    "        \n",
    "    return x"
   ]
  },
  {
   "attachments": {},
   "cell_type": "markdown",
   "metadata": {},
   "source": [
    "- **$6.2)\\verb| (Python)|$** Descargue los datos: https://raw.githubusercontent.com/asegura4488/Database/main/MetodosComputacionalesReforma/MinimosLineal.txt.\n",
    "Realice el ajuste usando el método de mínimos cuadrados para encontrar los parámetros de:\n",
    "$$f(x) = a_{0} + a_{1}x$$\n",
    "Grafique los datos y el ajuste mostrando el valor de las constantes en la etiqueta de la grafica."
   ]
  },
  {
   "cell_type": "code",
   "execution_count": 334,
   "metadata": {},
   "outputs": [],
   "source": [
    "if not path.exists('Data'):\n",
    "    os.mkdir('Data')\n",
    "    \n",
    "file = 'Data/ModeloLineal.dat' \n",
    "\n",
    "url = \"https://raw.githubusercontent.com/asegura4488/Database/main/MetodosComputacionalesReforma/MinimosLineal.txt\"\n",
    "\n",
    "\n",
    "if not path.exists(file):\n",
    "    Path1_ = wget.download(url,file)\n",
    "else:\n",
    "    Path1_ = file"
   ]
  },
  {
   "cell_type": "code",
   "execution_count": 340,
   "metadata": {},
   "outputs": [
    {
     "data": {
      "text/plain": [
       "array([-5.12918553,  2.12503681])"
      ]
     },
     "execution_count": 340,
     "metadata": {},
     "output_type": "execute_result"
    },
    {
     "data": {
      "image/png": "[encoded data removed]",
      "text/plain": [
       "<Figure size 432x288 with 1 Axes>"
      ]
     },
     "metadata": {
      "needs_background": "light"
     },
     "output_type": "display_data"
    }
   ],
   "source": [
    "data = np.loadtxt(Path1_)\n",
    "x = data[:,0]\n",
    "y = data[:,1]\n",
    "\n",
    "x_ = np.linspace(np.min(x),np.max(x),50)\n",
    "y_ = GetModel(x_, LinealModel(x, y))\n",
    "\n",
    "plt.title(\"Modelo Lineal por Función de Costo\")\n",
    "plt.plot(x, y, 'o', color = '#540404')\n",
    "plt.plot(x_, y_, color = '#931E1E')\n",
    "LinealModel(x, y)"
   ]
  },
  {
   "attachments": {},
   "cell_type": "markdown",
   "metadata": {},
   "source": [
    "- **$6.3)\\verb| (Python)|$** Descargue los datos: https://raw.githubusercontent.com/asegura4488/Database/main/MetodosComputacionalesReforma/MinimosCuadratico.txt.\n",
    "Realice el ajuste usando el método de mínimos cuadrados para encontrar los parámetros de:\n",
    "\n",
    "$$f(x) = a_{0} + a_{1}x + a_{2}x^{2}$$\n",
    "\n",
    "Grafique los datos y el ajuste mostrando el valor de las constantes en la etiqueta de la\n",
    "grafica."
   ]
  },
  {
   "cell_type": "code",
   "execution_count": 336,
   "metadata": {},
   "outputs": [],
   "source": [
    "if not path.exists('Data'):\n",
    "    os.mkdir('Data')\n",
    "    \n",
    "file = 'Data/ModeloCuadratico.dat' \n",
    "\n",
    "url = \"https://raw.githubusercontent.com/asegura4488/Database/main/MetodosComputacionalesReforma/MinimosCuadratico.txt\"\n",
    "\n",
    "\n",
    "if not path.exists(file):\n",
    "    Path2_ = wget.download(url,file)\n",
    "else:\n",
    "    Path2_ = file"
   ]
  },
  {
   "cell_type": "code",
   "execution_count": 337,
   "metadata": {},
   "outputs": [
    {
     "data": {
      "text/plain": [
       "array([1.22132053, 6.09075205, 2.9565874 ])"
      ]
     },
     "execution_count": 337,
     "metadata": {},
     "output_type": "execute_result"
    }
   ],
   "source": [
    "data = np.loadtxt(Path2_)\n",
    "x = data[:,0]\n",
    "y = data[:,1]\n",
    "\n",
    "A, b = GettingMatrix(x, y)\n",
    "x0 = np.array([0., 0., 0.])\n",
    "\n",
    "values = CuadraticModel(A, b, x0) \n",
    "values"
   ]
  },
  {
   "cell_type": "code",
   "execution_count": 339,
   "metadata": {},
   "outputs": [
    {
     "data": {
      "text/plain": [
       "[<matplotlib.lines.Line2D at 0x18d7427ebc0>]"
      ]
     },
     "execution_count": 339,
     "metadata": {},
     "output_type": "execute_result"
    },
    {
     "data": {
      "image/png": "[encoded data removed]",
      "text/plain": [
       "<Figure size 432x288 with 1 Axes>"
      ]
     },
     "metadata": {
      "needs_background": "light"
     },
     "output_type": "display_data"
    }
   ],
   "source": [
    "x_ = np.linspace(np.min(x),np.max(x),50)\n",
    "y_ = GetModel(x_, values)\n",
    "\n",
    "plt.title(\"Modelo Cuadrático por Función de Costo\")\n",
    "plt.plot(x, y, 'o', color = '#540404')\n",
    "plt.plot(x_, y_, color = '#931E1E')"
   ]
  },
  {
   "attachments": {},
   "cell_type": "markdown",
   "metadata": {},
   "source": [
    "**$7)\\verb| Machine Learning: Logistic Regresion.|$** Descargue los datos de: https://raw.githubusercontent.com/asegura4488/Database/main/MetodosComputacionalesReforma/Sigmoid.csv\n",
    "\n",
    "$(a)$ Defina el modelo de ajuste como:\n",
    "\n",
    "$$M(x;\\vec{\\theta}) = \\frac{\\theta_{0}}{\\theta_{1} + e^{-\\theta_{2}x}}$$\n",
    "\n",
    "donde el $\\vec{\\theta}$ es el vector de parámetros del ajuste."
   ]
  },
  {
   "cell_type": "code",
   "execution_count": null,
   "metadata": {},
   "outputs": [],
   "source": []
  },
  {
   "attachments": {},
   "cell_type": "markdown",
   "metadata": {},
   "source": [
    "$(b)$ Defina la métrica (función de costo) a minimizar como:\n",
    "\n",
    "$$\\mathfrak{X}^2(\\vec{\\theta}) = \\sum_{i = 1}^{N} \\left( \\frac{y_{i} - M(x_{i}, \\vec{\\theta})}{\\sigma_{i}} \\right)^2$$\n",
    "\n",
    "donde $\\sigma_{i} = 1 \\forall i$, es decir, no se consideran los errores de $y_{i}$."
   ]
  },
  {
   "cell_type": "code",
   "execution_count": null,
   "metadata": {},
   "outputs": [],
   "source": []
  },
  {
   "attachments": {},
   "cell_type": "markdown",
   "metadata": {},
   "source": [
    "$(c)$ Muestre que las derivadas parciales de la métrica están dadas por:\n",
    "\n",
    "$$\\frac{\\partial\\mathfrak{X}^2(\\vec{\\theta})}{\\partial\\theta_{i}} = -2 \\cdot \\sum_{i = 1}^{N}(y_{i} - M(x_{i}, \\vec{\\theta})) \\cdot \\frac{\\partial M(x_{i}, \\vec{\\theta})}{\\partial{\\theta_{i}}}$$"
   ]
  },
  {
   "cell_type": "code",
   "execution_count": null,
   "metadata": {},
   "outputs": [],
   "source": []
  },
  {
   "attachments": {},
   "cell_type": "markdown",
   "metadata": {},
   "source": [
    "$(d)$ Muestre que vectorialmente, el descenso del gradiente queda definido por:\n",
    "\n",
    "$$\\vec{\\theta}_{j + 1} = \\vec{\\theta}_{j} - \\gamma \\cdot \\left( -2 \\cdot \\sum_{i = 1}^{N}(y_{i} - M(x_{i}, \\vec{\\theta}_{j})) \\cdot \\nabla_{\\theta} M(x_{i}, \\vec{\\theta}_{j}) \\right)$$\n",
    "\n",
    "donde el gradiente es respecto a los parámetros:\n",
    "\n",
    "$$\\nabla_{\\theta} M(x_{i}, \\vec{\\theta}_{j}) = \\left[ \\frac{\\partial M(x_{i}, \\vec{\\theta})}{\\partial\\theta_{0}}, \\frac{\\partial M(x_{i}, \\vec{\\theta})}{\\partial\\theta_{1}},\\frac{\\partial M(x_{i}, \\vec{\\theta})}{\\partial\\theta_{2}} \\right]$$"
   ]
  },
  {
   "cell_type": "code",
   "execution_count": null,
   "metadata": {},
   "outputs": [],
   "source": []
  },
  {
   "attachments": {},
   "cell_type": "markdown",
   "metadata": {},
   "source": [
    "$(e)$ Use una taza de aprendizaje $\\gamma = 1 \\times 10^{-3}$ o $\\gamma = 5 \\times 10^{-4}$, $\\vec{\\theta}_{0} = [1, 1, 1]$, un error de parada $\\epsilon = 0.01$ y un máximo de iteraciones de $1 \\times 10^{4}$."
   ]
  },
  {
   "cell_type": "code",
   "execution_count": null,
   "metadata": {},
   "outputs": [],
   "source": []
  },
  {
   "attachments": {},
   "cell_type": "markdown",
   "metadata": {},
   "source": [
    "$(f)$ Grafique los datos y the best fit model con sus parámetros."
   ]
  },
  {
   "cell_type": "code",
   "execution_count": null,
   "metadata": {},
   "outputs": [],
   "source": []
  }
 ],
 "metadata": {
  "kernelspec": {
   "display_name": "Python 3",
   "language": "python",
   "name": "python3"
  },
  "language_info": {
   "codemirror_mode": {
    "name": "ipython",
    "version": 3
   },
   "file_extension": ".py",
   "mimetype": "text/x-python",
   "name": "python",
   "nbconvert_exporter": "python",
   "pygments_lexer": "ipython3",
   "version": "3.10.8"
  },
  "orig_nbformat": 4
 },
 "nbformat": 4,
 "nbformat_minor": 2
}
