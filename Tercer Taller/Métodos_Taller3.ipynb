{
 "cells": [
  {
   "attachments": {},
   "cell_type": "markdown",
   "metadata": {},
   "source": [
    "> # **Métodos Computacionales I - Taller #3**\n",
    "\n",
    "**Hecho por:** Claudia Alejandra Cuellar Nieto & Thomas Andrade Hernández\n"
   ]
  },
  {
   "cell_type": "code",
   "execution_count": 2,
   "metadata": {},
   "outputs": [],
   "source": [
    "# Zona de librerías:\n",
    "import urllib.request\n",
    "import numpy as np\n",
    "import matplotlib.pyplot as plt\n",
    "import matplotlib.animation as anim\n",
    "from mpl_toolkits.mplot3d import axes3d\n",
    "from matplotlib import rc\n",
    "import sympy as sym\n",
    "import pandas as pd\n",
    "from tqdm import tqdm\n",
    "from time import sleep\n",
    "import os.path as path\n",
    "import os\n",
    "import wget"
   ]
  },
  {
   "attachments": {},
   "cell_type": "markdown",
   "metadata": {},
   "source": [
    "> # **5. ÁLGEBRA LINEAL**\n",
    "\n",
    "**$3)\\verb| (Python)|$** Implemente un algoritmo que realice la multiplicación de dos matrices. Use el algoritmo para calcular:\n",
    "\n",
    "$$\n",
    "\\mathbb{AB}\n",
    "\n",
    "=\n",
    "\n",
    "\\begin{pmatrix}\n",
    "    1 & 0 & 0\\\\\n",
    "    5 & 1 & 0\\\\\n",
    "    -2 & 3 & 1\n",
    "\\end{pmatrix}\n",
    "\n",
    "\\cdot \n",
    "\n",
    "\\begin{pmatrix}\n",
    "    4 & -2 & 1\\\\\n",
    "    0 & 3 & 7\\\\\n",
    "    0 & 0 & 2\n",
    "\\end{pmatrix}$$"
   ]
  },
  {
   "cell_type": "code",
   "execution_count": 3,
   "metadata": {},
   "outputs": [],
   "source": [
    "def GetMultiplication(A,B):\n",
    "    matrix_column = []\n",
    "    for i in range(len(B)):\n",
    "        column = []\n",
    "        for j in range(len(B)): \n",
    "            column.append(B[j][i])\n",
    "        matrix_column.append(column)\n",
    "    \n",
    "\n",
    "    multiplication_matrix =[]\n",
    "    for k in A:\n",
    "        new_matrix = []\n",
    "        for w in matrix_column:\n",
    "            new_matrix.append(np.dot(k,w))\n",
    "        multiplication_matrix.append(new_matrix)\n",
    "        \n",
    "    return np.array(multiplication_matrix)"
   ]
  },
  {
   "cell_type": "code",
   "execution_count": 4,
   "metadata": {},
   "outputs": [
    {
     "name": "stdout",
     "output_type": "stream",
     "text": [
      "El resultado de la multiplicación entre las matrices dadas es:\n",
      " [[ 4 -2  1]\n",
      " [20 -7 12]\n",
      " [-8 13 21]]\n"
     ]
    }
   ],
   "source": [
    "A = np.array([[1,0,0],[5,1,0],[-2,3,1]])\n",
    "B = np.array([[4,-2,1],[0,3,7],[0,0,2]])\n",
    "\n",
    "print(\"El resultado de la multiplicación entre las matrices dadas es:\\n {}\".format(GetMultiplication(A,B)))"
   ]
  },
  {
   "attachments": {},
   "cell_type": "markdown",
   "metadata": {},
   "source": [
    "**$4)\\verb| (Theoretical)|$** Muestre con detalle que la sustitución hacia adelante se expresa como:\n",
    "\n",
    "$$x_{i} = b_{i} - \\sum_{j = 0}^{i - 1} A_{ij} \\cdot x_{j}$$"
   ]
  },
  {
   "attachments": {},
   "cell_type": "markdown",
   "metadata": {},
   "source": [
    "**Respuesta:**\n",
    "\n",
    "Este método de sustitución hacia delante se usa especialmente para solucionar sistemas de la forma $Lx = b$ donde L es la matriz triangular inferior que aparece en la factorización de una matriz A. Así, sea el sistema de solución de matrices dado por,\n",
    "\n",
    "$$ \\begin{bmatrix}\n",
    "l_{11} & 0 & 0  \\\\\n",
    "l_{21} & l_{22} & 0  \\\\\n",
    "l_{31} & l_{32} & l_{33}  \\\\\n",
    "\n",
    "\\end{bmatrix} \n",
    "\\begin{bmatrix}\n",
    "x_1  \\\\\n",
    "x_2  \\\\\n",
    "x_3 \n",
    "\\end{bmatrix} \n",
    "= \n",
    "\\begin{bmatrix}\n",
    "b_1  \\\\\n",
    "b_2  \\\\\n",
    "b_3 \n",
    "\\end{bmatrix} \n",
    "$$\n",
    "\n",
    "La solución para la primera variable sería de la forma,\n",
    "\n",
    "$$ L_{11} x_1 = b_1 \\rightarrow x_1 = \\frac{b_1}{L_{11}} $$\n",
    "\n",
    "La solución para la segunda variable sería de la forma,\n",
    "\n",
    "$$ L_{21} x_1 + L_{22} x_2 = b_2 $$\n",
    "\n",
    "Sustituyendo $x_1$ y despejando la para $x_2$ obtenemos que,\n",
    "\n",
    "$$ x_2 = \\frac{b_2 - L_{21} (b_1/L_{11})}{L_{22}} $$\n",
    "\n",
    "Para la solución de la tercera variable obtenemos que,\n",
    "$$ L_{33}  x_3 + L_{31} x_1 + L_{32}  x_2 = b_3 $$\n",
    "\n",
    "Como podemos observar la i-ésima solución dependerá de las soluciones anteriores por lo que la sumatoria se puede escribir de la forma, \n",
    "\n",
    "$$ b_i =  \\sum_{j=1}^{i} A_{ij}  x_j $$\n",
    "\n",
    "Sin embargo, si queremos despejar la variable i-ésima, debemos de cambiar los índices de la sumatoria y extraer el término de que deseamos,\n",
    "\n",
    "$$ b_i =  L_{ii} x_i + \\sum_{j=0}^{i-1} A_{ij}  x_j \\rightarrow L_{ii}x_i = b_i - \\sum_{j=0}^{i-1} A_{ij}  x_j$$\n",
    "\n",
    "En este caso, la matriz factorizada L tiene la particularidad que su diagonal está compuesta solo por números uno. Por lo que nuestra ecuacion queda reducida a,\n",
    "\n",
    "$$ x_i = b_i -  \\sum_{j=0}^{i-1} A_{ij}  x_j $$\n",
    "\n",
    "Y así queda mostrada la ecuación del enunciado para el método de sustitución hacia atrás."
   ]
  },
  {
   "attachments": {},
   "cell_type": "markdown",
   "metadata": {},
   "source": [
    "- **$5) \\verb| (Theoretical)|$** Muestre con detaller que la sustitución hacia atrás se expresa como:\n",
    "\n",
    "$$x_{i} = \\frac{b_{i} - \\sum_{j = i + 1}^{n} A_{ij} \\cdot x_{j}}{A_{ii}}$$\n",
    "\n",
    "donde $i = n, n - 1, ..., 0$. Note que la diagonal de la matriz triangular puede tener cualquier valor.\n"
   ]
  },
  {
   "cell_type": "markdown",
   "metadata": {},
   "source": []
  },
  {
   "attachments": {},
   "cell_type": "markdown",
   "metadata": {},
   "source": [
    "- **$6) \\verb| Successive over-relaxation (SOR)|$**. El método de sobre relajación sucesiva se basa en los métodos de Jacobi y Gauss-Seidel, pero incluye un parámetro de escala que reduce el error de aproximación en el paso $(k)$. La formula iterativa está dada por:\n",
    "\n",
    "$$x_{i}^{(k)} = (1 - \\omega) \\cdot x_{i}^{(k - 1)} + \\frac{\\omega}{a_{ii}} \\cdot \\left[ b_{i} - \\sum_{j = 1}^{i - 1} a_{ij}x_{j}^{(k)} -  \\sum_{j = 1}^{i - 1} a_{ij}x_{j}^{(k - 1)}\\right]$$\n",
    "\n",
    "donde $i$ se refiere a la componente del vector, el índice $k$ al paso de la iteración y $0 < \\omega < 2$ es parámetro de relajación. Implemente este método para solucionar el sistema de ecuaciones de clase $(5.4)$ y encuentre el parámetro de relajación que minimiza el número de iteraciones para resolverlo. Cuando $1 < \\omega < 2$ el método se denomina SOR.\n"
   ]
  },
  {
   "cell_type": "code",
   "execution_count": null,
   "metadata": {},
   "outputs": [],
   "source": []
  },
  {
   "attachments": {},
   "cell_type": "markdown",
   "metadata": {},
   "source": [
    "**$7)\\verb| (Python)|$** Implemente la descomposición $LU$ para factorizar la siguiente matriz $\\mathbb{A} = LU$:\n",
    "\n",
    "$$\n",
    "\\mathbb{A}\n",
    "\n",
    "=\n",
    "\n",
    "\\begin{pmatrix}\n",
    "    4 & -2 & 1\\\\\n",
    "    20 & -7 & 12\\\\\n",
    "    -8 & 13 & 17\n",
    "\\end{pmatrix}\n",
    "\n",
    "=\n",
    "\n",
    "\\begin{pmatrix}\n",
    "    1 & 0 & 0\\\\\n",
    "    5 & 1 & 0\\\\\n",
    "    -2 & 3 & 1\n",
    "\\end{pmatrix}\n",
    "\\cdot\n",
    "\\begin{pmatrix}\n",
    "    4 & -2 & 1\\\\\n",
    "    0 & 3 & 7\\\\\n",
    "    0 & 0 & -2\n",
    "\\end{pmatrix}\n",
    "$$"
   ]
  },
  {
   "cell_type": "code",
   "execution_count": 5,
   "metadata": {},
   "outputs": [],
   "source": [
    "def FactorizationLU(m):\n",
    "    A = np.array(m)\n",
    "    n = A.shape[0]\n",
    "    L = np.zeros((n,n))\n",
    "    U = np.zeros((n,n))\n",
    "    \n",
    "    for j in range(n):\n",
    "        L[j][j] = 1.0\n",
    "        \n",
    "        for i in range(j+1,n):\n",
    "            L[i][j] = A[i][j] / A[j][j]\n",
    "            \n",
    "            for k in range(j+1,n):\n",
    "                A[i][k] = A[i][k] - L[i][j]*A[j][k]\n",
    "                \n",
    "        for k in range(j,n):\n",
    "            U[j][k] = A[j][k]\n",
    "    \n",
    "    return L,U"
   ]
  },
  {
   "cell_type": "code",
   "execution_count": 6,
   "metadata": {},
   "outputs": [
    {
     "name": "stdout",
     "output_type": "stream",
     "text": [
      "Dada la matriz A su respectiva factorización es: \n",
      " L: \n",
      " [[ 1.  0.  0.]\n",
      " [ 5.  1.  0.]\n",
      " [-2.  3.  1.]] \n",
      " U: \n",
      " [[ 4. -2.  1.]\n",
      " [ 0.  3.  7.]\n",
      " [ 0.  0. -2.]]\n"
     ]
    }
   ],
   "source": [
    "M = np.array([[4,-2,1],[20,-7,12],[-8,13,17]])\n",
    "L,U = FactorizationLU(M)\n",
    "\n",
    "print(\"Dada la matriz A su respectiva factorización es: \\n L: \\n {} \\n U: \\n {}\".format(L,U))"
   ]
  },
  {
   "attachments": {},
   "cell_type": "markdown",
   "metadata": {},
   "source": [
    "**$9)\\verb| Método de Jacobi: Diagonalización de matrices simétricas.|$** Cuando la matriz es simétrica $a_{ij}= a_{ji}$, es posible encontrar todos los valores y vectores propios mediante la transformación de la matriz $\\mathbb{A}$ usando matrices de rotación. En particular, una rotación alrededor del eje $z$ está dada por:\n",
    "\n",
    "$$R(\\theta) = \n",
    "\\begin{pmatrix}\n",
    "\\cos\\theta & -\\sin\\theta & 0\\\\\n",
    "\\sin\\theta & \\cos\\theta & 0\\\\\n",
    "0 & 0 & 1\n",
    "\\end{pmatrix}$$\n",
    "\n",
    "donde $i, j$ es la posición del elemento más grande fuera de la diagonal. Investigue en la literatura el algoritmo de Jacobi para diagonalizar matrices simétricas.\n",
    "\n",
    "$(a)$ Implemente el método de Jacobi para encontrar los valores propios de:\n",
    "\n",
    "$$ \\mathbb{A} = \n",
    "\\begin{pmatrix}\n",
    "4 & 1 & 1\\\\\n",
    "1 & 3 & 2\\\\\n",
    "1 & 2 & 5\n",
    "\\end{pmatrix}\n",
    "$$\n"
   ]
  },
  {
   "cell_type": "code",
   "execution_count": 7,
   "metadata": {},
   "outputs": [],
   "source": [
    "def GetJacobiEig(A, it=1000):\n",
    "    n = A.shape[0]\n",
    "    #Matriz para los valores propios.\n",
    "    D = A.copy()\n",
    "    #Matriz para los vectores propios.\n",
    "    B = -np.eye(n)\n",
    "     \n",
    "    #Encontrar los índices del máximo elemento no diagonal. \n",
    "    for k in range(it):\n",
    "        max_index = (0, 0)\n",
    "        max_value = 0\n",
    "        for i in range(n):\n",
    "            for j in range(i+1, n):\n",
    "                value = np.abs(D[i][j])\n",
    "                if value > max_value:\n",
    "                    max_value = value\n",
    "                    max_index = (i,j)\n",
    "        \n",
    "        #Indice de la fila.          \n",
    "        i = max_index[0]\n",
    "        #Indice de la columna.\n",
    "        j = max_index[1]\n",
    "\n",
    "        #Se calcula el ángulo de rotación teniendo en cuenta los signos del cuadrante.\n",
    "        if D[i][i] == D[j][j]:\n",
    "            theta = np.pi / 4\n",
    "        else:\n",
    "            t = (2 * D[i][j]) / (D[j][j] - D[i][i]) \n",
    "            if t >= 0:\n",
    "                theta = 0.5 * np.tan(t)\n",
    "            else:\n",
    "                theta = 0.5 * np.tan(t) + np.pi\n",
    "        \n",
    "        #Se asignan los valores para la matriz de rotación.\n",
    "        R = np.eye(n)\n",
    "        R[i][i] = np.cos(theta)\n",
    "        R[j][j] = np.cos(theta)\n",
    "        R[i][j] = np.sin(theta)\n",
    "        R[j][i] = -np.sin(theta)\n",
    "\n",
    "        #Se actualizan las matrices D y B\n",
    "        #Para los valores propios será el producto punto entre la transpuesta de R, y el producto punto de D y R.\n",
    "        D = np.dot(R.T, np.dot(D, R))\n",
    "        #Para los vectores propios será el producto punto de la matriz B existente y R.\n",
    "        B = np.dot(B, R)\n",
    "\n",
    "\n",
    "    #Los valores propios serán la diagonal de la matriz D.\n",
    "    eigen_values = np.diag(D)\n",
    "    #Los vectores propios serán la matriz B.\n",
    "    eigen_vectors = B\n",
    "\n",
    "    return eigen_values, eigen_vectors"
   ]
  },
  {
   "cell_type": "code",
   "execution_count": 8,
   "metadata": {},
   "outputs": [
    {
     "name": "stdout",
     "output_type": "stream",
     "text": [
      "Mediante el método de Jacobi los valores propios de la matriz son [6.89510652 3.39729507 1.70759841] \n",
      " y sus repectivos vectores propios:\n",
      " [[ 0.43170413  0.88573564  0.17059871]\n",
      " [ 0.49725362 -0.07589338 -0.86427949]\n",
      " [ 0.75257583 -0.45794385  0.47319874]]\n"
     ]
    }
   ],
   "source": [
    "C = np.array([[4,1,1],[1,3,2],[1,2,5]])\n",
    "values,vectors = GetJacobiEig(C)\n",
    "\n",
    "print(\"Mediante el método de Jacobi los valores propios de la matriz son {} \\n y sus repectivos vectores propios:\\n {}\".format(values,vectors))"
   ]
  },
  {
   "attachments": {},
   "cell_type": "markdown",
   "metadata": {},
   "source": [
    "$(b)$ Compare con el resultado que se obtiene de Numpy: $\\verb|np.align.eig(A)|$."
   ]
  },
  {
   "cell_type": "code",
   "execution_count": 9,
   "metadata": {},
   "outputs": [
    {
     "name": "stdout",
     "output_type": "stream",
     "text": [
      "Los valores propios de la matriz son [6.89510652 3.39729507 1.70759841] \n",
      " y sus repectivos vectores propios:\n",
      " [[ 0.43170413  0.88573564  0.17059871]\n",
      " [ 0.49725362 -0.07589338 -0.86427949]\n",
      " [ 0.75257583 -0.45794385  0.47319874]]\n"
     ]
    }
   ],
   "source": [
    "values,vectors = np.linalg.eig(C)\n",
    "print(\"Los valores propios de la matriz son {} \\n y sus repectivos vectores propios:\\n {}\".format(values,vectors))"
   ]
  },
  {
   "attachments": {},
   "cell_type": "markdown",
   "metadata": {},
   "source": [
    "Como se puede observar, se llegan a los mismos valores y vectores propios por el método de Jacobi."
   ]
  },
  {
   "attachments": {},
   "cell_type": "markdown",
   "metadata": {},
   "source": [
    "- **$10)\\verb| Quantum system - ground state.|$** Un sistema cuántico de tres niveles está descrito por el siguiente Hamiltoniano:\n",
    "\n",
    "$$\\hat{H} = \n",
    "\\begin{pmatrix}\n",
    "1 & 2 & -1\\\\\n",
    "1 & 0 & 1\\\\\n",
    "4 & -4 & 5\n",
    "\\end{pmatrix}$$\n",
    "\n",
    "Implemente el algoritmo de la potencia inversa para encontrar el valor del estado base $E_0$ y su vector propio $\\lvert \\varphi_{0} \\rangle$. **Ans.** $E_{0} = 1$ y $\\lvert \\varphi_{0} \\rangle = [0.40824829, −0.40824829, −0.81649658]$."
   ]
  },
  {
   "cell_type": "code",
   "execution_count": null,
   "metadata": {},
   "outputs": [],
   "source": []
  },
  {
   "attachments": {},
   "cell_type": "markdown",
   "metadata": {},
   "source": [
    "- **$12)\\verb| Jacobiano de cuarto orden.|$** Usando el operador derivada central de orden $\\mathfrak{O}(h^4)$ es posible mejorar la estimación del Jacobiano para funciones vectoriales.\n",
    "\n",
    "$(a)$ Escriba una función que estime el Jacobiano con el operador derivada de orden $\\mathfrak{O}(h^4)$."
   ]
  },
  {
   "cell_type": "code",
   "execution_count": null,
   "metadata": {},
   "outputs": [],
   "source": []
  },
  {
   "attachments": {},
   "cell_type": "markdown",
   "metadata": {},
   "source": [
    "$(b)$ Estime el Jacobiano de la siguiente función en el punto $x = (0.5, 0.5, 0.5)$ con $h = 0.01$:\n",
    "\n",
    "$$6x_{1} - 2\\cos(x_{2}x_{3}) - 1 = 0$$\n",
    "$$9x_{2} + \\sqrt{x_{1}^2 + \\sin(x_{3}) +1.06} + 0.9 = 0$$\n",
    "$$60x_{3} + 3e^{-x_{1}x_{2}} + 10\\pi - 3 = 0$$"
   ]
  },
  {
   "cell_type": "code",
   "execution_count": null,
   "metadata": {},
   "outputs": [],
   "source": []
  },
  {
   "attachments": {},
   "cell_type": "markdown",
   "metadata": {},
   "source": [
    "$(c)$ Estime el Jacobiano usando la aproximación de orden $\\mathfrak{O}(h^2)$ con $h = 0.01$. Para qué valor de $h$, el operador de segundo orden igualará en precisión al operador de cuarto orden; verifique su intuición en el código."
   ]
  },
  {
   "cell_type": "code",
   "execution_count": null,
   "metadata": {},
   "outputs": [],
   "source": []
  },
  {
   "attachments": {},
   "cell_type": "markdown",
   "metadata": {},
   "source": [
    "- **$13)\\verb| (Group theory, Sympy)|$**  El grupo de rotación $SO3$ (special orthogonal dim 3) describe las rotaciones en el espacio. Este grupo tiene el siguiente conjunto de generadores:\n",
    "\n",
    "$$J_{x} = \n",
    "\\begin{pmatrix}\n",
    "0 & 0 & 0\\\\\n",
    "0 & 0 & -1\\\\\n",
    "0 & 1 & 0\n",
    "\\end{pmatrix},\n",
    "\n",
    "J_{y} = \n",
    "\\begin{pmatrix}\n",
    "0 & 0 & 1\\\\\n",
    "0 & 0 & 0\\\\\n",
    "-1 & 0 & 0\n",
    "\\end{pmatrix},\n",
    "\n",
    "J_{z} = \n",
    "\\begin{pmatrix}\n",
    "0 & -1 & 0\\\\\n",
    "1 & 0 & 0\\\\\n",
    "0 & 0 & 0\n",
    "\\end{pmatrix}.\n",
    "$$\n",
    "\n",
    "Verifique que el álgebra de Lie del grupo está dada por:\n",
    "\n",
    "$$[J_{i}, J_{j}] = \\epsilon_{ijk}J_{k}, \\quad i, j = 1, 2, 3$$\n",
    "\n",
    "donde $[A, B] = AB - BA$ es el conmutador y el símbolo Levi-Civita está definido por:\n",
    "\n",
    "$$\\epsilon_{ijk} = \\left\\{\n",
    "        \\begin{array}{cc}\n",
    "        +1 \\quad & \\text{si} \\quad & (i, j, k) = (1, 2, 3), (2, 3, 1), (3, 1, 2) \\quad \\text{Permutación par}\\\\\n",
    "        \\\\\n",
    "        -1 \\quad & \\text{si} \\quad & (i, j, k) = (3, 2, 1), (1, 3, 2), (2, 1, 3) \\quad \\text{Permutación impar}\\\\\n",
    "        \\\\\n",
    "        0 \\quad & \\text{de otro modo} \\quad & i = j \\text{ o } j = k \\text{ o } k = i\n",
    "        \\end{array}\n",
    "        \\right.\n",
    "        $$"
   ]
  },
  {
   "cell_type": "code",
   "execution_count": null,
   "metadata": {},
   "outputs": [],
   "source": []
  },
  {
   "attachments": {},
   "cell_type": "markdown",
   "metadata": {},
   "source": [
    "**$14)\\verb| (Group theory, Sympy)|$**  El grupo de rotación $SU2$ (special unitary dim 2) describe el operador del espín para una partícula fundamental con $s = 1/2$. Este grupo tiene el siguiente conjunto de generadores:\n",
    "\n",
    "$$\\sigma_{x} = \n",
    "\\begin{pmatrix}\n",
    "0 & 1\\\\\n",
    "1 & 0\n",
    "\\end{pmatrix},\n",
    "\n",
    "\\sigma_{y} = \n",
    "\\begin{pmatrix}\n",
    "0 & -i\\\\\n",
    "i & 0\n",
    "\\end{pmatrix}, \n",
    "\n",
    "\\sigma_{z} = \n",
    "\\begin{pmatrix}\n",
    "1 & 0\\\\\n",
    "0 & -1\n",
    "\\end{pmatrix}$$\n",
    "\n",
    "Verifique que el álgebra de Lie del grupo está dada por:\n",
    "\n",
    "$$[\\sigma_{i}, \\sigma_{j}] = 2i\\epsilon_{ijk}\\sigma_{k}, \\quad i, j = 1, 2, 3.$$\n",
    "\n",
    "donde $[A, B] = AB - BA$ es el conmutador."
   ]
  },
  {
   "cell_type": "code",
   "execution_count": null,
   "metadata": {},
   "outputs": [],
   "source": []
  },
  {
   "attachments": {},
   "cell_type": "markdown",
   "metadata": {},
   "source": [
    "**$15)\\verb| (Particle Physics, Sympy)|$**  Las matrices de Dirac $\\{\\gamma^{0}, \\gamma^{1}, \\gamma^{2}, \\gamma^{3}\\}$ Son una representación del álgebra de Clifford $Cl_{1, 3}(\\mathbb{R})$, que transforman correctamente el espacio de espinores de la teoría cuántica de campos:\n",
    "\n",
    "$$\\gamma^0 = \n",
    "\\begin{pmatrix}\n",
    "1 & 0 & 0 & 0\\\\\n",
    "0 & 1 & 0 & 0\\\\\n",
    "0 & 0 & -1 & 0\\\\\n",
    "0 & 0 & 0 & -1\n",
    "\\end{pmatrix}, \\quad \n",
    "\n",
    "\\gamma^1 = \n",
    "\\begin{pmatrix}\n",
    "0 & 0 & 0 & 1\\\\\n",
    "0 & 0 & 1 & 0\\\\\n",
    "0 & -1 & 0 & 0\\\\\n",
    "-1 & 0 & 0 & 0\n",
    "\\end{pmatrix}$$\n",
    "\n",
    "$$\\gamma^2 = \n",
    "\\begin{pmatrix}\n",
    "0 & 0 & 0 & -i\\\\\n",
    "0 & 0 & i & 0\\\\\n",
    "0 & i & 0 & 0\\\\\n",
    "-i & 0 & 0 & 0\n",
    "\\end{pmatrix}, \\quad \n",
    "\n",
    "\\gamma^3 = \n",
    "\\begin{pmatrix}\n",
    "0 & 0 & 1 & 0\\\\\n",
    "0 & 0 & 0 & -1\\\\\n",
    "-1 & 0 & 0 & 0\\\\\n",
    "0 & 1 & 0 & 0\n",
    "\\end{pmatrix}$$\n",
    "\n",
    "Verifique que el álgebra de Clifford está dada por una relación de anticonmutación.\n",
    "\n",
    "$$\\{\\gamma^{\\mu}, \\gamma^{\\delta}\\} = \\gamma^{\\mu}\\gamma^{\\delta} + \\gamma^{\\delta}\\gamma^{\\mu} = 2\\eta^{\\mu\\delta} \\mathbb{I}_{4 \\times 4}$$\n",
    "\n",
    "donde $\\eta^{\\mu\\delta} = diag(+1, -1, -1, -1)$ es la métrica del espacio de la relatividad especial."
   ]
  },
  {
   "attachments": {},
   "cell_type": "markdown",
   "metadata": {},
   "source": [
    "**Respuesta:**\n",
    "\n",
    "Dadas las matrices de Dirac se puede comprobar la propiedad anticonmutación la cual, asegura que se genere una representación matricial en el álgebra de Clifford dada por la siguiente relación:\n",
    "\n",
    "$$ \\gamma^u \\gamma^v + \\gamma^v \\gamma^u = 2\\mu^{uv} I_{4x4} \\rightarrow \\mu^{uv} = diag(1,-1,-1,-1)$$\n",
    "\n",
    "Para comprobar la anterior relación, tomaremos dos casos específicos, cuando $u\\neq v$ y $u=v$ . Para el primer caso, podemos observar que sin importar el orden de los índices, el resultado obtenido es la matriz cero."
   ]
  },
  {
   "cell_type": "code",
   "execution_count": 11,
   "metadata": {},
   "outputs": [],
   "source": [
    "i = sym.Symbol('i')\n",
    "gamma_zero = np.array([[1,0,0,0],[0,1,0,0],[0,0,-1,0],[0,0,0,-1]])\n",
    "gamma_one = np.array([[0,0,0,1],[0,0,1,0],[0,-1,0,0],[-1,0,0,0]])\n",
    "gamma_two = np.array([[0,0,0,-i],[0,0,i,0],[0,i,0,0],[-i,0,0,0]])\n",
    "gamma_three = np.array([[0,0,1,0],[0,0,0,-1],[-1,0,0,0],[0,1,0,0]])\n",
    "\n",
    "def GetRelation(a,b):\n",
    "    z = GetMultiplication(a,b) + GetMultiplication(b,a)\n",
    "    return sym.Matrix(z)"
   ]
  },
  {
   "cell_type": "code",
   "execution_count": 12,
   "metadata": {},
   "outputs": [
    {
     "name": "stdout",
     "output_type": "stream",
     "text": [
      "Para gamma^0 y gamma^1 obtenemos:\n"
     ]
    },
    {
     "data": {
      "text/latex": [
       "$\\displaystyle \\left[\\begin{matrix}0 & 0 & 0 & 0\\\\0 & 0 & 0 & 0\\\\0 & 0 & 0 & 0\\\\0 & 0 & 0 & 0\\end{matrix}\\right]$"
      ],
      "text/plain": [
       "Matrix([\n",
       "[0, 0, 0, 0],\n",
       "[0, 0, 0, 0],\n",
       "[0, 0, 0, 0],\n",
       "[0, 0, 0, 0]])"
      ]
     },
     "execution_count": 12,
     "metadata": {},
     "output_type": "execute_result"
    }
   ],
   "source": [
    "one = GetRelation(gamma_zero,gamma_one)\n",
    "print(\"Para gamma^0 y gamma^1 obtenemos:\")\n",
    "one"
   ]
  },
  {
   "cell_type": "code",
   "execution_count": 13,
   "metadata": {},
   "outputs": [
    {
     "name": "stdout",
     "output_type": "stream",
     "text": [
      "Para gamma^0 y gamma^2 obtenemos:\n"
     ]
    },
    {
     "data": {
      "text/latex": [
       "$\\displaystyle \\left[\\begin{matrix}0 & 0 & 0 & 0\\\\0 & 0 & 0 & 0\\\\0 & 0 & 0 & 0\\\\0 & 0 & 0 & 0\\end{matrix}\\right]$"
      ],
      "text/plain": [
       "Matrix([\n",
       "[0, 0, 0, 0],\n",
       "[0, 0, 0, 0],\n",
       "[0, 0, 0, 0],\n",
       "[0, 0, 0, 0]])"
      ]
     },
     "execution_count": 13,
     "metadata": {},
     "output_type": "execute_result"
    }
   ],
   "source": [
    "two = GetRelation(gamma_zero,gamma_two)\n",
    "print(\"Para gamma^0 y gamma^2 obtenemos:\")\n",
    "two"
   ]
  },
  {
   "cell_type": "code",
   "execution_count": 14,
   "metadata": {},
   "outputs": [
    {
     "name": "stdout",
     "output_type": "stream",
     "text": [
      "Para gamma^0 y gamma^3 obtenemos:\n"
     ]
    },
    {
     "data": {
      "text/latex": [
       "$\\displaystyle \\left[\\begin{matrix}0 & 0 & 0 & 0\\\\0 & 0 & 0 & 0\\\\0 & 0 & 0 & 0\\\\0 & 0 & 0 & 0\\end{matrix}\\right]$"
      ],
      "text/plain": [
       "Matrix([\n",
       "[0, 0, 0, 0],\n",
       "[0, 0, 0, 0],\n",
       "[0, 0, 0, 0],\n",
       "[0, 0, 0, 0]])"
      ]
     },
     "execution_count": 14,
     "metadata": {},
     "output_type": "execute_result"
    }
   ],
   "source": [
    "three = GetRelation(gamma_zero,gamma_three)\n",
    "print(\"Para gamma^0 y gamma^3 obtenemos:\")\n",
    "three"
   ]
  },
  {
   "cell_type": "code",
   "execution_count": 15,
   "metadata": {},
   "outputs": [
    {
     "name": "stdout",
     "output_type": "stream",
     "text": [
      "Para gamma^1 y gamma^2 obtenemos:\n"
     ]
    },
    {
     "data": {
      "text/latex": [
       "$\\displaystyle \\left[\\begin{matrix}0 & 0 & 0 & 0\\\\0 & 0 & 0 & 0\\\\0 & 0 & 0 & 0\\\\0 & 0 & 0 & 0\\end{matrix}\\right]$"
      ],
      "text/plain": [
       "Matrix([\n",
       "[0, 0, 0, 0],\n",
       "[0, 0, 0, 0],\n",
       "[0, 0, 0, 0],\n",
       "[0, 0, 0, 0]])"
      ]
     },
     "execution_count": 15,
     "metadata": {},
     "output_type": "execute_result"
    }
   ],
   "source": [
    "four = GetRelation(gamma_one,gamma_two)\n",
    "print(\"Para gamma^1 y gamma^2 obtenemos:\")\n",
    "four"
   ]
  },
  {
   "cell_type": "code",
   "execution_count": 16,
   "metadata": {},
   "outputs": [
    {
     "name": "stdout",
     "output_type": "stream",
     "text": [
      "Para gamma^1 y gamma^3 obtenemos:\n"
     ]
    },
    {
     "data": {
      "text/latex": [
       "$\\displaystyle \\left[\\begin{matrix}0 & 0 & 0 & 0\\\\0 & 0 & 0 & 0\\\\0 & 0 & 0 & 0\\\\0 & 0 & 0 & 0\\end{matrix}\\right]$"
      ],
      "text/plain": [
       "Matrix([\n",
       "[0, 0, 0, 0],\n",
       "[0, 0, 0, 0],\n",
       "[0, 0, 0, 0],\n",
       "[0, 0, 0, 0]])"
      ]
     },
     "execution_count": 16,
     "metadata": {},
     "output_type": "execute_result"
    }
   ],
   "source": [
    "five = GetRelation(gamma_one,gamma_three)\n",
    "print(\"Para gamma^1 y gamma^3 obtenemos:\")\n",
    "five"
   ]
  },
  {
   "cell_type": "code",
   "execution_count": 17,
   "metadata": {},
   "outputs": [
    {
     "name": "stdout",
     "output_type": "stream",
     "text": [
      "Para gamma^2 y gamma^3 obtenemos:\n"
     ]
    },
    {
     "data": {
      "text/latex": [
       "$\\displaystyle \\left[\\begin{matrix}0 & 0 & 0 & 0\\\\0 & 0 & 0 & 0\\\\0 & 0 & 0 & 0\\\\0 & 0 & 0 & 0\\end{matrix}\\right]$"
      ],
      "text/plain": [
       "Matrix([\n",
       "[0, 0, 0, 0],\n",
       "[0, 0, 0, 0],\n",
       "[0, 0, 0, 0],\n",
       "[0, 0, 0, 0]])"
      ]
     },
     "execution_count": 17,
     "metadata": {},
     "output_type": "execute_result"
    }
   ],
   "source": [
    "six = GetRelation(gamma_two,gamma_three)\n",
    "print(\"Para gamma^2 y gamma^3 obtenemos:\")\n",
    "six"
   ]
  },
  {
   "attachments": {},
   "cell_type": "markdown",
   "metadata": {},
   "source": [
    "Con respecto al segundo caso, se puede observar que para la matriz $\\gamma^0$ la relación da como resultado $2\\mathbb{I}_{4x4}$. En cambio, para el resto de índices el resultado es $-2\\mathbb{I}_{4x4}$ donde $\\mathbb{I}$ es la matriz identidad."
   ]
  },
  {
   "cell_type": "code",
   "execution_count": 18,
   "metadata": {},
   "outputs": [
    {
     "name": "stdout",
     "output_type": "stream",
     "text": [
      "Para gamma^0 obtenemos:\n"
     ]
    },
    {
     "data": {
      "text/latex": [
       "$\\displaystyle \\left[\\begin{matrix}2 & 0 & 0 & 0\\\\0 & 2 & 0 & 0\\\\0 & 0 & 2 & 0\\\\0 & 0 & 0 & 2\\end{matrix}\\right]$"
      ],
      "text/plain": [
       "Matrix([\n",
       "[2, 0, 0, 0],\n",
       "[0, 2, 0, 0],\n",
       "[0, 0, 2, 0],\n",
       "[0, 0, 0, 2]])"
      ]
     },
     "execution_count": 18,
     "metadata": {},
     "output_type": "execute_result"
    }
   ],
   "source": [
    "one = GetRelation(gamma_zero,gamma_zero)\n",
    "print(\"Para gamma^0 obtenemos:\")\n",
    "one"
   ]
  },
  {
   "cell_type": "code",
   "execution_count": 19,
   "metadata": {},
   "outputs": [
    {
     "name": "stdout",
     "output_type": "stream",
     "text": [
      "Para gamma^1 obtenemos:\n"
     ]
    },
    {
     "data": {
      "text/latex": [
       "$\\displaystyle \\left[\\begin{matrix}-2 & 0 & 0 & 0\\\\0 & -2 & 0 & 0\\\\0 & 0 & -2 & 0\\\\0 & 0 & 0 & -2\\end{matrix}\\right]$"
      ],
      "text/plain": [
       "Matrix([\n",
       "[-2,  0,  0,  0],\n",
       "[ 0, -2,  0,  0],\n",
       "[ 0,  0, -2,  0],\n",
       "[ 0,  0,  0, -2]])"
      ]
     },
     "execution_count": 19,
     "metadata": {},
     "output_type": "execute_result"
    }
   ],
   "source": [
    "two = GetRelation(gamma_one,gamma_one)\n",
    "print(\"Para gamma^1 obtenemos:\")\n",
    "two"
   ]
  },
  {
   "cell_type": "code",
   "execution_count": 20,
   "metadata": {},
   "outputs": [
    {
     "name": "stdout",
     "output_type": "stream",
     "text": [
      "Para gamma^2 obtenemos:\n"
     ]
    },
    {
     "data": {
      "text/latex": [
       "$\\displaystyle \\left[\\begin{matrix}2 i^{2} & 0 & 0 & 0\\\\0 & 2 i^{2} & 0 & 0\\\\0 & 0 & 2 i^{2} & 0\\\\0 & 0 & 0 & 2 i^{2}\\end{matrix}\\right]$"
      ],
      "text/plain": [
       "Matrix([\n",
       "[2*i**2,      0,      0,      0],\n",
       "[     0, 2*i**2,      0,      0],\n",
       "[     0,      0, 2*i**2,      0],\n",
       "[     0,      0,      0, 2*i**2]])"
      ]
     },
     "execution_count": 20,
     "metadata": {},
     "output_type": "execute_result"
    }
   ],
   "source": [
    "three = GetRelation(gamma_two,gamma_two)\n",
    "print(\"Para gamma^2 obtenemos:\")\n",
    "three"
   ]
  },
  {
   "cell_type": "code",
   "execution_count": 21,
   "metadata": {},
   "outputs": [
    {
     "name": "stdout",
     "output_type": "stream",
     "text": [
      "Para gamma^3 obtenemos:\n"
     ]
    },
    {
     "data": {
      "text/latex": [
       "$\\displaystyle \\left[\\begin{matrix}-2 & 0 & 0 & 0\\\\0 & -2 & 0 & 0\\\\0 & 0 & -2 & 0\\\\0 & 0 & 0 & -2\\end{matrix}\\right]$"
      ],
      "text/plain": [
       "Matrix([\n",
       "[-2,  0,  0,  0],\n",
       "[ 0, -2,  0,  0],\n",
       "[ 0,  0, -2,  0],\n",
       "[ 0,  0,  0, -2]])"
      ]
     },
     "execution_count": 21,
     "metadata": {},
     "output_type": "execute_result"
    }
   ],
   "source": [
    "four = GetRelation(gamma_three,gamma_three)\n",
    "print(\"Para gamma^3 obtenemos:\")\n",
    "four"
   ]
  },
  {
   "attachments": {},
   "cell_type": "markdown",
   "metadata": {},
   "source": [
    "Dados estos resultados, se puede representar dicha relación de anticonmutación en una matriz cuyas filas y columnas estarán determinados por los índices de las matrices $u$ y $v$ respectivamente como se muestra a continuación,\n",
    "\n",
    "$$\\begin{bmatrix}\n",
    "(\\gamma^0,\\gamma^0) & (\\gamma^0,\\gamma^1) & (\\gamma^0,\\gamma^2) & (\\gamma^0,\\gamma^3) \\\\\n",
    "(\\gamma^1,\\gamma^0) & (\\gamma^1,\\gamma^1) & (\\gamma^1,\\gamma^2) & (\\gamma^1,\\gamma^3) \\\\\n",
    "(\\gamma^2,\\gamma^0) & (\\gamma^2,\\gamma^1) & (\\gamma^2,\\gamma^2) & (\\gamma^2,\\gamma^3) \\\\\n",
    "(\\gamma^3,\\gamma^0) & (\\gamma^3,\\gamma^1) & (\\gamma^3,\\gamma^2) & (\\gamma^3,\\gamma^3) \n",
    "\\end{bmatrix}\n",
    "\\rightarrow\n",
    "\\begin{bmatrix}\n",
    "1 & 0 & 0 & 0 \\\\\n",
    "0 & -1 & 0 & 0 \\\\\n",
    "0 & 0 & -1 & 0 \\\\\n",
    "0 & 0 & 0 & -1 \n",
    "\\end{bmatrix}$$\n",
    "\n",
    "Como podemos observar, la diagonal de dicha representación matricial corresponde a la métrica de Minkowsky, así podemos escribir la relación de anticonmutación como,\n",
    "\n",
    "$$ \\gamma^u \\gamma^v + \\gamma^v \\gamma^u = 2\\mu^{uv} I_{4x4} \\rightarrow \\mu^{uv} = diag(1,-1,-1,-1) $$\n",
    "\n",
    "Por lo que queda verificada que la anterior relación cumple con el álgebra de Clifford.\n"
   ]
  },
  {
   "attachments": {},
   "cell_type": "markdown",
   "metadata": {},
   "source": [
    "> # **8.1. MÍNIMOS CUADRADOS**\n",
    "\n",
    "**$1)\\verb| (Python)|$** Se tienen tres líneas en $\\mathbb{R}^2$:\n",
    "\n",
    "$$2x - y = 2$$\n",
    "$$x + 2y = 1$$\n",
    "$$x + y = 4$$\n",
    "\n",
    "$(a)$ Con el método de mínimos cuadrados encuentre el punto común a las tres líneas. Grafique las tres líneas y el punto solución. ¿Qué interpretación puede dar?"
   ]
  },
  {
   "cell_type": "code",
   "execution_count": null,
   "metadata": {},
   "outputs": [],
   "source": []
  },
  {
   "attachments": {},
   "cell_type": "markdown",
   "metadata": {},
   "source": [
    "$(b)$ Realice una búsqueda iterativa entre $-5 \\leq x \\leq 5$ y $-5 \\leq y \\leq 5$ con un paso de $h = 0.01$ para encontrar la menor distancia del problema. Grafique la distancia y compare con el resultado obtenido en los mínimos cuadrados."
   ]
  },
  {
   "cell_type": "code",
   "execution_count": null,
   "metadata": {},
   "outputs": [],
   "source": []
  },
  {
   "attachments": {},
   "cell_type": "markdown",
   "metadata": {},
   "source": [
    "- **$6)\\verb| (Python)|$** En el caso de ajustes, es posible definir funciones de costo que midan la distancia entre los puntos muestrales y el modelo de ajuste. En el caso de mínimos cuadrados la función es $\\mathfrak{X}^2$. Para $n$ puntos y un modelo lineal la función de costo es:\n",
    "\n",
    "$$\\mathfrak{X}^2(a_{0}, a_{1}) = \\sum_{i = 1}^{n} (y_{i} - (a_{0} + a_{1}x_{i}))^2$$\n",
    "\n",
    "Si hablamos en términos Bayesianos, $\\omega = \\{a_{0}, a_{1} \\}$ define el conjunto de modelos lineales que pueden explicar $n$ puntos muestrales. Al minimizar $\\mathfrak{X}^2(a_{0}, a_{1})$ muestre (analíticamente) que los parámetros están dados por:\n",
    "\n",
    "$$a_{0} = \\bar{y} - a_{1}\\bar{x}$$\n",
    "$$a_{1} = \\frac{\\sum xy - \\dfrac{\\sum x \\sum y}{n}}{\\sum x^2 - \\dfrac{(\\sum x)^2}{n}}$$\n",
    "\n",
    "donde $\\bar{x}$ y $\\bar{y}$ son los valores medios de puntos y sus imágenes. Para $n$ puntos y un modelo cuadrático la función de costo es:\n",
    "\n",
    "$$\\mathfrak{X}^2(a_{0}, a_{1}, a_{2}) = \\sum_{i = 1}^{n} (y_{i} - (a_{0} + a_{1}x_{i} + a_{2}x_{i}^2))^2$$\n",
    "\n",
    "Minimize $\\mathfrak{X}^2(a_{0}, a_{1}, a_{2})$ para encontrar el siguiente sistema de ecuaciones. *¿Nota alguna regularidad?*\n",
    "\n",
    "$$\\sum_{i = 1}^{n} \\left[a_{0} + a_{1}x_{i} + a_{2}x_{i}^{2}  = y_{i} \\right]$$\n",
    "$$\\sum_{i = 1}^{n} \\left[a_{0}x_{i} + a_{1}x_{i}^{2} + a_{2}x_{i}^{3}  = x_{i}y_{i} \\right]$$\n",
    "$$\\sum_{i = 1}^{n} \\left[a_{0}x_{i}^{2} + a_{1}x_{i}^{3} + a_{2}x_{i}^{4}  = x_{i}^{2}y_{i} \\right]$$\n",
    "\n",
    "**Opcionalmente:** Encuentre los parámetros usando estas expresiones para los problemas $2)$ y $3)$."
   ]
  },
  {
   "cell_type": "code",
   "execution_count": null,
   "metadata": {},
   "outputs": [],
   "source": []
  },
  {
   "attachments": {},
   "cell_type": "markdown",
   "metadata": {},
   "source": [
    "**$7)\\verb| Machine Learning: Logistic Regresion.|$** Descargue los datos de: https://raw.githubusercontent.com/asegura4488/Database/main/MetodosComputacionalesReforma/Sigmoid.csv\n",
    "\n",
    "$(a)$ Defina el modelo de ajuste como:\n",
    "\n",
    "$$M(x;\\vec{\\theta}) = \\frac{\\theta_{0}}{\\theta_{1} + e^{-\\theta_{2}x}}$$\n",
    "\n",
    "donde el $\\vec{\\theta}$ es el vector de parámetros del ajuste."
   ]
  },
  {
   "cell_type": "code",
   "execution_count": null,
   "metadata": {},
   "outputs": [],
   "source": []
  },
  {
   "attachments": {},
   "cell_type": "markdown",
   "metadata": {},
   "source": [
    "$(b)$ Defina la métrica (función de costo) a minimizar como:\n",
    "\n",
    "$$\\mathfrak{X}^2(\\vec{\\theta}) = \\sum_{i = 1}^{N} \\left( \\frac{y_{i} - M(x_{i}, \\vec{\\theta})}{\\sigma_{i}} \\right)^2$$\n",
    "\n",
    "donde $\\sigma_{i} = 1 \\forall i$, es decir, no se consideran los errores de $y_{i}$."
   ]
  },
  {
   "cell_type": "code",
   "execution_count": null,
   "metadata": {},
   "outputs": [],
   "source": []
  },
  {
   "attachments": {},
   "cell_type": "markdown",
   "metadata": {},
   "source": [
    "$(c)$ Muestre que las derivadas parciales de la métrica están dadas por:\n",
    "\n",
    "$$\\frac{\\partial\\mathfrak{X}^2(\\vec{\\theta})}{\\partial\\theta_{i}} = -2 \\cdot \\sum_{i = 1}^{N}(y_{i} - M(x_{i}, \\vec{\\theta})) \\cdot \\frac{\\partial M(x_{i}, \\vec{\\theta})}{\\partial{\\theta_{i}}}$$"
   ]
  },
  {
   "cell_type": "code",
   "execution_count": null,
   "metadata": {},
   "outputs": [],
   "source": []
  },
  {
   "attachments": {},
   "cell_type": "markdown",
   "metadata": {},
   "source": [
    "$(d)$ Muestre que vectorialmente, el descenso del gradiente queda definido por:\n",
    "\n",
    "$$\\vec{\\theta}_{j + 1} = \\vec{\\theta}_{j} - \\gamma \\cdot \\left( -2 \\cdot \\sum_{i = 1}^{N}(y_{i} - M(x_{i}, \\vec{\\theta}_{j})) \\cdot \\nabla_{\\theta} M(x_{i}, \\vec{\\theta}_{j}) \\right)$$\n",
    "\n",
    "donde el gradiente es respecto a los parámetros:\n",
    "\n",
    "$$\\nabla_{\\theta} M(x_{i}, \\vec{\\theta}_{j}) = \\left[ \\frac{\\partial M(x_{i}, \\vec{\\theta})}{\\partial\\theta_{0}}, \\frac{\\partial M(x_{i}, \\vec{\\theta})}{\\partial\\theta_{1}},\\frac{\\partial M(x_{i}, \\vec{\\theta})}{\\partial\\theta_{2}} \\right]$$"
   ]
  },
  {
   "cell_type": "code",
   "execution_count": null,
   "metadata": {},
   "outputs": [],
   "source": []
  },
  {
   "attachments": {},
   "cell_type": "markdown",
   "metadata": {},
   "source": [
    "$(e)$ Use una taza de aprendizaje $\\gamma = 1 \\times 10^{-3}$ o $\\gamma = 5 \\times 10^{-4}$, $\\vec{\\theta}_{0} = [1, 1, 1]$, un error de parada $\\epsilon = 0.01$ y un máximo de iteraciones de $1 \\times 10^{4}$."
   ]
  },
  {
   "cell_type": "code",
   "execution_count": null,
   "metadata": {},
   "outputs": [],
   "source": []
  },
  {
   "attachments": {},
   "cell_type": "markdown",
   "metadata": {},
   "source": [
    "$(f)$ Grafique los datos y the best fit model con sus parámetros."
   ]
  },
  {
   "cell_type": "code",
   "execution_count": null,
   "metadata": {},
   "outputs": [],
   "source": []
  }
 ],
 "metadata": {
  "kernelspec": {
   "display_name": "Python 3",
   "language": "python",
   "name": "python3"
  },
  "language_info": {
   "codemirror_mode": {
    "name": "ipython",
    "version": 3
   },
   "file_extension": ".py",
   "mimetype": "text/x-python",
   "name": "python",
   "nbconvert_exporter": "python",
   "pygments_lexer": "ipython3",
   "version": "3.9.7"
  },
  "orig_nbformat": 4
 },
 "nbformat": 4,
 "nbformat_minor": 2
}
