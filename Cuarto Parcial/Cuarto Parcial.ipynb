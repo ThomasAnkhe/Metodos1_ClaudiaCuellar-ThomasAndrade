{
 "cells": [
  {
   "attachments": {},
   "cell_type": "markdown",
   "metadata": {},
   "source": [
    "# **Métodos Computacionales I - Parcial #4**\n",
    "\n",
    "**Hecho por:** Claudia Alejandra Cuellar Nieto & Thomas Andrade Hernández\n"
   ]
  },
  {
   "cell_type": "code",
   "execution_count": 4,
   "metadata": {},
   "outputs": [],
   "source": [
    "# Zona de librerías:\n",
    "import numpy as np\n",
    "import sympy as sym\n",
    "import pandas as pd\n",
    "from scipy.optimize import minimize\n",
    "import matplotlib.pyplot as plt\n",
    "import scipy.optimize as spo\n",
    "from scipy.stats import norm\n",
    "from tqdm import tqdm\n"
   ]
  },
  {
   "attachments": {},
   "cell_type": "markdown",
   "metadata": {},
   "source": [
    "$$ y(h) = \\frac{2\\sqrt{2}}{3}\\omega \\cos (\\lambda) \\sqrt{\\frac{h^3}{g}} $$\n",
    "\n",
    "Este es el modelo físico que debe ajustar para estimar la rapidez de rotación en cada\n",
    "latitud y luego hacer el best-fit model combinando la información de todas latitudes (o\n",
    "canales). Los datos experimentales se refieren a la altura inicial, al desplazamiento $(y(h))$ observado en cada latitud y al error experimental $(\\sigma(y))$. Les propongo la siguiente estrategia para hacer esta estimación:"
   ]
  },
  {
   "attachments": {},
   "cell_type": "markdown",
   "metadata": {},
   "source": [
    "**$a)$** Descarguen los datos experimentales de cada canal de observación: https://raw.githubusercontent.com/asegura4488/Database/main/MetodosComputacionalesReforma/DataRotacion.csv."
   ]
  },
  {
   "cell_type": "code",
   "execution_count": null,
   "metadata": {},
   "outputs": [],
   "source": []
  },
  {
   "attachments": {},
   "cell_type": "markdown",
   "metadata": {},
   "source": [
    "**$b)$** Cargue los datos usando **Pandas** y haga un filtrado para obtener los datos\n",
    "correspondientes a $\\lambda = 30$."
   ]
  },
  {
   "cell_type": "code",
   "execution_count": null,
   "metadata": {},
   "outputs": [],
   "source": []
  },
  {
   "attachments": {},
   "cell_type": "markdown",
   "metadata": {},
   "source": [
    "**$c)$** Defina el modelo físico presentado para la desviación por efecto coriolis. El modelo debe tener como entrada la altura inicial de caída $h$, el parámetro de ajuste $p = \\omega$, la latitud $\\lambda$ y la aceleración de la gravedad $g$."
   ]
  },
  {
   "cell_type": "code",
   "execution_count": null,
   "metadata": {},
   "outputs": [],
   "source": []
  },
  {
   "attachments": {},
   "cell_type": "markdown",
   "metadata": {},
   "source": [
    "**$d)$** Defina la función $\\Chi ^2$, donde los argumentos son $(h, y, sigmay, angle, g)$.\n"
   ]
  },
  {
   "cell_type": "code",
   "execution_count": null,
   "metadata": {},
   "outputs": [],
   "source": []
  },
  {
   "attachments": {},
   "cell_type": "markdown",
   "metadata": {},
   "source": [
    "**$e)$** Minimice usando **optimize**. Para $\\lambda = 30$, debería obtener $\\hat{\\omega} = 7.24 \\cdot 10^{−5}$.\n"
   ]
  },
  {
   "cell_type": "code",
   "execution_count": null,
   "metadata": {},
   "outputs": [],
   "source": []
  },
  {
   "attachments": {},
   "cell_type": "markdown",
   "metadata": {},
   "source": [
    "**$f)$** Dibuje los datos y el modelo para esa latitud."
   ]
  },
  {
   "cell_type": "code",
   "execution_count": null,
   "metadata": {},
   "outputs": [],
   "source": []
  },
  {
   "attachments": {},
   "cell_type": "markdown",
   "metadata": {},
   "source": [
    "# **Propagación de la incertidumbre de la aceleración de la gravedad:**"
   ]
  },
  {
   "attachments": {},
   "cell_type": "markdown",
   "metadata": {},
   "source": [
    "**$a)$** Hacer un for loop $N = 300$ veces para realizar el remuestreo del valor de la gravedad de los puntos experimentales."
   ]
  },
  {
   "cell_type": "code",
   "execution_count": null,
   "metadata": {},
   "outputs": [],
   "source": []
  },
  {
   "attachments": {},
   "cell_type": "markdown",
   "metadata": {},
   "source": [
    "**$b)$** Genere un valor de gravedad siguiendo la distribución normal $g \\backsim N (9.8, 1)$: **$9.81 + np.random.normal(loc=0,scale=1)$** ."
   ]
  },
  {
   "cell_type": "code",
   "execution_count": null,
   "metadata": {},
   "outputs": [],
   "source": []
  },
  {
   "attachments": {},
   "cell_type": "markdown",
   "metadata": {},
   "source": [
    "**$c)$** Guarde ese valor en un array llamado Gravedad."
   ]
  },
  {
   "cell_type": "code",
   "execution_count": null,
   "metadata": {},
   "outputs": [],
   "source": []
  },
  {
   "attachments": {},
   "cell_type": "markdown",
   "metadata": {},
   "source": [
    "**$d)$** Cambie el valor de los puntos experimentales siguiendo la distribución normal $y \\backsim N (y, \\sigma(y))$: (modificación de bootstrapping): \n",
    "**$y + np.random.normal( loc=0, scale=sigmay[0], size=len(y))$**."
   ]
  },
  {
   "cell_type": "code",
   "execution_count": null,
   "metadata": {},
   "outputs": [],
   "source": []
  },
  {
   "attachments": {},
   "cell_type": "markdown",
   "metadata": {},
   "source": [
    "**$e)$** Realice la optimización y guarde el valor de la estimación de la rapidez angular $\\hat{\\omega}$ en otro array, Omega."
   ]
  },
  {
   "cell_type": "code",
   "execution_count": null,
   "metadata": {},
   "outputs": [],
   "source": []
  },
  {
   "attachments": {},
   "cell_type": "markdown",
   "metadata": {},
   "source": [
    "**$f)$** Genere la distribución conjunta $f(\\omega, g)$. Elija bien el tamaño de caja (cuente los cuadros en la figura por ejemplo). **$H2,binsx,binsy = np.histogram2d(Omega,Gravedad,bins=(binsx,binsy))$**"
   ]
  },
  {
   "cell_type": "code",
   "execution_count": null,
   "metadata": {},
   "outputs": [],
   "source": []
  },
  {
   "attachments": {},
   "cell_type": "markdown",
   "metadata": {},
   "source": [
    "**$e)$** ¿Están las variables correlacionadas?"
   ]
  },
  {
   "cell_type": "code",
   "execution_count": null,
   "metadata": {},
   "outputs": [],
   "source": []
  },
  {
   "attachments": {},
   "cell_type": "markdown",
   "metadata": {},
   "source": [
    "**$f)$** Marginalice $f(\\omega, g)$ para encontrar la distribución $h(\\omega)$.\n",
    "\n",
    "$$ h(\\omega) = \\sum_{m} f(\\omega, g_m) $$\n",
    "\n",
    "**$H1 = np.sum(H2,axis=1)$**"
   ]
  },
  {
   "cell_type": "code",
   "execution_count": null,
   "metadata": {},
   "outputs": [],
   "source": []
  },
  {
   "attachments": {},
   "cell_type": "markdown",
   "metadata": {},
   "source": [
    "**$g)$** Usando $h(\\omega)$ obtenga el mejor estimador $\\hat{\\omega}$ y el intervalo de confianza a un sigma de desviación. En este caso, use los percentiles para histogramas:\n",
    "\n",
    "**$ cs = np.cumsum(H1) $**\n",
    "\n",
    "**$ ij = np.searchsorted( cs, np.percentile(cs,16) ) $**\n",
    "\n",
    "**$ ii = np.searchsorted( cs, np.percentile(cs,50) ) $**\n",
    "\n",
    "**$ ji = np.searchsorted( cs, np.percentile(cs,84) ) $**\n"
   ]
  },
  {
   "cell_type": "code",
   "execution_count": null,
   "metadata": {},
   "outputs": [],
   "source": []
  },
  {
   "attachments": {},
   "cell_type": "markdown",
   "metadata": {},
   "source": [
    "**$h)$** Para la latitud $\\lambda = 30$, El mejor estimador es aproximadamente $\\hat{\\omega} = 7.30 \\cdot 10^{−5}$ y\n",
    "el intervalo de confianza a $1\\sigma$ es:\n",
    "\n",
    "$$ IC_{68\\% } = [6.42,8.18] \\cdot 10^{-5} $$\n",
    "\n",
    "Haga el ejercicio para cada latitud, resumiendo los valores en una tabla:\n",
    "\n",
    "\n",
    "| $\\lambda$ | $\\hat{\\omega} \\cdot 10^{-5}$ | $IC_{68\\%}$ | $\\sigma^+/ \\hat{\\omega}$ |\n",
    "| --- | --- | --- | --- |\n",
    "| 10 | 7.03 | [6.25,7.89] | 0.067 |\n",
    "| 20 | 6.83 | [5.94,7.82] | 0.066 |\n",
    "| 30 | 7.30 | [6.42,8.18] | 0.085 |\n",
    "| 40 | 7.50 | [6.57,8.53] | 0.100 |\n",
    "| 50 | 6.72 | [5.73,7.83] | 0.126 |\n",
    "| 60 | 7.35 | [6.27,8.56] | 0.150 |\n",
    "| Combined | 7.04 | [6.30,7.87] | 0.036 |\n"
   ]
  },
  {
   "cell_type": "code",
   "execution_count": null,
   "metadata": {},
   "outputs": [],
   "source": []
  },
  {
   "attachments": {},
   "cell_type": "markdown",
   "metadata": {},
   "source": [
    "La rapidez angular de la tierra calcula con la duración del día solar es: $\\omega _T = 7.27 \\cdot 10^{−5}$ rad/s."
   ]
  }
 ],
 "metadata": {
  "kernelspec": {
   "display_name": "base",
   "language": "python",
   "name": "python3"
  },
  "language_info": {
   "codemirror_mode": {
    "name": "ipython",
    "version": 3
   },
   "file_extension": ".py",
   "mimetype": "text/x-python",
   "name": "python",
   "nbconvert_exporter": "python",
   "pygments_lexer": "ipython3",
   "version": "3.9.7"
  },
  "orig_nbformat": 4
 },
 "nbformat": 4,
 "nbformat_minor": 2
}
