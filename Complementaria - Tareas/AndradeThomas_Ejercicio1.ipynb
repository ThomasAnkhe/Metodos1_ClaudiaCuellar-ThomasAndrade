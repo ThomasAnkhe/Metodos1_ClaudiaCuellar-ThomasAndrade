{
  "nbformat": 4,
  "nbformat_minor": 0,
  "metadata": {
    "colab": {
      "provenance": []
    },
    "kernelspec": {
      "name": "python3",
      "display_name": "Python 3"
    },
    "language_info": {
      "name": "python"
    }
  },
  "cells": [
    {
      "cell_type": "markdown",
      "source": [
        "## Librerias"
      ],
      "metadata": {
        "id": "ySCvWQe5vxeT"
      }
    },
    {
      "cell_type": "code",
      "source": [
        "import numpy as np\n",
        "import matplotlib.pyplot as plt"
      ],
      "metadata": {
        "id": "VBo2Hv2tv0UR"
      },
      "execution_count": null,
      "outputs": []
    },
    {
      "cell_type": "markdown",
      "source": [
        "## Problema 1"
      ],
      "metadata": {
        "id": "dEcQng6BpVFN"
      }
    },
    {
      "cell_type": "markdown",
      "source": [
        "Considere un lanzamiento de tiro parabolico, cuya ecuación de trayectoria esta dada por:\n",
        "\n",
        "$$\n",
        "  y(x) = y_0 + (x-x_0) \\tan{\\theta} - \\frac{1}{2}g(\\frac{x-x_0}{v_0\\cos{\\theta}})^2\n",
        "$$\n",
        "\n",
        "Usando $x_0 = 0$, $v_0 = 14 \\text{ m/s}$, $\\theta = \\pi / 4$, $y_0 = 2 \\text{ m}$, $g = 9.8 \\text{m/s}$\n",
        "\n",
        "La idea es gráficar la trayectoria hasta $x= 30 \\text{ m}$. Para ello siga los siguientes pasos."
      ],
      "metadata": {
        "id": "XuwEcc_9pmWP"
      }
    },
    {
      "cell_type": "markdown",
      "source": [
        "a) Cree una variable del tipo numpy array `x`, que corresponde a 100 puntos entre (0, **30**), use el siguiente [notebook](https://github.com/diegour1/CompMetodosComputacionales/blob/main/Notebooks/01%20-%20numpy.ipynb) como guia. \n",
        "\n"
      ],
      "metadata": {
        "id": "dLd7MV_4sZKj"
      }
    },
    {
      "cell_type": "code",
      "source": [
        "x = np.linspace(0, 30, 100)"
      ],
      "metadata": {
        "id": "6nviPNHUsVDI"
      },
      "execution_count": null,
      "outputs": []
    },
    {
      "cell_type": "markdown",
      "source": [
        "b) Calcule $y(x)$ que corresponde a $y$ para los 100 puntos anteriores. Guarde el valor en la variable del tipo numpy array `y`. No es posible usar ciclos como while o for, use las funciones de numpy como `np.tan`"
      ],
      "metadata": {
        "id": "GaSi1d1htKV6"
      }
    },
    {
      "cell_type": "code",
      "source": [
        "## Datos del Problema:\n",
        "x_i = 0\n",
        "v_i = 14 \n",
        "theta = np.pi/4 \n",
        "y_i = 2\n",
        "g = 9.8\n",
        "\n",
        "# Valores del tiro parabólico:\n",
        "y = np.array(y_i + (x - x_i)*np.tan(theta) - 0.5*g*((x - x_i)/(v_i*np.cos(theta)))**2)\n",
        "print(y)"
      ],
      "metadata": {
        "id": "savF-u4tuLth",
        "colab": {
          "base_uri": "https://localhost:8080/"
        },
        "outputId": "4ba9ed0e-e1ba-4abb-ec9a-0014fbbe5cb7"
      },
      "execution_count": null,
      "outputs": [
        {
          "output_type": "stream",
          "name": "stdout",
          "text": [
            "[  2.           2.29843893   2.58769513   2.8677686    3.13865932\n",
            "   3.40036731   3.65289256   3.89623508   4.13039486   4.3553719\n",
            "   4.57116621   4.77777778   4.97520661   5.16345271   5.34251607\n",
            "   5.51239669   5.67309458   5.82460973   5.96694215   6.10009183\n",
            "   6.22405877   6.33884298   6.44444444   6.54086318   6.62809917\n",
            "   6.70615243   6.77502296   6.83471074   6.88521579   6.92653811\n",
            "   6.95867769   6.98163453   6.99540863   7.           6.99540863\n",
            "   6.98163453   6.95867769   6.92653811   6.88521579   6.83471074\n",
            "   6.77502296   6.70615243   6.62809917   6.54086318   6.44444444\n",
            "   6.33884298   6.22405877   6.10009183   5.96694215   5.82460973\n",
            "   5.67309458   5.51239669   5.34251607   5.16345271   4.97520661\n",
            "   4.77777778   4.57116621   4.3553719    4.13039486   3.89623508\n",
            "   3.65289256   3.40036731   3.13865932   2.8677686    2.58769513\n",
            "   2.29843893   2.           1.69237833   1.37557392   1.04958678\n",
            "   0.7144169    0.37006428   0.01652893  -0.34618916  -0.71808999\n",
            "  -1.09917355  -1.48943985  -1.88888889  -2.29752066  -2.71533517\n",
            "  -3.14233242  -3.5785124   -4.02387511  -4.47842057  -4.94214876\n",
            "  -5.41505969  -5.89715335  -6.38842975  -6.88888889  -7.39853076\n",
            "  -7.91735537  -8.44536272  -8.9825528   -9.52892562 -10.08448118\n",
            " -10.64921947 -11.2231405  -11.80624426 -12.39853076 -13.        ]\n"
          ]
        }
      ]
    },
    {
      "cell_type": "markdown",
      "source": [
        "c) Use `matplotlib`, para gráficar $y(x)$. Ponerle etiquetas a los ejes con unidades."
      ],
      "metadata": {
        "id": "svKxv5efuLL3"
      }
    },
    {
      "cell_type": "code",
      "source": [
        "plt.scatter(x,y,color = 'black', marker='.',s=100)\n",
        "plt.xlabel(r'$x (m)$',fontsize=15)\n",
        "plt.ylabel(r'$y (m)$',fontsize=15)\n",
        "plt.grid()\n",
        "plt.axhline(color='gray',ls='--')"
      ],
      "metadata": {
        "id": "nHzCn9TSueeT",
        "colab": {
          "base_uri": "https://localhost:8080/",
          "height": 304
        },
        "outputId": "0434ff04-0d22-438a-f79c-0cae8867a4b3"
      },
      "execution_count": null,
      "outputs": [
        {
          "output_type": "execute_result",
          "data": {
            "text/plain": [
              "<matplotlib.lines.Line2D at 0x7f22385827f0>"
            ]
          },
          "metadata": {},
          "execution_count": 22
        },
        {
          "output_type": "display_data",
          "data": {
            "text/plain": [
              "<Figure size 432x288 with 1 Axes>"
            ],
            "image/png": "[encoded data removed]"
          },
          "metadata": {
            "needs_background": "light"
          }
        }
      ]
    },
    {
      "cell_type": "markdown",
      "metadata": {
        "id": "ZsOww6v6DmA1"
      },
      "source": [
        "## Problema 2\n",
        "\n",
        "A partir del conjunto de entrenamiento de los datos MNIST (imágenes de números escritos a mano) en este problema vamos a operar imagenes de pixeles. Use este [notebook](https://github.com/diegour1/CompMetodosComputacionales/blob/main/Notebooks/01%20-%20numpy.ipynb) como referencia.\n",
        "\n",
        " \n"
      ]
    },
    {
      "cell_type": "code",
      "source": [
        "# Download the dataset\n",
        "# no modificar este codigo\n",
        "from keras.datasets import mnist\n",
        "\n",
        "(X_train, y_train), (X_test, y_test) = mnist.load_data()\n",
        "\n",
        "X_train.shape, X_test.shape, y_train.shape, y_test.shape"
      ],
      "metadata": {
        "colab": {
          "base_uri": "https://localhost:8080/"
        },
        "id": "ZZe8o13_xTwc",
        "outputId": "0a9857c4-ad5b-40fa-d568-7aa5623bdea2"
      },
      "execution_count": null,
      "outputs": [
        {
          "output_type": "stream",
          "name": "stdout",
          "text": [
            "Downloading data from https://storage.googleapis.com/tensorflow/tf-keras-datasets/mnist.npz\n",
            "11490434/11490434 [==============================] - 1s 0us/step\n"
          ]
        },
        {
          "output_type": "execute_result",
          "data": {
            "text/plain": [
              "((60000, 28, 28), (10000, 28, 28), (60000,), (10000,))"
            ]
          },
          "metadata": {},
          "execution_count": 24
        }
      ]
    },
    {
      "cell_type": "markdown",
      "source": [
        "Primero mostramos dos ejemplos de las imagenes con indices 17 y 9"
      ],
      "metadata": {
        "id": "204qIaFe8p4I"
      }
    },
    {
      "cell_type": "code",
      "source": [
        "eight_image = X_train[17]\n",
        "plt.imshow(eight_image)"
      ],
      "metadata": {
        "id": "r3HsvSBSyLGs",
        "colab": {
          "base_uri": "https://localhost:8080/",
          "height": 282
        },
        "outputId": "3a11d09a-01fe-4a13-90dc-e1899a0fb910"
      },
      "execution_count": null,
      "outputs": [
        {
          "output_type": "execute_result",
          "data": {
            "text/plain": [
              "<matplotlib.image.AxesImage at 0x7f21da1f4af0>"
            ]
          },
          "metadata": {},
          "execution_count": 25
        },
        {
          "output_type": "display_data",
          "data": {
            "text/plain": [
              "<Figure size 432x288 with 1 Axes>"
            ],
            "image/png": "[encoded data removed]"
          },
          "metadata": {
            "needs_background": "light"
          }
        }
      ]
    },
    {
      "cell_type": "code",
      "source": [
        "nine_image =  X_train[4]\n",
        "plt.imshow(nine_image)"
      ],
      "metadata": {
        "id": "C2nfYTnS8i_D",
        "colab": {
          "base_uri": "https://localhost:8080/",
          "height": 282
        },
        "outputId": "bc836ecb-ca94-4bac-e393-8e24f88d4387"
      },
      "execution_count": null,
      "outputs": [
        {
          "output_type": "execute_result",
          "data": {
            "text/plain": [
              "<matplotlib.image.AxesImage at 0x7f21da12cc10>"
            ]
          },
          "metadata": {},
          "execution_count": 26
        },
        {
          "output_type": "display_data",
          "data": {
            "text/plain": [
              "<Figure size 432x288 with 1 Axes>"
            ],
            "image/png": "[encoded data removed]"
          },
          "metadata": {
            "needs_background": "light"
          }
        }
      ]
    },
    {
      "cell_type": "markdown",
      "source": [
        "z) Imprima la forma de las matrices que corresponden a las dos imagenes, use el atributo shape."
      ],
      "metadata": {
        "id": "6fCKAQ1eBxvd"
      }
    },
    {
      "cell_type": "code",
      "source": [
        "a = np.shape(eight_image)\n",
        "b = np.shape(nine_image)\n",
        "print(a, b)"
      ],
      "metadata": {
        "id": "9c4Lm4i6B-TX",
        "colab": {
          "base_uri": "https://localhost:8080/"
        },
        "outputId": "75e0971a-f9c8-4648-dc9c-10b77ecc84d8"
      },
      "execution_count": null,
      "outputs": [
        {
          "output_type": "stream",
          "name": "stdout",
          "text": [
            "(28, 28) (28, 28)\n"
          ]
        }
      ]
    },
    {
      "cell_type": "markdown",
      "source": [
        "a) Grafique la imagen que resulta de sumar las dos imagenes"
      ],
      "metadata": {
        "id": "wjkYHEba9FvF"
      }
    },
    {
      "cell_type": "code",
      "source": [
        "image_sum = eight_image + nine_image\n",
        "plt.imshow(image_sum)"
      ],
      "metadata": {
        "id": "hqeHZJQlyjD0",
        "colab": {
          "base_uri": "https://localhost:8080/",
          "height": 282
        },
        "outputId": "f4f5333d-786d-4d39-843e-2af0fcdb510b"
      },
      "execution_count": null,
      "outputs": [
        {
          "output_type": "execute_result",
          "data": {
            "text/plain": [
              "<matplotlib.image.AxesImage at 0x7f21d8a507c0>"
            ]
          },
          "metadata": {},
          "execution_count": 32
        },
        {
          "output_type": "display_data",
          "data": {
            "text/plain": [
              "<Figure size 432x288 with 1 Axes>"
            ],
            "image/png": "[encoded data removed]"
          },
          "metadata": {
            "needs_background": "light"
          }
        }
      ]
    },
    {
      "cell_type": "markdown",
      "source": [
        "b) Grafique la imagen que resulta de restar la imagen del ocho con la imagen del nueve."
      ],
      "metadata": {
        "id": "bj7g6tBg9iZo"
      }
    },
    {
      "cell_type": "code",
      "source": [
        "image_minus = eight_image - nine_image\n",
        "plt.imshow(image_minus)"
      ],
      "metadata": {
        "id": "KBBLih2g9UCL",
        "colab": {
          "base_uri": "https://localhost:8080/",
          "height": 282
        },
        "outputId": "f4c8a7f6-7fb8-4e70-c9a4-c0b882c2fc94"
      },
      "execution_count": null,
      "outputs": [
        {
          "output_type": "execute_result",
          "data": {
            "text/plain": [
              "<matplotlib.image.AxesImage at 0x7f21d89be7f0>"
            ]
          },
          "metadata": {},
          "execution_count": 33
        },
        {
          "output_type": "display_data",
          "data": {
            "text/plain": [
              "<Figure size 432x288 with 1 Axes>"
            ],
            "image/png": "[encoded data removed]"
          },
          "metadata": {
            "needs_background": "light"
          }
        }
      ]
    },
    {
      "cell_type": "markdown",
      "source": [
        "c) Grafique la imagen que resulta de multiplicar pixel por pixel las dos imagenes."
      ],
      "metadata": {
        "id": "t5bFJGc99tkL"
      }
    },
    {
      "cell_type": "code",
      "source": [
        "image_prod = eight_image * nine_image\n",
        "plt.imshow(image_prod)"
      ],
      "metadata": {
        "id": "Lv9v1wnT9dFi",
        "colab": {
          "base_uri": "https://localhost:8080/",
          "height": 282
        },
        "outputId": "6e235e55-6ed1-46bd-9b52-6d3d8eb85642"
      },
      "execution_count": null,
      "outputs": [
        {
          "output_type": "execute_result",
          "data": {
            "text/plain": [
              "<matplotlib.image.AxesImage at 0x7f21d8972730>"
            ]
          },
          "metadata": {},
          "execution_count": 34
        },
        {
          "output_type": "display_data",
          "data": {
            "text/plain": [
              "<Figure size 432x288 with 1 Axes>"
            ],
            "image/png": "[encoded data removed]"
          },
          "metadata": {
            "needs_background": "light"
          }
        }
      ]
    },
    {
      "cell_type": "markdown",
      "source": [
        "d) Grafique la imagen que resulta de hacer un producto matricial entre la imagen del 8 a la izquierda y la imagen del 9 a la derecha."
      ],
      "metadata": {
        "id": "DD3lvP54-Kgu"
      }
    },
    {
      "cell_type": "code",
      "source": [
        "image_dot = np.dot(eight_image, nine_image)\n",
        "plt.imshow(image_dot)"
      ],
      "metadata": {
        "id": "RHPzkZI8-B_L",
        "colab": {
          "base_uri": "https://localhost:8080/",
          "height": 282
        },
        "outputId": "55939d0a-723a-4abd-bdc5-43fc8fcc3e59"
      },
      "execution_count": null,
      "outputs": [
        {
          "output_type": "execute_result",
          "data": {
            "text/plain": [
              "<matplotlib.image.AxesImage at 0x7f21d8720340>"
            ]
          },
          "metadata": {},
          "execution_count": 41
        },
        {
          "output_type": "display_data",
          "data": {
            "text/plain": [
              "<Figure size 432x288 with 1 Axes>"
            ],
            "image/png": "[encoded data removed]"
          },
          "metadata": {
            "needs_background": "light"
          }
        }
      ]
    },
    {
      "cell_type": "markdown",
      "source": [
        "e) ¿Cómo interpreta las imagenes de producto elemento por elemento y producto matricial ?\n",
        "\n",
        "Podemos entender el producto elemento por elemento como una forma de combinar los píxeles de ambas imágenes de modo que, en caso de existir una zona con una entrada igual a 0, se omita ese píxel (se coloreé de azul); mientras que el resto de productos no-nulos solo genera una especie de escalado para con la imágen.\n",
        "\n",
        "Por otro lado, el producto matricial solo puedo observarlo como una combinación lineal de filas y columnas, no con algún significado per se.\n"
      ],
      "metadata": {
        "id": "6IEcWDxK-jXw"
      }
    },
    {
      "cell_type": "markdown",
      "source": [
        "f) Para la imagen del ocho:\n",
        "  (I) calcule con una función de numpy, el entero que corresponde a la suma  total de pixeles. \n",
        "  (II) un array de 28 componentes que corresponde a la suma de pixeles de cada fila. \n",
        "  (III) Un array de 28 componentes que corresponde a la columnna 17 del numero 8.\n",
        "\n",
        "\n",
        "\n"
      ],
      "metadata": {
        "id": "OiumcaaC-z1j"
      }
    },
    {
      "cell_type": "code",
      "source": [
        "## Parte I:\n",
        "\n",
        "suma_total = eight_image.sum()\n",
        "\n",
        "## Parte II:\n",
        "\n",
        "suma_pixeles_filas = eight_image.sum(axis = 1)\n",
        "\n",
        "## Parte III:\n",
        "\n",
        "select_col = np.array(eight_image[:,16])\n",
        "\n",
        "print(suma_total, suma_pixeles_filas, select_col)"
      ],
      "metadata": {
        "id": "UHjpBvUO-dFn",
        "colab": {
          "base_uri": "https://localhost:8080/"
        },
        "outputId": "d55341a7-dc0e-4334-88e4-2839f6229851"
      },
      "execution_count": null,
      "outputs": [
        {
          "output_type": "stream",
          "name": "stdout",
          "text": [
            "27106 [   0    0    0    0    0  475  727 2068 2356 1717 1451 1498 1561 1590\n",
            " 1340 1115 1361 1468 1238 1270 1285 1308 1350 1246  682    0    0    0] [  0   0   0   0   0   0  47 253 161   0  36 178 253 253 179   0   0   0\n",
            "   0   0   0   0   0   0   0   0   0   0]\n"
          ]
        }
      ]
    },
    {
      "cell_type": "markdown",
      "source": [
        "g) Seleccione del conjunto de datos `X_train`, todas las imagenes que corresponden a imagenes del numero 8. Imprima la forma de la matriz resultante (tensor) de todas las imagenes de 8."
      ],
      "metadata": {
        "id": "djmVq_DTBkVn"
      }
    },
    {
      "cell_type": "code",
      "source": [
        "eights_set = []\n",
        "for i in range(len(y_train)):\n",
        "  if y_train[i] == 8:\n",
        "    eights_set.append(X_train[i,:,:])"
      ],
      "metadata": {
        "id": "9_UduV9vBW9J",
        "colab": {
          "base_uri": "https://localhost:8080/"
        },
        "outputId": "203e4ba0-3c00-4e69-b106-cc0083384d65"
      },
      "execution_count": null,
      "outputs": [
        {
          "output_type": "stream",
          "name": "stderr",
          "text": [
            "IOPub data rate exceeded.\n",
            "The notebook server will temporarily stop sending output\n",
            "to the client in order to avoid crashing it.\n",
            "To change this limit, set the config variable\n",
            "`--NotebookApp.iopub_data_rate_limit`.\n",
            "\n",
            "Current values:\n",
            "NotebookApp.iopub_data_rate_limit=1000000.0 (bytes/sec)\n",
            "NotebookApp.rate_limit_window=3.0 (secs)\n",
            "\n"
          ]
        }
      ]
    },
    {
      "cell_type": "markdown",
      "source": [
        "h) Grafique la imagen promedio de todos los ochos. Guarde la imagen en la variable `eight_prom`."
      ],
      "metadata": {
        "id": "tqMhYrVoEJa4"
      }
    },
    {
      "cell_type": "code",
      "source": [
        "eight_prom = np.mean(eights_set, axis = 0)\n",
        "plt.imshow(eight_prom)"
      ],
      "metadata": {
        "id": "xfcwJDGQEQ3s",
        "colab": {
          "base_uri": "https://localhost:8080/",
          "height": 282
        },
        "outputId": "4df87bc1-5a07-4ba5-bfe2-72e8f4f919bb"
      },
      "execution_count": null,
      "outputs": [
        {
          "output_type": "execute_result",
          "data": {
            "text/plain": [
              "<matplotlib.image.AxesImage at 0x7f21d6dd2250>"
            ]
          },
          "metadata": {},
          "execution_count": 52
        },
        {
          "output_type": "display_data",
          "data": {
            "text/plain": [
              "<Figure size 432x288 with 1 Axes>"
            ],
            "image/png": "[encoded data removed]"
          },
          "metadata": {
            "needs_background": "light"
          }
        }
      ]
    },
    {
      "cell_type": "markdown",
      "source": [
        "h) Grafique la imagen del peor ocho comparado con la imagen `eight_prom`, basados en la metrica, distancia euclidiana dada por, \n",
        "\n",
        "$$E_d(\\vec{p}, \\vec{q}) = \\sqrt{\\sum_{i=1}^n(q_i-p_i)^2}$$\n",
        "\n",
        "Donde $\\vec{p}$, $\\vec{q}$ son dos vectores que pertenecen a un espacio de $n$ dimensiones. En nuestro caso $n=784 = 28\\times28$.\n",
        "\n",
        "Es decir grafique la imagen del numero ocho que tiene la mayor distancia euclidiana comparado con el ocho promedio. \n"
      ],
      "metadata": {
        "id": "Z9XKzx9DDYtG"
      }
    },
    {
      "cell_type": "code",
      "source": [
        "def Euclid_Distance(a, b):\n",
        "  return np.sqrt(np.sum(np.square(a - b)))\n",
        "\n",
        "bigger_value = 0\n",
        "image = None\n",
        "for i in eights_set:\n",
        "  E_d = Euclid_Distance(i, eight_prom)\n",
        "  if bigger_value < E_d:\n",
        "    bigger_value = E_d\n",
        "    image = i\n",
        "  \n",
        "plt.imshow(image)"
      ],
      "metadata": {
        "id": "k9Pte5wSDXLL",
        "colab": {
          "base_uri": "https://localhost:8080/",
          "height": 282
        },
        "outputId": "18df21a7-8e24-462f-da7a-4e53e4318e81"
      },
      "execution_count": null,
      "outputs": [
        {
          "output_type": "execute_result",
          "data": {
            "text/plain": [
              "<matplotlib.image.AxesImage at 0x7f21d6d4a580>"
            ]
          },
          "metadata": {},
          "execution_count": 56
        },
        {
          "output_type": "display_data",
          "data": {
            "text/plain": [
              "<Figure size 432x288 with 1 Axes>"
            ],
            "image/png": "[encoded data removed]"
          },
          "metadata": {
            "needs_background": "light"
          }
        }
      ]
    }
  ]
}