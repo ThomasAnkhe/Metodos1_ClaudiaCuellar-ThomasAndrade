{
  "nbformat": 4,
  "nbformat_minor": 0,
  "metadata": {
    "colab": {
      "provenance": []
    },
    "kernelspec": {
      "name": "python3",
      "display_name": "Python 3"
    },
    "language_info": {
      "name": "python"
    }
  },
  "cells": [
    {
      "cell_type": "markdown",
      "source": [
        "## Librerias"
      ],
      "metadata": {
        "id": "ySCvWQe5vxeT"
      }
    },
    {
      "cell_type": "code",
      "source": [
        "import numpy as np\n",
        "import matplotlib.pyplot as plt"
      ],
      "metadata": {
        "id": "VBo2Hv2tv0UR"
      },
      "execution_count": 7,
      "outputs": []
    },
    {
      "cell_type": "markdown",
      "source": [
        "## Problema 1"
      ],
      "metadata": {
        "id": "dEcQng6BpVFN"
      }
    },
    {
      "cell_type": "markdown",
      "source": [
        "Considere un lanzamiento de tiro parabolico, cuya ecuación de trayectoria esta dada por:\n",
        "\n",
        "$$\n",
        "  y(x) = y_0 + (x-x_0) \\tan{\\theta} - \\frac{1}{2}g(\\frac{x-x_0}{v_0\\cos{\\theta}})^2\n",
        "$$\n",
        "\n",
        "Usando $x_0 = 0$, $v_0 = 14 \\text{ m/s}$, $\\theta = \\pi / 4$, $y_0 = 2 \\text{ m}$, $g = 9.8 \\text{m/s}$\n",
        "\n",
        "La idea es gráficar la trayectoria hasta $x= 30 \\text{ m}$. Para ello siga los siguientes pasos."
      ],
      "metadata": {
        "id": "XuwEcc_9pmWP"
      }
    },
    {
      "cell_type": "markdown",
      "source": [
        "a) Cree una variable del tipo numpy array `x`, que corresponde a 100 puntos entre (0, **30**), use el siguiente [notebook](https://github.com/diegour1/CompMetodosComputacionales/blob/main/Notebooks/01%20-%20numpy.ipynb) como guia. \n",
        "\n"
      ],
      "metadata": {
        "id": "dLd7MV_4sZKj"
      }
    },
    {
      "cell_type": "code",
      "source": [
        "## tu codigo aqui\n",
        "x = np.linspace(0,30,100)"
      ],
      "metadata": {
        "id": "6nviPNHUsVDI"
      },
      "execution_count": 8,
      "outputs": []
    },
    {
      "cell_type": "markdown",
      "source": [
        "b) Calcule $y(x)$ que corresponde a $y$ para los 100 puntos anteriores. Guarde el valor en la variable del tipo numpy array `y`. No es posible usar ciclos como while o for, use las funciones de numpy como `np.tan`"
      ],
      "metadata": {
        "id": "GaSi1d1htKV6"
      }
    },
    {
      "cell_type": "code",
      "source": [
        "## tu codigo aqui\n",
        "y = np. array(2 + x*(np.tan(np.pi/4)) - (1/2)*(9.8)*(x/(14*np.cos(np.pi/4)))**2)"
      ],
      "metadata": {
        "id": "savF-u4tuLth"
      },
      "execution_count": 9,
      "outputs": []
    },
    {
      "cell_type": "markdown",
      "source": [
        "c) Use `matplotlib`, para gráficar $y(x)$. Ponerle etiquetas a los ejes con unidades."
      ],
      "metadata": {
        "id": "svKxv5efuLL3"
      }
    },
    {
      "cell_type": "code",
      "source": [
        "## tu codigo aqui\n",
        "plt.scatter(x,y,marker='*',s=100)\n",
        "plt.xlabel(r'$m$',fontsize=15)\n",
        "plt.ylabel(r'$m$',fontsize=15)\n",
        "plt.axhline(color='k',ls='-')"
      ],
      "metadata": {
        "id": "nHzCn9TSueeT",
        "colab": {
          "base_uri": "https://localhost:8080/",
          "height": 301
        },
        "outputId": "c35ddc2d-8622-443d-e8d2-57af06fb3099"
      },
      "execution_count": 16,
      "outputs": [
        {
          "output_type": "execute_result",
          "data": {
            "text/plain": [
              "<matplotlib.lines.Line2D at 0x7fe8d838f820>"
            ]
          },
          "metadata": {},
          "execution_count": 16
        },
        {
          "output_type": "display_data",
          "data": {
            "text/plain": [
              "<Figure size 432x288 with 1 Axes>"
            ],
            "image/png": "[encoded data removed]"
          },
          "metadata": {
            "needs_background": "light"
          }
        }
      ]
    },
    {
      "cell_type": "markdown",
      "metadata": {
        "id": "ZsOww6v6DmA1"
      },
      "source": [
        "## Problema 2\n",
        "\n",
        "A partir del conjunto de entrenamiento de los datos MNIST (imágenes de números escritos a mano) en este problema vamos a operar imagenes de pixeles. Use este [notebook](https://github.com/diegour1/CompMetodosComputacionales/blob/main/Notebooks/01%20-%20numpy.ipynb) como referencia.\n",
        "\n",
        " \n"
      ]
    },
    {
      "cell_type": "code",
      "source": [
        "# Download the dataset\n",
        "# no modificar este codigo\n",
        "from keras.datasets import mnist\n",
        "\n",
        "(X_train, y_train), (X_test, y_test) = mnist.load_data()\n",
        "\n",
        "X_train.shape, X_test.shape, y_train.shape, y_test.shape"
      ],
      "metadata": {
        "colab": {
          "base_uri": "https://localhost:8080/"
        },
        "id": "ZZe8o13_xTwc",
        "outputId": "57924b9b-51ad-46f4-841f-e20b2e5fa697"
      },
      "execution_count": 17,
      "outputs": [
        {
          "output_type": "stream",
          "name": "stdout",
          "text": [
            "Downloading data from https://storage.googleapis.com/tensorflow/tf-keras-datasets/mnist.npz\n",
            "11490434/11490434 [==============================] - 0s 0us/step\n"
          ]
        },
        {
          "output_type": "execute_result",
          "data": {
            "text/plain": [
              "((60000, 28, 28), (10000, 28, 28), (60000,), (10000,))"
            ]
          },
          "metadata": {},
          "execution_count": 17
        }
      ]
    },
    {
      "cell_type": "markdown",
      "source": [
        "Primero mostramos dos ejemplos de las imagenes con indices 17 y 9"
      ],
      "metadata": {
        "id": "204qIaFe8p4I"
      }
    },
    {
      "cell_type": "code",
      "source": [
        "# no modificar este codigo \n",
        "\n",
        "eight_image = X_train[17]\n",
        "\n",
        "plt.imshow(eight_image)"
      ],
      "metadata": {
        "id": "r3HsvSBSyLGs",
        "colab": {
          "base_uri": "https://localhost:8080/",
          "height": 282
        },
        "outputId": "193710d2-2505-480d-8ebc-b38389f85ac6"
      },
      "execution_count": 18,
      "outputs": [
        {
          "output_type": "execute_result",
          "data": {
            "text/plain": [
              "<matplotlib.image.AxesImage at 0x7fe87a6038e0>"
            ]
          },
          "metadata": {},
          "execution_count": 18
        },
        {
          "output_type": "display_data",
          "data": {
            "text/plain": [
              "<Figure size 432x288 with 1 Axes>"
            ],
            "image/png": "[encoded data removed]"
          },
          "metadata": {
            "needs_background": "light"
          }
        }
      ]
    },
    {
      "cell_type": "code",
      "source": [
        "# no modificar este codigo \n",
        "\n",
        "nine_image =  X_train[4]\n",
        "plt.imshow(nine_image)"
      ],
      "metadata": {
        "id": "C2nfYTnS8i_D",
        "colab": {
          "base_uri": "https://localhost:8080/",
          "height": 282
        },
        "outputId": "2905afb0-471d-41d0-d246-fbd9a41a7968"
      },
      "execution_count": 19,
      "outputs": [
        {
          "output_type": "execute_result",
          "data": {
            "text/plain": [
              "<matplotlib.image.AxesImage at 0x7fe87a5ea6a0>"
            ]
          },
          "metadata": {},
          "execution_count": 19
        },
        {
          "output_type": "display_data",
          "data": {
            "text/plain": [
              "<Figure size 432x288 with 1 Axes>"
            ],
            "image/png": "[encoded data removed]"
          },
          "metadata": {
            "needs_background": "light"
          }
        }
      ]
    },
    {
      "cell_type": "markdown",
      "source": [
        "z) Imprima la forma de las matrices que corresponden a las dos imagenes, use el atributo shape."
      ],
      "metadata": {
        "id": "6fCKAQ1eBxvd"
      }
    },
    {
      "cell_type": "code",
      "source": [
        "## tu codigo aqui\n",
        "print(np.shape(eight_image),np.shape(nine_image))"
      ],
      "metadata": {
        "id": "9c4Lm4i6B-TX",
        "colab": {
          "base_uri": "https://localhost:8080/"
        },
        "outputId": "7add5b11-e0e1-4a45-ecec-286c6b38e4f4"
      },
      "execution_count": 20,
      "outputs": [
        {
          "output_type": "stream",
          "name": "stdout",
          "text": [
            "(28, 28) (28, 28)\n"
          ]
        }
      ]
    },
    {
      "cell_type": "markdown",
      "source": [
        "a) Grafique la imagen que resulta de sumar las dos imagenes"
      ],
      "metadata": {
        "id": "wjkYHEba9FvF"
      }
    },
    {
      "cell_type": "code",
      "source": [
        "# tu codigo aqui\n",
        "suma_matrices=eight_image+nine_image\n",
        "plt.imshow(suma_matrices)"
      ],
      "metadata": {
        "id": "hqeHZJQlyjD0",
        "colab": {
          "base_uri": "https://localhost:8080/",
          "height": 282
        },
        "outputId": "23c68bff-3503-40fe-ba18-9808e6a50eac"
      },
      "execution_count": 21,
      "outputs": [
        {
          "output_type": "execute_result",
          "data": {
            "text/plain": [
              "<matplotlib.image.AxesImage at 0x7fe87a5443a0>"
            ]
          },
          "metadata": {},
          "execution_count": 21
        },
        {
          "output_type": "display_data",
          "data": {
            "text/plain": [
              "<Figure size 432x288 with 1 Axes>"
            ],
            "image/png": "[encoded data removed]"
          },
          "metadata": {
            "needs_background": "light"
          }
        }
      ]
    },
    {
      "cell_type": "markdown",
      "source": [
        "b) Grafique la imagen que resulta de restar la imagen del ocho con la imagen del nueve."
      ],
      "metadata": {
        "id": "bj7g6tBg9iZo"
      }
    },
    {
      "cell_type": "code",
      "source": [
        "# tu codigo aqui\n",
        "resta_matrices=eight_image-nine_image\n",
        "plt.imshow(resta_matrices)\n"
      ],
      "metadata": {
        "id": "KBBLih2g9UCL",
        "colab": {
          "base_uri": "https://localhost:8080/",
          "height": 282
        },
        "outputId": "fdd23c64-ee1f-4239-9132-d8cbb1baf87e"
      },
      "execution_count": 22,
      "outputs": [
        {
          "output_type": "execute_result",
          "data": {
            "text/plain": [
              "<matplotlib.image.AxesImage at 0x7fe87a519190>"
            ]
          },
          "metadata": {},
          "execution_count": 22
        },
        {
          "output_type": "display_data",
          "data": {
            "text/plain": [
              "<Figure size 432x288 with 1 Axes>"
            ],
            "image/png": "[encoded data removed]"
          },
          "metadata": {
            "needs_background": "light"
          }
        }
      ]
    },
    {
      "cell_type": "markdown",
      "source": [
        "c) Grafique la imagen que resulta de multiplicar pixel por pixel las dos imagenes."
      ],
      "metadata": {
        "id": "t5bFJGc99tkL"
      }
    },
    {
      "cell_type": "code",
      "source": [
        "# tu codigo aqui\n",
        "multi_matrices=eight_image*nine_image\n",
        "plt.imshow(multi_matrices)\n"
      ],
      "metadata": {
        "id": "Lv9v1wnT9dFi",
        "colab": {
          "base_uri": "https://localhost:8080/",
          "height": 282
        },
        "outputId": "a5ce6d7d-e7eb-4e8c-cc8e-64c14e4fc773"
      },
      "execution_count": 23,
      "outputs": [
        {
          "output_type": "execute_result",
          "data": {
            "text/plain": [
              "<matplotlib.image.AxesImage at 0x7fe87a4e2f40>"
            ]
          },
          "metadata": {},
          "execution_count": 23
        },
        {
          "output_type": "display_data",
          "data": {
            "text/plain": [
              "<Figure size 432x288 with 1 Axes>"
            ],
            "image/png": "[encoded data removed]"
          },
          "metadata": {
            "needs_background": "light"
          }
        }
      ]
    },
    {
      "cell_type": "markdown",
      "source": [
        "d) Grafique la imagen que resulta de hacer un producto matricial entre la imagen del 8 a la izquierda y la imagen del 9 a la derecha."
      ],
      "metadata": {
        "id": "DD3lvP54-Kgu"
      }
    },
    {
      "cell_type": "code",
      "source": [
        "# tu codigo aqui\n",
        "cruz_matrices=np.dot(eight_image,nine_image)\n",
        "plt.imshow(cruz_matrices)"
      ],
      "metadata": {
        "id": "RHPzkZI8-B_L",
        "colab": {
          "base_uri": "https://localhost:8080/",
          "height": 282
        },
        "outputId": "0c5aa82a-bece-47e1-c60d-91c1b0b383c1"
      },
      "execution_count": 24,
      "outputs": [
        {
          "output_type": "execute_result",
          "data": {
            "text/plain": [
              "<matplotlib.image.AxesImage at 0x7fe87a4b9dc0>"
            ]
          },
          "metadata": {},
          "execution_count": 24
        },
        {
          "output_type": "display_data",
          "data": {
            "text/plain": [
              "<Figure size 432x288 with 1 Axes>"
            ],
            "image/png": "[encoded data removed]"
          },
          "metadata": {
            "needs_background": "light"
          }
        }
      ]
    },
    {
      "cell_type": "markdown",
      "source": [
        "e) Cómo interpreta las imagenes de producto elemento por elemento y producto matricial ?\n",
        "\n",
        "\n",
        "\n",
        "El producto elemento a elemento gráficamente se logra observar como una mueva de la imagen nueva reescrita con las dimensiones correspondientes a la matriz de la imagen ocho. En cambio, el producto cruz o producto matricial se observa directamente la multiplicación entre las filas y las columnas de las matrices respectivamente.\n",
        "\n"
      ],
      "metadata": {
        "id": "6IEcWDxK-jXw"
      }
    },
    {
      "cell_type": "markdown",
      "source": [
        "f) Para la imagen del ocho, I) calcule con una función de numpy, el entero que corresponde a la suma total de pixeles. II) un array de 28 componentes que corresponde a la suma de pixeles de cada fila. III) Un array de 28 componentes que corresponde a la columnna 17 del numero 8."
      ],
      "metadata": {
        "id": "OiumcaaC-z1j"
      }
    },
    {
      "cell_type": "code",
      "source": [
        "## parte I codigo aqui\n",
        "\n",
        "suma_total = eight_image.sum()\n",
        "\n",
        "## parte II codigo aqui\n",
        "\n",
        "suma_pixeles_filas = eight_image.sum(axis = 1)\n",
        "\n",
        "## parte III codigo aqui\n",
        "\n",
        "select_col = np.array(eight_image[:,16])\n",
        "\n",
        "print(suma_total, suma_pixeles_filas, select_col)"
      ],
      "metadata": {
        "id": "UHjpBvUO-dFn",
        "colab": {
          "base_uri": "https://localhost:8080/"
        },
        "outputId": "0e313b4d-4466-4c5b-8b92-cb184c2e8150"
      },
      "execution_count": 25,
      "outputs": [
        {
          "output_type": "stream",
          "name": "stdout",
          "text": [
            "27106 [   0    0    0    0    0  475  727 2068 2356 1717 1451 1498 1561 1590\n",
            " 1340 1115 1361 1468 1238 1270 1285 1308 1350 1246  682    0    0    0] [  0   0   0   0   0   0  47 253 161   0  36 178 253 253 179   0   0   0\n",
            "   0   0   0   0   0   0   0   0   0   0]\n"
          ]
        }
      ]
    },
    {
      "cell_type": "markdown",
      "source": [
        "g) Seleccione del conjunto de datos `X_train`, todas las imagenes que corresponden a imagenes del numero 8. Imprima la forma de la matriz resultante (tensor) de todas las imagenes de 8."
      ],
      "metadata": {
        "id": "djmVq_DTBkVn"
      }
    },
    {
      "cell_type": "code",
      "source": [
        "## tu codigo aqui\n",
        "ochos = []\n",
        "for i in range(len(y_train)):\n",
        "  if y_train[i] == 8:\n",
        "    imagen=X_train[i,:,:]\n",
        "    ochos.append(imagen)\n",
        "\n",
        "print(ochos)"
      ],
      "metadata": {
        "id": "9_UduV9vBW9J",
        "colab": {
          "base_uri": "https://localhost:8080/"
        },
        "outputId": "a937e08b-b153-48aa-d7cd-f92b9f56a78a"
      },
      "execution_count": 27,
      "outputs": [
        {
          "output_type": "stream",
          "name": "stderr",
          "text": [
            "IOPub data rate exceeded.\n",
            "The notebook server will temporarily stop sending output\n",
            "to the client in order to avoid crashing it.\n",
            "To change this limit, set the config variable\n",
            "`--NotebookApp.iopub_data_rate_limit`.\n",
            "\n",
            "Current values:\n",
            "NotebookApp.iopub_data_rate_limit=1000000.0 (bytes/sec)\n",
            "NotebookApp.rate_limit_window=3.0 (secs)\n",
            "\n"
          ]
        }
      ]
    },
    {
      "cell_type": "markdown",
      "source": [
        "h) Grafique la imagen promedio de todos los ochos. Guarde la imagen en la variable `eight_prom`."
      ],
      "metadata": {
        "id": "tqMhYrVoEJa4"
      }
    },
    {
      "cell_type": "code",
      "source": [
        "## tu codigo aqui\n",
        "eight_prom=np.mean(ochos,axis=0)\n",
        "plt.imshow(eight_prom)"
      ],
      "metadata": {
        "id": "xfcwJDGQEQ3s",
        "colab": {
          "base_uri": "https://localhost:8080/",
          "height": 282
        },
        "outputId": "d4dd7556-e0f3-485e-ca08-3d8f06706023"
      },
      "execution_count": 29,
      "outputs": [
        {
          "output_type": "execute_result",
          "data": {
            "text/plain": [
              "<matplotlib.image.AxesImage at 0x7fe878a81970>"
            ]
          },
          "metadata": {},
          "execution_count": 29
        },
        {
          "output_type": "display_data",
          "data": {
            "text/plain": [
              "<Figure size 432x288 with 1 Axes>"
            ],
            "image/png": "[encoded data removed]"
          },
          "metadata": {
            "needs_background": "light"
          }
        }
      ]
    },
    {
      "cell_type": "markdown",
      "source": [
        "h) Grafique la imagen del peor ocho comparado con la imagen `eight_prom`, basados en la metrica, distancia euclidiana dada por, \n",
        "\n",
        "$$E_d(\\vec{p}, \\vec{q}) = \\sqrt{\\sum_{i=1}^n(q_i-p_i)^2}$$\n",
        "\n",
        "Donde $\\vec{p}$, $\\vec{q}$ son dos vectores que pertenecen a un espacio de $n$ dimensiones. En nuestro caso $n=784 = 28\\times28$.\n",
        "\n",
        "Es decir grafique la imagen del numero ocho que tiene la mayor distancia euclidiana comparado con el ocho promedio. \n"
      ],
      "metadata": {
        "id": "Z9XKzx9DDYtG"
      }
    },
    {
      "cell_type": "code",
      "source": [
        "## tu codigo aqui\n",
        "mayor=0\n",
        "final=None\n",
        "\n",
        "for i in ochos:\n",
        "  e_d = np.sqrt(np.sum(np.square(i-eight_prom)))\n",
        "  if mayor < e_d:\n",
        "    mayor=e_d\n",
        "    final=i\n",
        "\n",
        "plt.imshow(final)\n"
      ],
      "metadata": {
        "id": "k9Pte5wSDXLL",
        "colab": {
          "base_uri": "https://localhost:8080/",
          "height": 282
        },
        "outputId": "46d427e0-f575-4285-85ab-a583567208e8"
      },
      "execution_count": 30,
      "outputs": [
        {
          "output_type": "execute_result",
          "data": {
            "text/plain": [
              "<matplotlib.image.AxesImage at 0x7fe878a55ee0>"
            ]
          },
          "metadata": {},
          "execution_count": 30
        },
        {
          "output_type": "display_data",
          "data": {
            "text/plain": [
              "<Figure size 432x288 with 1 Axes>"
            ],
            "image/png": "[encoded data removed]"
          },
          "metadata": {
            "needs_background": "light"
          }
        }
      ]
    }
  ]
}