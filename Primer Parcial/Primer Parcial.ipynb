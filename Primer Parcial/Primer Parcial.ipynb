{
 "cells": [
  {
   "attachments": {},
   "cell_type": "markdown",
   "metadata": {},
   "source": [
    "> **# Primer parcial, Métodos Computacionales**\n",
    "\n",
    "Código realizado por Claudia Cuellar Nieto & Thomas Andrade Hernández.\n",
    "\n",
    "**Primer punto:** El operador derivada central de orden superior se puede ver como una combinación lineal de las imágenes del conjunto soporte:\n",
    "\n",
    "$$\\frac{df(x)}{dx} \\cong \\sum_{i = -n}^{n}{c_{i + n} \\cdot f(x + ih)}.$$\n",
    "\n",
    "donde $n$ representa el número de vecinos del punto de la estimación, por ejemplo, para $n = 2$ se tiene: $X = \\{−2h, −h, 0, h, 2h\\}$. La primera derivada es entonces:\n",
    "\n",
    "$$\\frac{df(x)}{dx} \\cong c_{0} \\cdot f(x - 2h) + c_{1} \\cdot f(x - h) + c_{2} \\cdot f(x) + c_{3} \\cdot f(x + h) + c_{4} \\cdot f(x + 2h)$$\n",
    "\n",
    "El procedimiento de interpolación permite calcular el valor de los coeficientes y establecer el orden de aproximación de la derivada $(\\mathcal{O}(h^{k}))$. Los coeficientes del operador están dados por las derivadas de las funciones cardinales evaluadas en el punto central $X[2] = 0$:\n",
    "\n",
    "$$c_{i} = \\frac{\\mathcal{L}_{i}(x)}{dx}, \\quad x = 0$$\n",
    "\n",
    "Para cinco puntos nodales los coeficientes son:\n",
    "\n",
    "$$\\vec{c} = \\left[ +\\frac{1}{12h}, - \\frac{2}{3h}, 0, +\\frac{2}{3h}, -\\frac{1}{12} \\right]$$"
   ]
  },
  {
   "cell_type": "code",
   "execution_count": 7,
   "metadata": {},
   "outputs": [
    {
     "ename": "TypeError",
     "evalue": "'Add' object is not callable",
     "output_type": "error",
     "traceback": [
      "\u001b[1;31m---------------------------------------------------------------------------\u001b[0m",
      "\u001b[1;31mTypeError\u001b[0m                                 Traceback (most recent call last)",
      "\u001b[1;32mc:\\Users\\Darck\\OneDrive\\Escritorio\\Métodos Computacionales - Primer Parcial\\Primer Parcial.ipynb Celda 2\u001b[0m in \u001b[0;36m<module>\u001b[1;34m\u001b[0m\n\u001b[0;32m     <a href='vscode-notebook-cell:/c%3A/Users/Darck/OneDrive/Escritorio/M%C3%A9todos%20Computacionales%20-%20Primer%20Parcial/Primer%20Parcial.ipynb#W2sZmlsZQ%3D%3D?line=39'>40</a>\u001b[0m         diff_lagrange(\u001b[39m0\u001b[39m)  \n\u001b[0;32m     <a href='vscode-notebook-cell:/c%3A/Users/Darck/OneDrive/Escritorio/M%C3%A9todos%20Computacionales%20-%20Primer%20Parcial/Primer%20Parcial.ipynb#W2sZmlsZQ%3D%3D?line=40'>41</a>\u001b[0m     \u001b[39m#return Coefficients\u001b[39;00m\n\u001b[1;32m---> <a href='vscode-notebook-cell:/c%3A/Users/Darck/OneDrive/Escritorio/M%C3%A9todos%20Computacionales%20-%20Primer%20Parcial/Primer%20Parcial.ipynb#W2sZmlsZQ%3D%3D?line=42'>43</a>\u001b[0m GetCoefficients(x, x_, \u001b[39m5\u001b[39;49m)\n",
      "\u001b[1;32mc:\\Users\\Darck\\OneDrive\\Escritorio\\Métodos Computacionales - Primer Parcial\\Primer Parcial.ipynb Celda 2\u001b[0m in \u001b[0;36mGetCoefficients\u001b[1;34m(x, x_, p)\u001b[0m\n\u001b[0;32m     <a href='vscode-notebook-cell:/c%3A/Users/Darck/OneDrive/Escritorio/M%C3%A9todos%20Computacionales%20-%20Primer%20Parcial/Primer%20Parcial.ipynb#W2sZmlsZQ%3D%3D?line=37'>38</a>\u001b[0m lagrange \u001b[39m=\u001b[39m Partial_Polynomia(x, x_, i)\n\u001b[0;32m     <a href='vscode-notebook-cell:/c%3A/Users/Darck/OneDrive/Escritorio/M%C3%A9todos%20Computacionales%20-%20Primer%20Parcial/Primer%20Parcial.ipynb#W2sZmlsZQ%3D%3D?line=38'>39</a>\u001b[0m diff_lagrange \u001b[39m=\u001b[39m sym\u001b[39m.\u001b[39mdiff(lagrange, x, \u001b[39m1\u001b[39m)\n\u001b[1;32m---> <a href='vscode-notebook-cell:/c%3A/Users/Darck/OneDrive/Escritorio/M%C3%A9todos%20Computacionales%20-%20Primer%20Parcial/Primer%20Parcial.ipynb#W2sZmlsZQ%3D%3D?line=39'>40</a>\u001b[0m diff_lagrange(\u001b[39m0\u001b[39;49m)\n",
      "\u001b[1;31mTypeError\u001b[0m: 'Add' object is not callable"
     ]
    }
   ],
   "source": [
    "import numpy as np\n",
    "import sympy as sym\n",
    "\n",
    "x = sym.Symbol('x', real = True)\n",
    "h = sym.Symbol('h', real = True)\n",
    "\n",
    "x_ = [-2*h, -1*h, 0*h, 1*h, 2*h]\n",
    "\n",
    "# Función de Lagrange:\n",
    "\n",
    "def Partial_Polynomia(x, x_, j):\n",
    "    \"\"\" La función genera los polinomios auxiliares que sirven para poder construir el\n",
    "    polinomio interpolador de Lagrange.\n",
    "    \"\"\"\n",
    "    init_poly = 1\n",
    "    iterations = len(x_)\n",
    "    for i in range(iterations):\n",
    "        if i != j:\n",
    "            init_poly *= (x - x_[i])/(x_[j] - x_[i])\n",
    "    return init_poly\n",
    "\n",
    "def Lagrange_Interpolaton(x, x_, y_):\n",
    "    \"\"\" Apoyados de la función \"Partial_Polynomia\" se elabora el procedimiento que construye\n",
    "    completamente al polinomio interpolador de Lagrange. Con una cantidad másiva de puntos\n",
    "    el procedimiento tiende a ser ineficiente. No asegura que el grado del polinomio sea\n",
    "    mínimo.\n",
    "    \"\"\"\n",
    "    polynomia = 0.0\n",
    "    iterations = len(x_)\n",
    "    for i in range(iterations):\n",
    "\n",
    "        polynomia += y_[i] * Partial_Polynomia(x, x_, i)\n",
    "    return polynomia\n",
    "\n",
    "def GetCoefficients(x, x_, p):\n",
    "    Coefficients = []\n",
    "    for i in range(0, p):\n",
    "        lagrange = Partial_Polynomia(x, x_, i)\n",
    "        diff_lagrange = sym.diff(lagrange, x, 1)\n",
    "        diff_lagrange(0)  \n",
    "    #return Coefficients\n",
    "\n",
    "print(diff_lagrange\n"
   ]
  }
 ],
 "metadata": {
  "kernelspec": {
   "display_name": "Python 3",
   "language": "python",
   "name": "python3"
  },
  "language_info": {
   "codemirror_mode": {
    "name": "ipython",
    "version": 3
   },
   "file_extension": ".py",
   "mimetype": "text/x-python",
   "name": "python",
   "nbconvert_exporter": "python",
   "pygments_lexer": "ipython3",
   "version": "3.10.8"
  },
  "orig_nbformat": 4,
  "vscode": {
   "interpreter": {
    "hash": "0af4f2c9c0a2840e15ec1e3955baa2d8289022cf6ae1d6cc05b182c20ed9389b"
   }
  }
 },
 "nbformat": 4,
 "nbformat_minor": 2
}
